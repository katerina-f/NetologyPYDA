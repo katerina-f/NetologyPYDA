{
 "cells": [
  {
   "cell_type": "markdown",
   "metadata": {},
   "source": [
    "Задание 1\n",
    "Печатные газеты использовали свой формат дат для каждого выпуска. \n",
    "Для каждой газеты из списка напишите формат указанной даты для перевода в объект datetime:\n",
    "The Moscow Times - Wednesday, October 2, 2002\n",
    "The Guardian - Friday, 11.10.13\n",
    "Daily News - Thursday, 18 August 1977"
   ]
  },
  {
   "cell_type": "code",
   "execution_count": 1,
   "metadata": {},
   "outputs": [],
   "source": [
    "from datetime import datetime, timedelta"
   ]
  },
  {
   "cell_type": "code",
   "execution_count": 2,
   "metadata": {},
   "outputs": [
    {
     "name": "stdout",
     "output_type": "stream",
     "text": [
      "2002-10-02 00:00:00\n",
      "America: 2013-11-10 00:00:00, Europe: 2013-10-11 00:00:00\n",
      "1977-08-18 00:00:00\n"
     ]
    }
   ],
   "source": [
    "first = \"The Moscow Times - Wednesday, October 2, 2002\".split(\"-\")[1].strip()\n",
    "second = \"The Guardian - Friday, 11.10.13\".split(\"-\")[1].strip()\n",
    "third = \"Daily News - Thursday, 18 August 1977\".split(\"-\")[1].strip()\n",
    "\n",
    "dt_first = datetime.strptime(first, \"%A, %B %d, %Y\")\n",
    "\n",
    "dt_second_american = datetime.strptime(second, \"%A, %m.%d.%y\")\n",
    "dt_second_europe = datetime.strptime(second, \"%A, %d.%m.%y\")\n",
    "\n",
    "dt_third = datetime.strptime(third, \"%A, %d %B %Y\")\n",
    "\n",
    "print(dt_first, f\"America: {dt_second_american}, Europe: {dt_second_europe}\", dt_third, sep=\"\\n\")\n",
    "\n",
    "\n"
   ]
  },
  {
   "cell_type": "markdown",
   "metadata": {},
   "source": [
    "Задание 2\n",
    "Дан поток дат в формате YYYY-MM-DD, в которых встречаются некорректные значения:\n",
    "stream = ['2018-04-02', '2018-02-29', '2018-19-02']\n",
    "\n",
    "Напишите функцию, которая проверяет эти даты на корректность. \n",
    "Т. е. для каждой даты возвращает True (дата корректна) или False (некорректная дата). "
   ]
  },
  {
   "cell_type": "code",
   "execution_count": 3,
   "metadata": {},
   "outputs": [],
   "source": [
    "stream = ['2018-04-02', '2018-02-29', '2018-19-02']\n",
    "def validate_date(date):\n",
    "    try:\n",
    "        dt = datetime.strptime(date, \"%Y-%m-%d\")\n",
    "    except ValueError:\n",
    "        return False\n",
    "    return True"
   ]
  },
  {
   "cell_type": "code",
   "execution_count": 4,
   "metadata": {},
   "outputs": [
    {
     "name": "stdout",
     "output_type": "stream",
     "text": [
      "Date is valid: True\n",
      "Date is valid: False\n",
      "Date is valid: False\n"
     ]
    }
   ],
   "source": [
    "for d in stream:\n",
    "    print(f\"Date is valid: {validate_date(d)}\")"
   ]
  },
  {
   "cell_type": "markdown",
   "metadata": {},
   "source": [
    "Задание 3\n",
    "Напишите функцию date_range, которая возвращает список дат за период от start_date до end_date. \n",
    "Даты должны вводиться в формате YYYY-MM-DD. \n",
    "В случае неверного формата или при start_date > end_date должен возвращаться пустой список."
   ]
  },
  {
   "cell_type": "code",
   "execution_count": 5,
   "metadata": {},
   "outputs": [
    {
     "data": {
      "text/plain": [
       "['2018-04-02',\n",
       " '2018-04-03',\n",
       " '2018-04-04',\n",
       " '2018-04-05',\n",
       " '2018-04-06',\n",
       " '2018-04-07',\n",
       " '2018-04-08',\n",
       " '2018-04-09',\n",
       " '2018-04-10',\n",
       " '2018-04-11',\n",
       " '2018-04-12',\n",
       " '2018-04-13',\n",
       " '2018-04-14',\n",
       " '2018-04-15',\n",
       " '2018-04-16',\n",
       " '2018-04-17',\n",
       " '2018-04-18',\n",
       " '2018-04-19',\n",
       " '2018-04-20',\n",
       " '2018-04-21',\n",
       " '2018-04-22',\n",
       " '2018-04-23',\n",
       " '2018-04-24',\n",
       " '2018-04-25',\n",
       " '2018-04-26',\n",
       " '2018-04-27',\n",
       " '2018-04-28',\n",
       " '2018-04-29',\n",
       " '2018-04-30',\n",
       " '2018-05-01',\n",
       " '2018-05-02',\n",
       " '2018-05-03',\n",
       " '2018-05-04',\n",
       " '2018-05-05',\n",
       " '2018-05-06',\n",
       " '2018-05-07',\n",
       " '2018-05-08',\n",
       " '2018-05-09',\n",
       " '2018-05-10',\n",
       " '2018-05-11',\n",
       " '2018-05-12',\n",
       " '2018-05-13',\n",
       " '2018-05-14',\n",
       " '2018-05-15',\n",
       " '2018-05-16',\n",
       " '2018-05-17',\n",
       " '2018-05-18',\n",
       " '2018-05-19',\n",
       " '2018-05-20',\n",
       " '2018-05-21',\n",
       " '2018-05-22',\n",
       " '2018-05-23',\n",
       " '2018-05-24',\n",
       " '2018-05-25',\n",
       " '2018-05-26',\n",
       " '2018-05-27',\n",
       " '2018-05-28',\n",
       " '2018-05-29',\n",
       " '2018-05-30',\n",
       " '2018-05-31',\n",
       " '2018-06-01',\n",
       " '2018-06-02']"
      ]
     },
     "execution_count": 5,
     "metadata": {},
     "output_type": "execute_result"
    }
   ],
   "source": [
    "def date_range(start_date, end_date):\n",
    "    if not validate_date(start_date) or not validate_date(end_date):\n",
    "        return []\n",
    "    \n",
    "    if start_date > end_date:\n",
    "        return []\n",
    "    \n",
    "    start = datetime.strptime(start_date, \"%Y-%m-%d\")\n",
    "    end = datetime.strptime(end_date, \"%Y-%m-%d\")\n",
    "    \n",
    "    all_dates = []\n",
    "\n",
    "    while start <= end:\n",
    "        all_dates.append(start.strftime('%Y-%m-%d'))\n",
    "        start += timedelta(days=1)\n",
    "    return all_dates\n",
    "    \n",
    "date_range('2018-04-02', '2018-06-02')\n",
    "    "
   ]
  },
  {
   "cell_type": "markdown",
   "metadata": {},
   "source": [
    "Задание 4 (бонусное)\n",
    "Ваш коллега прислал код функции:\n",
    "\n",
    "DEFAULT_USER_COUNT = 3\n",
    "\n",
    "def delete_and_return_last_user(region, default_list=['A100', 'A101', 'A102']):\n",
    "    \"\"\"\n",
    "    Удаляет из списка default_list последнего пользователя \n",
    "    и возвращает ID нового последнего пользователя.\n",
    "    \"\"\"\n",
    "    element_to_delete = default_list[-1]\n",
    "    default_list.remove(element_to_delete)\n",
    "    \n",
    "    return default_list[DEFAULT_USER_COUNT-2]\n",
    "\n",
    "При однократном вызове этой функции все работает корректно:\n",
    "delete_and_return_last_user(1)\n",
    "'A101'\n",
    "\n",
    "Однако, при повторном вызове получается ошибка IndexError: list index out of range.\n",
    "\n",
    "Задание:\n",
    "1. Что значит ошибка list index out of range?\n",
    "2. Почему при первом запуске функция работает корректно, а при втором - нет?"
   ]
  },
  {
   "cell_type": "markdown",
   "metadata": {},
   "source": [
    "1.Ошибка list index out of range значит, что такого индекса нет в диапазоне индексов списка - если длина списка равна 3, диапазон индексов списка от 0 до 2 включительно, если попросить индекс 3 - python выбросит эту ошибку.\n",
    "\n",
    "2.В нашем случае длина списка уменьшается каждый вызов функции, и когда мы пытаемся вернуть значение по индексу 1 в первый вызов функции - в списке два элемента, списку есть что вернуть. Во второй раз в списке уже один элемент, имеющий индекс 0, соответственно запрос по индексу 1 вызовет ошибку. \n",
    "\n",
    "Конкретно в нашей функции может показаться, что мы каждый раз вызываем функцию со списком из трех элементов, но это не так - когда функция инициализировалась в ее аргументах был создан список, определенный участок памяти, с которым мы и работаем. Такой же эффект будет, если мы определим список вне аргументов функции и будем передавать его, как аргумент (в описании функции соответственно тоже изменив именованный аргумент на позиционный) и работать с ним. Если мы будем переопределять этот список (как именованный аргумент) в следующих вызовах и будем контролировать количество элементов в этом списке при вызове этой функции, такая ошибка не возникнет. "
   ]
  },
  {
   "cell_type": "code",
   "execution_count": null,
   "metadata": {},
   "outputs": [],
   "source": []
  }
 ],
 "metadata": {
  "kernelspec": {
   "display_name": "Python 3.7.4 64-bit",
   "language": "python",
   "name": "python37464bit93ac571376e14c93a1d939bfab42d21b"
  },
  "language_info": {
   "codemirror_mode": {
    "name": "ipython",
    "version": 3
   },
   "file_extension": ".py",
   "mimetype": "text/x-python",
   "name": "python",
   "nbconvert_exporter": "python",
   "pygments_lexer": "ipython3",
   "version": "3.7.4"
  }
 },
 "nbformat": 4,
 "nbformat_minor": 4
}
