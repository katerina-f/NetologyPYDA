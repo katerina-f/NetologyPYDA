{
 "cells": [
  {
   "cell_type": "code",
   "execution_count": 1,
   "metadata": {},
   "outputs": [],
   "source": [
    "import numpy as np"
   ]
  },
  {
   "cell_type": "markdown",
   "metadata": {},
   "source": [
    "Смоделировать игру против лотерейного автомата типа “777”. Игрок платит 1 руб., после чего выпадает случайное целое число, равномерно распределенное от 0 до 999. При некоторых значениях числа игрок получает выигрыш (см. справа)\n",
    "\n",
    "Выгодна ли игра игроку?\n",
    "\n",
    "Сколько в среднем приобретает\n",
    "или теряет игрок за одну игру?\n",
    "\n",
    "777: 200 руб.\n",
    "\n",
    "999: 100 руб.\n",
    "\n",
    "555: 50 руб.\n",
    "\n",
    "333: 15 руб.\n",
    "\n",
    "111: 10 руб.\n",
    "\n",
    "*77: 5 руб.\n",
    "\n",
    "**7: 3 руб.\n",
    "\n",
    "*00: 2 руб.\n",
    "\n",
    "**0: 1 руб.\n",
    "\n",
    "*– любая цифра"
   ]
  },
  {
   "cell_type": "code",
   "execution_count": 8,
   "metadata": {},
   "outputs": [],
   "source": [
    "# подготовка данных\n",
    "games = 1000000\n",
    "money = 10000\n",
    "\n",
    "two_sevens = {x: 5 for x in range(1000) if x % 100 == 77}\n",
    "seven = {x: 3 for x in range(1000) if x % 10 == 7}\n",
    "two_zeros = {x: 2 for x in range(1000) if x % 100 == 0}\n",
    "zero = {x: 1 for x in range(1000) if x % 10 == 0}\n",
    "\n",
    "winning_map = {}\n",
    "winning_map.update(seven)\n",
    "winning_map.update(two_sevens)\n",
    "winning_map.update(zero)\n",
    "winning_map.update(two_zeros)\n",
    "winning_map.update({777: 200, 999: 100, 555: 50, 333: 15, 111: 10})"
   ]
  },
  {
   "cell_type": "code",
   "execution_count": 9,
   "metadata": {},
   "outputs": [
    {
     "name": "stdout",
     "output_type": "stream",
     "text": [
      "Средний выигрыш за одну игру: -0.188531\n"
     ]
    }
   ],
   "source": [
    "for i in range(games):\n",
    "    money -= 1\n",
    "    gain = winning_map.get(np.random.randint(1000))\n",
    "    if gain:\n",
    "        money += gain \n",
    "        \n",
    "print(f\"Средний выигрыш за одну игру: {money/games}\")"
   ]
  },
  {
   "cell_type": "markdown",
   "metadata": {},
   "source": [
    "Средний проигрыш в одной игре составляет примерно 20 копеек - игрок обанкротится, игра не выгодна. "
   ]
  }
 ],
 "metadata": {
  "kernelspec": {
   "display_name": "Python 3.7.4 64-bit",
   "language": "python",
   "name": "python37464bit93ac571376e14c93a1d939bfab42d21b"
  },
  "language_info": {
   "codemirror_mode": {
    "name": "ipython",
    "version": 3
   },
   "file_extension": ".py",
   "mimetype": "text/x-python",
   "name": "python",
   "nbconvert_exporter": "python",
   "pygments_lexer": "ipython3",
   "version": "3.7.4"
  }
 },
 "nbformat": 4,
 "nbformat_minor": 4
}
