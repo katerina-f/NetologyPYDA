{
 "cells": [
  {
   "cell_type": "markdown",
   "metadata": {},
   "source": [
    "#### Обязательная часть\n",
    "\n",
    "Вам необходимо провести базовый EDA выбранного набора данных.\n",
    "\n",
    "##### Требования к анализу:\n",
    "\n",
    "- построить не менее 4 визуализаций различных видов;\n",
    "- каждая визуализация должным образом оформлена и читается даже в отрыве от контекста;\n",
    "- по каждой визуализации необходимо написать вывод (какую гипотезу на ее основе можно выдвинуть?).\n",
    "\n",
    "#### Дополнительная часть (необязательная)\n",
    "\n",
    "- построить дополнительно не менее 2 визуализаций (итого не менее 6);\n",
    "- в работе должны присутствовать следующие визуализации: boxplot, heatmap, scatter plot matrix;\n",
    "- не менее двух визуализаций должны быть интерактивными.\n"
   ]
  },
  {
   "cell_type": "code",
   "execution_count": 2,
   "metadata": {},
   "outputs": [
    {
     "data": {
      "text/html": [
       "        <script type=\"text/javascript\">\n",
       "        window.PlotlyConfig = {MathJaxConfig: 'local'};\n",
       "        if (window.MathJax) {MathJax.Hub.Config({SVG: {font: \"STIX-Web\"}});}\n",
       "        if (typeof require !== 'undefined') {\n",
       "        require.undef(\"plotly\");\n",
       "        requirejs.config({\n",
       "            paths: {\n",
       "                'plotly': ['https://cdn.plot.ly/plotly-latest.min']\n",
       "            }\n",
       "        });\n",
       "        require(['plotly'], function(Plotly) {\n",
       "            window._Plotly = Plotly;\n",
       "        });\n",
       "        }\n",
       "        </script>\n",
       "        "
      ]
     },
     "metadata": {},
     "output_type": "display_data"
    }
   ],
   "source": [
    "import pandas as pd\n",
    "import matplotlib.pyplot as plt\n",
    "import seaborn as sns\n",
    "from plotly.offline import init_notebook_mode, iplot\n",
    "import plotly\n",
    "import plotly.graph_objs as go\n",
    "import plotly.express as px\n",
    "\n",
    "init_notebook_mode(connected=True)\n",
    "\n",
    "#увеличим дефолтный размер графиков\n",
    "from pylab import rcParams\n",
    "rcParams['figure.figsize'] = 10,7"
   ]
  },
  {
   "cell_type": "code",
   "execution_count": 3,
   "metadata": {},
   "outputs": [
    {
     "data": {
      "text/html": [
       "<div>\n",
       "<style scoped>\n",
       "    .dataframe tbody tr th:only-of-type {\n",
       "        vertical-align: middle;\n",
       "    }\n",
       "\n",
       "    .dataframe tbody tr th {\n",
       "        vertical-align: top;\n",
       "    }\n",
       "\n",
       "    .dataframe thead th {\n",
       "        text-align: right;\n",
       "    }\n",
       "</style>\n",
       "<table border=\"1\" class=\"dataframe\">\n",
       "  <thead>\n",
       "    <tr style=\"text-align: right;\">\n",
       "      <th></th>\n",
       "      <th>Country</th>\n",
       "      <th>Happiness Rank</th>\n",
       "      <th>Happiness Score</th>\n",
       "      <th>Economy</th>\n",
       "      <th>Health</th>\n",
       "      <th>Freedom</th>\n",
       "      <th>Generosity</th>\n",
       "    </tr>\n",
       "  </thead>\n",
       "  <tbody>\n",
       "    <tr>\n",
       "      <th>2015</th>\n",
       "      <td>Switzerland</td>\n",
       "      <td>1</td>\n",
       "      <td>7.587</td>\n",
       "      <td>1.39651</td>\n",
       "      <td>0.94143</td>\n",
       "      <td>0.66557</td>\n",
       "      <td>0.29678</td>\n",
       "    </tr>\n",
       "    <tr>\n",
       "      <th>2015</th>\n",
       "      <td>Iceland</td>\n",
       "      <td>2</td>\n",
       "      <td>7.561</td>\n",
       "      <td>1.30232</td>\n",
       "      <td>0.94784</td>\n",
       "      <td>0.62877</td>\n",
       "      <td>0.43630</td>\n",
       "    </tr>\n",
       "    <tr>\n",
       "      <th>2015</th>\n",
       "      <td>Denmark</td>\n",
       "      <td>3</td>\n",
       "      <td>7.527</td>\n",
       "      <td>1.32548</td>\n",
       "      <td>0.87464</td>\n",
       "      <td>0.64938</td>\n",
       "      <td>0.34139</td>\n",
       "    </tr>\n",
       "    <tr>\n",
       "      <th>2015</th>\n",
       "      <td>Norway</td>\n",
       "      <td>4</td>\n",
       "      <td>7.522</td>\n",
       "      <td>1.45900</td>\n",
       "      <td>0.88521</td>\n",
       "      <td>0.66973</td>\n",
       "      <td>0.34699</td>\n",
       "    </tr>\n",
       "    <tr>\n",
       "      <th>2015</th>\n",
       "      <td>Canada</td>\n",
       "      <td>5</td>\n",
       "      <td>7.427</td>\n",
       "      <td>1.32629</td>\n",
       "      <td>0.90563</td>\n",
       "      <td>0.63297</td>\n",
       "      <td>0.45811</td>\n",
       "    </tr>\n",
       "    <tr>\n",
       "      <th>...</th>\n",
       "      <td>...</td>\n",
       "      <td>...</td>\n",
       "      <td>...</td>\n",
       "      <td>...</td>\n",
       "      <td>...</td>\n",
       "      <td>...</td>\n",
       "      <td>...</td>\n",
       "    </tr>\n",
       "    <tr>\n",
       "      <th>2019</th>\n",
       "      <td>Rwanda</td>\n",
       "      <td>152</td>\n",
       "      <td>3.334</td>\n",
       "      <td>0.35900</td>\n",
       "      <td>0.61400</td>\n",
       "      <td>0.55500</td>\n",
       "      <td>0.21700</td>\n",
       "    </tr>\n",
       "    <tr>\n",
       "      <th>2019</th>\n",
       "      <td>Tanzania</td>\n",
       "      <td>153</td>\n",
       "      <td>3.231</td>\n",
       "      <td>0.47600</td>\n",
       "      <td>0.49900</td>\n",
       "      <td>0.41700</td>\n",
       "      <td>0.27600</td>\n",
       "    </tr>\n",
       "    <tr>\n",
       "      <th>2019</th>\n",
       "      <td>Afghanistan</td>\n",
       "      <td>154</td>\n",
       "      <td>3.203</td>\n",
       "      <td>0.35000</td>\n",
       "      <td>0.36100</td>\n",
       "      <td>0.00000</td>\n",
       "      <td>0.15800</td>\n",
       "    </tr>\n",
       "    <tr>\n",
       "      <th>2019</th>\n",
       "      <td>Central African Republic</td>\n",
       "      <td>155</td>\n",
       "      <td>3.083</td>\n",
       "      <td>0.02600</td>\n",
       "      <td>0.10500</td>\n",
       "      <td>0.22500</td>\n",
       "      <td>0.23500</td>\n",
       "    </tr>\n",
       "    <tr>\n",
       "      <th>2019</th>\n",
       "      <td>South Sudan</td>\n",
       "      <td>156</td>\n",
       "      <td>2.853</td>\n",
       "      <td>0.30600</td>\n",
       "      <td>0.29500</td>\n",
       "      <td>0.01000</td>\n",
       "      <td>0.20200</td>\n",
       "    </tr>\n",
       "  </tbody>\n",
       "</table>\n",
       "<p>782 rows × 7 columns</p>\n",
       "</div>"
      ],
      "text/plain": [
       "                       Country  Happiness Rank  Happiness Score  Economy  \\\n",
       "2015               Switzerland               1            7.587  1.39651   \n",
       "2015                   Iceland               2            7.561  1.30232   \n",
       "2015                   Denmark               3            7.527  1.32548   \n",
       "2015                    Norway               4            7.522  1.45900   \n",
       "2015                    Canada               5            7.427  1.32629   \n",
       "...                        ...             ...              ...      ...   \n",
       "2019                    Rwanda             152            3.334  0.35900   \n",
       "2019                  Tanzania             153            3.231  0.47600   \n",
       "2019               Afghanistan             154            3.203  0.35000   \n",
       "2019  Central African Republic             155            3.083  0.02600   \n",
       "2019               South Sudan             156            2.853  0.30600   \n",
       "\n",
       "       Health  Freedom  Generosity  \n",
       "2015  0.94143  0.66557     0.29678  \n",
       "2015  0.94784  0.62877     0.43630  \n",
       "2015  0.87464  0.64938     0.34139  \n",
       "2015  0.88521  0.66973     0.34699  \n",
       "2015  0.90563  0.63297     0.45811  \n",
       "...       ...      ...         ...  \n",
       "2019  0.61400  0.55500     0.21700  \n",
       "2019  0.49900  0.41700     0.27600  \n",
       "2019  0.36100  0.00000     0.15800  \n",
       "2019  0.10500  0.22500     0.23500  \n",
       "2019  0.29500  0.01000     0.20200  \n",
       "\n",
       "[782 rows x 7 columns]"
      ]
     },
     "execution_count": 3,
     "metadata": {},
     "output_type": "execute_result"
    }
   ],
   "source": [
    "def formate_df(df):\n",
    "    \n",
    "    rename_columns = {\"Economy (GDP per Capita)\": \"Economy\", \"GDP per capita\": \"Economy\",\n",
    "                      \"Economy..GDP.per.Capita.\": \"Economy\", \"Health..Life.Expectancy.\": \"Health\",\n",
    "                      \"Healthy life expectancy\": \"Health\", \"Health (Life Expectancy)\": \"Health\",\n",
    "                      \"Trust (Government Corruption)\": \"Trust\", \"Trust..Government.Corruption.\": \"Trust\",\n",
    "                      \"Perceptions of corruption\": \"Trust\", \"Freedom to make life choices\": \"Freedom\",\n",
    "                      \"Happiness.Rank\": \"Happiness Rank\", \"Happiness.Score\": \"Happiness Score\",\n",
    "                      \"Overall rank\": \"Happiness Rank\", \"Score\": \"Happiness Score\", \n",
    "                      \"Country or region\": \"Country\", \"Dystopia.Residual\": \"Dystopia Residual\"}\n",
    "    \n",
    "    df.rename(columns=rename_columns, inplace=True)\n",
    "    try:\n",
    "        df.drop(\"Region\", axis=1, inplace=True)\n",
    "    except:\n",
    "        pass\n",
    "    return df\n",
    "\n",
    "        \n",
    "new = {}\n",
    "for year in range(2015,2020):\n",
    "    df = pd.read_csv(f\"{year}.csv\")\n",
    "    df = formate_df(df)\n",
    "    new[year] = df\n",
    "    \n",
    "df = pd.concat(new).reset_index(level=1, drop=True)\n",
    "df.dropna(axis=1, inplace=True)\n",
    "df"
   ]
  },
  {
   "cell_type": "code",
   "execution_count": 4,
   "metadata": {},
   "outputs": [
    {
     "data": {
      "text/plain": [
       "<AxesSubplot:>"
      ]
     },
     "execution_count": 4,
     "metadata": {},
     "output_type": "execute_result"
    },
    {
     "data": {
      "image/png": "[encoded data removed]",
      "text/plain": [
       "<Figure size 720x504 with 1 Axes>"
      ]
     },
     "metadata": {
      "needs_background": "light"
     },
     "output_type": "display_data"
    }
   ],
   "source": [
    "df1 = df.groupby(df.index)[[\"Happiness Score\"]].sum()\n",
    "\n",
    "df1.plot()"
   ]
  },
  {
   "cell_type": "markdown",
   "metadata": {},
   "source": [
    "https://polit.ru/news/2018/09/12/happyness/ \n",
    "Мы можем увидеть на этом графике, что до 2017-го года уровень счастья в общем по миру падал - достиг минимальных показателей в 2017 году и пошел на повышение - можно предположить, что на общий уровень счастья повлияли войны и политические конфликты, возникающие в мире."
   ]
  },
  {
   "cell_type": "code",
   "execution_count": 5,
   "metadata": {},
   "outputs": [
    {
     "data": {
      "text/plain": [
       "<seaborn.axisgrid.PairGrid at 0x7f0ce1e766d0>"
      ]
     },
     "execution_count": 5,
     "metadata": {},
     "output_type": "execute_result"
    },
    {
     "data": {
      "image/png": "[encoded data removed]",
      "text/plain": [
       "<Figure size 540x540 with 12 Axes>"
      ]
     },
     "metadata": {
      "needs_background": "light"
     },
     "output_type": "display_data"
    }
   ],
   "source": [
    "# Показатели счастья, здоровья, экономики (ввп)\n",
    "sns_plot = sns.pairplot(df[[\"Happiness Score\", \"Economy\", \"Health\"]])\n",
    "sns_plot"
   ]
  },
  {
   "cell_type": "markdown",
   "metadata": {},
   "source": [
    "На этом графике мы видим прямую позитивную зависимость между уровнем счастья и экономикой стран (ВВП) - очевидно, что в странах с высоким уровнем ввп выше уровень жизни, соответственно людям доступно большее количество благ, безопасность, образование и прочее, что повышает их уровень счастья\n",
    "\n",
    "Так же мы видим позитивную корреляцию между уровнем счастья и здоровья - вместе с уровнем здоровья растет уровень счастья населения - тоже вполне очевидная зависимость, чем более человек чувствует себя здоровым, тем более он чувствует себя счастливым. Можно предположить, что в обратную сторону это тоже работает. "
   ]
  },
  {
   "cell_type": "code",
   "execution_count": 9,
   "metadata": {},
   "outputs": [
    {
     "data": {
      "application/vnd.plotly.v1+json": {
       "config": {
        "plotlyServerURL": "https://plot.ly"
       },
       "data": [
        {
         "dimensions": [
          {
           "axis": {
            "matches": true
           },
           "label": "Generosity",
           "values": [
            0.29678000000000004,
            0.28083,
            0.29054927825927696,
            0.256,
            0.263
           ]
          },
          {
           "axis": {
            "matches": true
           },
           "label": "Economy",
           "values": [
            1.3965100000000001,
            1.5273299999999999,
            1.5649795532226598,
            1.42,
            1.452
           ]
          }
         ],
         "hovertemplate": "Country=Switzerland<br>%{xaxis.title.text}=%{x}<br>%{yaxis.title.text}=%{y}<extra></extra>",
         "legendgroup": "Switzerland",
         "marker": {
          "color": "#636efa",
          "symbol": "circle"
         },
         "name": "Switzerland",
         "showlegend": true,
         "type": "splom"
        },
        {
         "dimensions": [
          {
           "axis": {
            "matches": true
           },
           "label": "Generosity",
           "values": [
            0.4363,
            0.47678000000000004,
            0.47554022073745705,
            0.353,
            0.354
           ]
          },
          {
           "axis": {
            "matches": true
           },
           "label": "Economy",
           "values": [
            1.3023200000000001,
            1.42666,
            1.480633020401,
            1.3430000000000002,
            1.38
           ]
          }
         ],
         "hovertemplate": "Country=Iceland<br>%{xaxis.title.text}=%{x}<br>%{yaxis.title.text}=%{y}<extra></extra>",
         "legendgroup": "Iceland",
         "marker": {
          "color": "#EF553B",
          "symbol": "circle"
         },
         "name": "Iceland",
         "showlegend": true,
         "type": "splom"
        },
        {
         "dimensions": [
          {
           "axis": {
            "matches": true
           },
           "label": "Generosity",
           "values": [
            0.34139,
            0.36171,
            0.3552804887294771,
            0.284,
            0.252
           ]
          },
          {
           "axis": {
            "matches": true
           },
           "label": "Economy",
           "values": [
            1.32548,
            1.4417799999999998,
            1.48238301277161,
            1.351,
            1.383
           ]
          }
         ],
         "hovertemplate": "Country=Denmark<br>%{xaxis.title.text}=%{x}<br>%{yaxis.title.text}=%{y}<extra></extra>",
         "legendgroup": "Denmark",
         "marker": {
          "color": "#00cc96",
          "symbol": "circle"
         },
         "name": "Denmark",
         "showlegend": true,
         "type": "splom"
        },
        {
         "dimensions": [
          {
           "axis": {
            "matches": true
           },
           "label": "Generosity",
           "values": [
            0.34699,
            0.37895,
            0.36201223731041,
            0.28600000000000003,
            0.271
           ]
          },
          {
           "axis": {
            "matches": true
           },
           "label": "Economy",
           "values": [
            1.459,
            1.57744,
            1.6164631843566901,
            1.456,
            1.4880000000000002
           ]
          }
         ],
         "hovertemplate": "Country=Norway<br>%{xaxis.title.text}=%{x}<br>%{yaxis.title.text}=%{y}<extra></extra>",
         "legendgroup": "Norway",
         "marker": {
          "color": "#ab63fa",
          "symbol": "circle"
         },
         "name": "Norway",
         "showlegend": true,
         "type": "splom"
        },
        {
         "dimensions": [
          {
           "axis": {
            "matches": true
           },
           "label": "Generosity",
           "values": [
            0.45811,
            0.44833999999999996,
            0.435539722442627,
            0.321,
            0.285
           ]
          },
          {
           "axis": {
            "matches": true
           },
           "label": "Economy",
           "values": [
            1.32629,
            1.44015,
            1.47920441627502,
            1.33,
            1.365
           ]
          }
         ],
         "hovertemplate": "Country=Canada<br>%{xaxis.title.text}=%{x}<br>%{yaxis.title.text}=%{y}<extra></extra>",
         "legendgroup": "Canada",
         "marker": {
          "color": "#FFA15A",
          "symbol": "circle"
         },
         "name": "Canada",
         "showlegend": true,
         "type": "splom"
        },
        {
         "dimensions": [
          {
           "axis": {
            "matches": true
           },
           "label": "Generosity",
           "values": [
            0.23351,
            0.25492,
            0.24548277258873,
            0.20199999999999999,
            0.153
           ]
          },
          {
           "axis": {
            "matches": true
           },
           "label": "Economy",
           "values": [
            1.29025,
            1.40598,
            1.44357192516327,
            1.305,
            1.34
           ]
          }
         ],
         "hovertemplate": "Country=Finland<br>%{xaxis.title.text}=%{x}<br>%{yaxis.title.text}=%{y}<extra></extra>",
         "legendgroup": "Finland",
         "marker": {
          "color": "#19d3f3",
          "symbol": "circle"
         },
         "name": "Finland",
         "showlegend": true,
         "type": "splom"
        },
        {
         "dimensions": [
          {
           "axis": {
            "matches": true
           },
           "label": "Generosity",
           "values": [
            0.4761,
            0.47416,
            0.47048982977867104,
            0.33299999999999996,
            0.322
           ]
          },
          {
           "axis": {
            "matches": true
           },
           "label": "Economy",
           "values": [
            1.32944,
            1.46468,
            1.50394463539124,
            1.361,
            1.396
           ]
          }
         ],
         "hovertemplate": "Country=Netherlands<br>%{xaxis.title.text}=%{x}<br>%{yaxis.title.text}=%{y}<extra></extra>",
         "legendgroup": "Netherlands",
         "marker": {
          "color": "#FF6692",
          "symbol": "circle"
         },
         "name": "Netherlands",
         "showlegend": true,
         "type": "splom"
        },
        {
         "dimensions": [
          {
           "axis": {
            "matches": true
           },
           "label": "Generosity",
           "values": [
            0.36262,
            0.38254,
            0.38539925217628496,
            0.285,
            0.267
           ]
          },
          {
           "axis": {
            "matches": true
           },
           "label": "Economy",
           "values": [
            1.33171,
            1.45181,
            1.49438726902008,
            1.355,
            1.3869999999999998
           ]
          }
         ],
         "hovertemplate": "Country=Sweden<br>%{xaxis.title.text}=%{x}<br>%{yaxis.title.text}=%{y}<extra></extra>",
         "legendgroup": "Sweden",
         "marker": {
          "color": "#B6E880",
          "symbol": "circle"
         },
         "name": "Sweden",
         "showlegend": true,
         "type": "splom"
        },
        {
         "dimensions": [
          {
           "axis": {
            "matches": true
           },
           "label": "Generosity",
           "values": [
            0.47501000000000004,
            0.49401000000000006,
            0.500005125999451,
            0.365,
            0.33
           ]
          },
          {
           "axis": {
            "matches": true
           },
           "label": "Economy",
           "values": [
            1.2501799999999998,
            1.36066,
            1.40570604801178,
            1.268,
            1.3030000000000002
           ]
          }
         ],
         "hovertemplate": "Country=New Zealand<br>%{xaxis.title.text}=%{x}<br>%{yaxis.title.text}=%{y}<extra></extra>",
         "legendgroup": "New Zealand",
         "marker": {
          "color": "#FF97FF",
          "symbol": "circle"
         },
         "name": "New Zealand",
         "showlegend": true,
         "type": "splom"
        },
        {
         "dimensions": [
          {
           "axis": {
            "matches": true
           },
           "label": "Generosity",
           "values": [
            0.43562,
            0.47407,
            0.47769924998283403,
            0.361,
            0.332
           ]
          },
          {
           "axis": {
            "matches": true
           },
           "label": "Economy",
           "values": [
            1.33358,
            1.4444299999999999,
            1.4844149351120002,
            1.34,
            1.3719999999999999
           ]
          }
         ],
         "hovertemplate": "Country=Australia<br>%{xaxis.title.text}=%{x}<br>%{yaxis.title.text}=%{y}<extra></extra>",
         "legendgroup": "Australia",
         "marker": {
          "color": "#FECB52",
          "symbol": "circle"
         },
         "name": "Australia",
         "showlegend": true,
         "type": "splom"
        },
        {
         "dimensions": [
          {
           "axis": {
            "matches": true
           },
           "label": "Generosity",
           "values": [
            0.33171999999999996,
            0.32288,
            0.330082654953003,
            0.354,
            0.261
           ]
          },
          {
           "axis": {
            "matches": true
           },
           "label": "Economy",
           "values": [
            1.2285700000000002,
            1.33766,
            1.3753824234008798,
            1.301,
            1.276
           ]
          }
         ],
         "hovertemplate": "Country=Israel<br>%{xaxis.title.text}=%{x}<br>%{yaxis.title.text}=%{y}<extra></extra>",
         "legendgroup": "Israel",
         "marker": {
          "color": "#636efa",
          "symbol": "circle"
         },
         "name": "Israel",
         "showlegend": true,
         "type": "splom"
        },
        {
         "dimensions": [
          {
           "axis": {
            "matches": true
           },
           "label": "Generosity",
           "values": [
            0.25497,
            0.22553,
            0.21461322903633104,
            0.14300000000000002,
            0.14400000000000002
           ]
          },
          {
           "axis": {
            "matches": true
           },
           "label": "Economy",
           "values": [
            0.95578,
            1.06879,
            1.10970628261566,
            1.01,
            1.034
           ]
          }
         ],
         "hovertemplate": "Country=Costa Rica<br>%{xaxis.title.text}=%{x}<br>%{yaxis.title.text}=%{y}<extra></extra>",
         "legendgroup": "Costa Rica",
         "marker": {
          "color": "#EF553B",
          "symbol": "circle"
         },
         "name": "Costa Rica",
         "showlegend": true,
         "type": "splom"
        },
        {
         "dimensions": [
          {
           "axis": {
            "matches": true
           },
           "label": "Generosity",
           "values": [
            0.33088,
            0.32865,
            0.316472321748734,
            0.242,
            0.244
           ]
          },
          {
           "axis": {
            "matches": true
           },
           "label": "Economy",
           "values": [
            1.33723,
            1.45038,
            1.4870972633361799,
            1.341,
            1.376
           ]
          }
         ],
         "hovertemplate": "Country=Austria<br>%{xaxis.title.text}=%{x}<br>%{yaxis.title.text}=%{y}<extra></extra>",
         "legendgroup": "Austria",
         "marker": {
          "color": "#00cc96",
          "symbol": "circle"
         },
         "name": "Austria",
         "showlegend": true,
         "type": "splom"
        },
        {
         "dimensions": [
          {
           "axis": {
            "matches": true
           },
           "label": "Generosity",
           "values": [
            0.14074,
            0.11735,
            0.12099043279886199,
            0.069,
            0.07400000000000001
           ]
          },
          {
           "axis": {
            "matches": true
           },
           "label": "Economy",
           "values": [
            1.02054,
            1.1150799999999998,
            1.1531838178634601,
            1.038,
            1.07
           ]
          }
         ],
         "hovertemplate": "Country=Mexico<br>%{xaxis.title.text}=%{x}<br>%{yaxis.title.text}=%{y}<extra></extra>",
         "legendgroup": "Mexico",
         "marker": {
          "color": "#ab63fa",
          "symbol": "circle"
         },
         "name": "Mexico",
         "showlegend": true,
         "type": "splom"
        },
        {
         "dimensions": [
          {
           "axis": {
            "matches": true
           },
           "label": "Generosity",
           "values": [
            0.40105,
            0.41076999999999997,
            0.392578780651093,
            0.29100000000000004,
            0.28
           ]
          },
          {
           "axis": {
            "matches": true
           },
           "label": "Economy",
           "values": [
            1.3945100000000001,
            1.50796,
            1.54625928401947,
            1.3980000000000001,
            1.433
           ]
          }
         ],
         "hovertemplate": "Country=United States<br>%{xaxis.title.text}=%{x}<br>%{yaxis.title.text}=%{y}<extra></extra>",
         "legendgroup": "United States",
         "marker": {
          "color": "#FFA15A",
          "symbol": "circle"
         },
         "name": "United States",
         "showlegend": true,
         "type": "splom"
        },
        {
         "dimensions": [
          {
           "axis": {
            "matches": true
           },
           "label": "Generosity",
           "values": [
            0.14574,
            0.15775999999999998,
            0.16234989464282998,
            0.11,
            0.099
           ]
          },
          {
           "axis": {
            "matches": true
           },
           "label": "Economy",
           "values": [
            0.98124,
            1.08754,
            1.1073532104492199,
            0.986,
            1.004
           ]
          }
         ],
         "hovertemplate": "Country=Brazil<br>%{xaxis.title.text}=%{x}<br>%{yaxis.title.text}=%{y}<extra></extra>",
         "legendgroup": "Brazil",
         "marker": {
          "color": "#19d3f3",
          "symbol": "circle"
         },
         "name": "Brazil",
         "showlegend": true,
         "type": "splom"
        },
        {
         "dimensions": [
          {
           "axis": {
            "matches": true
           },
           "label": "Generosity",
           "values": [
            0.28034000000000003,
            0.27571,
            0.283180981874466,
            0.196,
            0.19399999999999998
           ]
          },
          {
           "axis": {
            "matches": true
           },
           "label": "Economy",
           "values": [
            1.5639100000000001,
            1.6975200000000001,
            1.74194359779358,
            1.5759999999999998,
            1.609
           ]
          }
         ],
         "hovertemplate": "Country=Luxembourg<br>%{xaxis.title.text}=%{x}<br>%{yaxis.title.text}=%{y}<extra></extra>",
         "legendgroup": "Luxembourg",
         "marker": {
          "color": "#FF6692",
          "symbol": "circle"
         },
         "name": "Luxembourg",
         "showlegend": true,
         "type": "splom"
        },
        {
         "dimensions": [
          {
           "axis": {
            "matches": true
           },
           "label": "Generosity",
           "values": [
            0.45901000000000003,
            0.44963000000000003,
            0.42785832285881,
            0.307,
            0.298
           ]
          },
          {
           "axis": {
            "matches": true
           },
           "label": "Economy",
           "values": [
            1.33596,
            1.4834100000000001,
            1.5357066392898602,
            1.4480000000000002,
            1.499
           ]
          }
         ],
         "hovertemplate": "Country=Ireland<br>%{xaxis.title.text}=%{x}<br>%{yaxis.title.text}=%{y}<extra></extra>",
         "legendgroup": "Ireland",
         "marker": {
          "color": "#B6E880",
          "symbol": "circle"
         },
         "name": "Ireland",
         "showlegend": true,
         "type": "splom"
        },
        {
         "dimensions": [
          {
           "axis": {
            "matches": true
           },
           "label": "Generosity",
           "values": [
            0.2225,
            0.2424,
            0.23150333762168898,
            0.188,
            0.16
           ]
          },
          {
           "axis": {
            "matches": true
           },
           "label": "Economy",
           "values": [
            1.30782,
            1.42539,
            1.4637807607650801,
            1.324,
            1.3559999999999999
           ]
          }
         ],
         "hovertemplate": "Country=Belgium<br>%{xaxis.title.text}=%{x}<br>%{yaxis.title.text}=%{y}<extra></extra>",
         "legendgroup": "Belgium",
         "marker": {
          "color": "#FF97FF",
          "symbol": "circle"
         },
         "name": "Belgium",
         "showlegend": true,
         "type": "splom"
        },
        {
         "dimensions": [
          {
           "axis": {
            "matches": true
           },
           "label": "Generosity",
           "values": [
            0.26428,
            0.26591,
            0.3609419465065,
            0.18600000000000003,
            0.262
           ]
          },
          {
           "axis": {
            "matches": true
           },
           "label": "Economy",
           "values": [
            1.42727,
            1.57352,
            1.6263433694839498,
            2.096,
            1.5030000000000001
           ]
          }
         ],
         "hovertemplate": "Country=United Arab Emirates<br>%{xaxis.title.text}=%{x}<br>%{yaxis.title.text}=%{y}<extra></extra>",
         "legendgroup": "United Arab Emirates",
         "marker": {
          "color": "#FECB52",
          "symbol": "circle"
         },
         "name": "United Arab Emirates",
         "showlegend": true,
         "type": "splom"
        },
        {
         "dimensions": [
          {
           "axis": {
            "matches": true
           },
           "label": "Generosity",
           "values": [
            0.51912,
            0.50156,
            0.492774158716202,
            0.262,
            0.348
           ]
          },
          {
           "axis": {
            "matches": true
           },
           "label": "Economy",
           "values": [
            1.26637,
            1.40283,
            1.44163393974304,
            1.244,
            1.3330000000000002
           ]
          }
         ],
         "hovertemplate": "Country=United Kingdom<br>%{xaxis.title.text}=%{x}<br>%{yaxis.title.text}=%{y}<extra></extra>",
         "legendgroup": "United Kingdom",
         "marker": {
          "color": "#636efa",
          "symbol": "circle"
         },
         "name": "United Kingdom",
         "showlegend": true,
         "type": "splom"
        },
        {
         "dimensions": [
          {
           "axis": {
            "matches": true
           },
           "label": "Generosity",
           "values": [
            0.21541999999999997
           ]
          },
          {
           "axis": {
            "matches": true
           },
           "label": "Economy",
           "values": [
            1.36011
           ]
          }
         ],
         "hovertemplate": "Country=Oman<br>%{xaxis.title.text}=%{x}<br>%{yaxis.title.text}=%{y}<extra></extra>",
         "legendgroup": "Oman",
         "marker": {
          "color": "#EF553B",
          "symbol": "circle"
         },
         "name": "Oman",
         "showlegend": true,
         "type": "splom"
        },
        {
         "dimensions": [
          {
           "axis": {
            "matches": true
           },
           "label": "Generosity",
           "values": [
            0.058410000000000004,
            0.0425,
            0.0650196298956871,
            0.055999999999999994,
            0.064
           ]
          },
          {
           "axis": {
            "matches": true
           },
           "label": "Economy",
           "values": [
            1.04424,
            1.1336700000000002,
            1.12843120098114,
            0.996,
            0.96
           ]
          }
         ],
         "hovertemplate": "Country=Venezuela<br>%{xaxis.title.text}=%{x}<br>%{yaxis.title.text}=%{y}<extra></extra>",
         "legendgroup": "Venezuela",
         "marker": {
          "color": "#00cc96",
          "symbol": "circle"
         },
         "name": "Venezuela",
         "showlegend": true,
         "type": "splom"
        },
        {
         "dimensions": [
          {
           "axis": {
            "matches": true
           },
           "label": "Generosity",
           "values": [
            0.31105,
            0.32706,
            0.345965981483459,
            0.261,
            0.271
           ]
          },
          {
           "axis": {
            "matches": true
           },
           "label": "Economy",
           "values": [
            1.52186,
            1.64555,
            1.69227766990662,
            1.5290000000000001,
            1.5719999999999998
           ]
          }
         ],
         "hovertemplate": "Country=Singapore<br>%{xaxis.title.text}=%{x}<br>%{yaxis.title.text}=%{y}<extra></extra>",
         "legendgroup": "Singapore",
         "marker": {
          "color": "#ab63fa",
          "symbol": "circle"
         },
         "name": "Singapore",
         "showlegend": true,
         "type": "splom"
        },
        {
         "dimensions": [
          {
           "axis": {
            "matches": true
           },
           "label": "Generosity",
           "values": [
            0.24434,
            0.2418,
            0.21055693924427,
            0.125,
            0.109
           ]
          },
          {
           "axis": {
            "matches": true
           },
           "label": "Economy",
           "values": [
            1.0635299999999999,
            1.18306,
            1.23374843597412,
            1.112,
            1.149
           ]
          }
         ],
         "hovertemplate": "Country=Panama<br>%{xaxis.title.text}=%{x}<br>%{yaxis.title.text}=%{y}<extra></extra>",
         "legendgroup": "Panama",
         "marker": {
          "color": "#FFA15A",
          "symbol": "circle"
         },
         "name": "Panama",
         "showlegend": true,
         "type": "splom"
        },
        {
         "dimensions": [
          {
           "axis": {
            "matches": true
           },
           "label": "Generosity",
           "values": [
            0.28214,
            0.30451999999999996,
            0.33626917004585305,
            0.273,
            0.261
           ]
          },
          {
           "axis": {
            "matches": true
           },
           "label": "Economy",
           "values": [
            1.32792,
            1.44787,
            1.48792338371277,
            1.34,
            1.3730000000000002
           ]
          }
         ],
         "hovertemplate": "Country=Germany<br>%{xaxis.title.text}=%{x}<br>%{yaxis.title.text}=%{y}<extra></extra>",
         "legendgroup": "Germany",
         "marker": {
          "color": "#19d3f3",
          "symbol": "circle"
         },
         "name": "Germany",
         "showlegend": true,
         "type": "splom"
        },
        {
         "dimensions": [
          {
           "axis": {
            "matches": true
           },
           "label": "Generosity",
           "values": [
            0.33363000000000004,
            0.31595,
            0.3266624212265011,
            0.19699999999999998,
            0.187
           ]
          },
          {
           "axis": {
            "matches": true
           },
           "label": "Economy",
           "values": [
            1.10715,
            1.2167,
            1.25278460979462,
            1.131,
            1.159
           ]
          }
         ],
         "hovertemplate": "Country=Chile<br>%{xaxis.title.text}=%{x}<br>%{yaxis.title.text}=%{y}<extra></extra>",
         "legendgroup": "Chile",
         "marker": {
          "color": "#FF6692",
          "symbol": "circle"
         },
         "name": "Chile",
         "showlegend": true,
         "type": "splom"
        },
        {
         "dimensions": [
          {
           "axis": {
            "matches": true
           },
           "label": "Generosity",
           "values": [
            0.32573,
            0.32388,
            0.33047387003898604,
            0.256,
            0.22
           ]
          },
          {
           "axis": {
            "matches": true
           },
           "label": "Economy",
           "values": [
            1.69042,
            1.82427,
            1.8707656860351598,
            1.649,
            1.6840000000000002
           ]
          }
         ],
         "hovertemplate": "Country=Qatar<br>%{xaxis.title.text}=%{x}<br>%{yaxis.title.text}=%{y}<extra></extra>",
         "legendgroup": "Qatar",
         "marker": {
          "color": "#B6E880",
          "symbol": "circle"
         },
         "name": "Qatar",
         "showlegend": true,
         "type": "splom"
        },
        {
         "dimensions": [
          {
           "axis": {
            "matches": true
           },
           "label": "Generosity",
           "values": [
            0.12332,
            0.1216,
            0.129762306809425,
            0.098,
            0.111
           ]
          },
          {
           "axis": {
            "matches": true
           },
           "label": "Economy",
           "values": [
            1.27778,
            1.39488,
            1.43092346191406,
            1.2930000000000001,
            1.324
           ]
          }
         ],
         "hovertemplate": "Country=France<br>%{xaxis.title.text}=%{x}<br>%{yaxis.title.text}=%{y}<extra></extra>",
         "legendgroup": "France",
         "marker": {
          "color": "#FF97FF",
          "symbol": "circle"
         },
         "name": "France",
         "showlegend": true,
         "type": "splom"
        },
        {
         "dimensions": [
          {
           "axis": {
            "matches": true
           },
           "label": "Generosity",
           "values": [
            0.11450999999999999,
            0.10989000000000002,
            0.109457060694695,
            0.062,
            0.066
           ]
          },
          {
           "axis": {
            "matches": true
           },
           "label": "Economy",
           "values": [
            1.05351,
            1.15137,
            1.18529546260834,
            1.073,
            1.092
           ]
          }
         ],
         "hovertemplate": "Country=Argentina<br>%{xaxis.title.text}=%{x}<br>%{yaxis.title.text}=%{y}<extra></extra>",
         "legendgroup": "Argentina",
         "marker": {
          "color": "#FECB52",
          "symbol": "circle"
         },
         "name": "Argentina",
         "showlegend": true,
         "type": "splom"
        },
        {
         "dimensions": [
          {
           "axis": {
            "matches": true
           },
           "label": "Generosity",
           "values": [
            0.10686,
            0.09929,
            0.0881067588925362,
            0.064,
            0.046
           ]
          },
          {
           "axis": {
            "matches": true
           },
           "label": "Economy",
           "values": [
            1.17898,
            1.30915,
            1.35268235206604,
            1.2329999999999999,
            1.2690000000000001
           ]
          }
         ],
         "hovertemplate": "Country=Czech Republic<br>%{xaxis.title.text}=%{x}<br>%{yaxis.title.text}=%{y}<extra></extra>",
         "legendgroup": "Czech Republic",
         "marker": {
          "color": "#636efa",
          "symbol": "circle"
         },
         "name": "Czech Republic",
         "showlegend": true,
         "type": "splom"
        },
        {
         "dimensions": [
          {
           "axis": {
            "matches": true
           },
           "label": "Generosity",
           "values": [
            0.2324,
            0.18056,
            0.175096929073334,
            0.13,
            0.127
           ]
          },
          {
           "axis": {
            "matches": true
           },
           "label": "Economy",
           "values": [
            1.06166,
            1.18157,
            1.2175596952438401,
            1.093,
            1.124
           ]
          }
         ],
         "hovertemplate": "Country=Uruguay<br>%{xaxis.title.text}=%{x}<br>%{yaxis.title.text}=%{y}<extra></extra>",
         "legendgroup": "Uruguay",
         "marker": {
          "color": "#EF553B",
          "symbol": "circle"
         },
         "name": "Uruguay",
         "showlegend": true,
         "type": "splom"
        },
        {
         "dimensions": [
          {
           "axis": {
            "matches": true
           },
           "label": "Generosity",
           "values": [
            0.18400999999999998,
            0.15625999999999998,
            0.14901447296142598,
            0.099,
            0.099
           ]
          },
          {
           "axis": {
            "matches": true
           },
           "label": "Economy",
           "values": [
            0.91861,
            1.0303200000000001,
            1.07062232494354,
            0.96,
            0.985
           ]
          }
         ],
         "hovertemplate": "Country=Colombia<br>%{xaxis.title.text}=%{x}<br>%{yaxis.title.text}=%{y}<extra></extra>",
         "legendgroup": "Colombia",
         "marker": {
          "color": "#00cc96",
          "symbol": "circle"
         },
         "name": "Colombia",
         "showlegend": true,
         "type": "splom"
        },
        {
         "dimensions": [
          {
           "axis": {
            "matches": true
           },
           "label": "Generosity",
           "values": [
            0.5763,
            0.58696,
            0.572123110294342,
            0.364,
            0.359
           ]
          },
          {
           "axis": {
            "matches": true
           },
           "label": "Economy",
           "values": [
            0.9669,
            1.0893,
            1.12786877155304,
            1.016,
            1.05
           ]
          }
         ],
         "hovertemplate": "Country=Thailand<br>%{xaxis.title.text}=%{x}<br>%{yaxis.title.text}=%{y}<extra></extra>",
         "legendgroup": "Thailand",
         "marker": {
          "color": "#ab63fa",
          "symbol": "circle"
         },
         "name": "Thailand",
         "showlegend": true,
         "type": "splom"
        },
        {
         "dimensions": [
          {
           "axis": {
            "matches": true
           },
           "label": "Generosity",
           "values": [
            0.13706,
            0.15457,
            0.147616013884544,
            0.098,
            0.08
           ]
          },
          {
           "axis": {
            "matches": true
           },
           "label": "Economy",
           "values": [
            1.39541,
            1.48953,
            1.53062355518341,
            1.379,
            1.403
           ]
          }
         ],
         "hovertemplate": "Country=Saudi Arabia<br>%{xaxis.title.text}=%{x}<br>%{yaxis.title.text}=%{y}<extra></extra>",
         "legendgroup": "Saudi Arabia",
         "marker": {
          "color": "#FFA15A",
          "symbol": "circle"
         },
         "name": "Saudi Arabia",
         "showlegend": true,
         "type": "splom"
        },
        {
         "dimensions": [
          {
           "axis": {
            "matches": true
           },
           "label": "Generosity",
           "values": [
            0.18227000000000002,
            0.17665,
            0.190133571624756,
            0.142,
            0.153
           ]
          },
          {
           "axis": {
            "matches": true
           },
           "label": "Economy",
           "values": [
            1.23011,
            1.34253,
            1.38439786434174,
            1.251,
            1.286
           ]
          }
         ],
         "hovertemplate": "Country=Spain<br>%{xaxis.title.text}=%{x}<br>%{yaxis.title.text}=%{y}<extra></extra>",
         "legendgroup": "Spain",
         "marker": {
          "color": "#19d3f3",
          "symbol": "circle"
         },
         "name": "Spain",
         "showlegend": true,
         "type": "splom"
        },
        {
         "dimensions": [
          {
           "axis": {
            "matches": true
           },
           "label": "Generosity",
           "values": [
            0.51752,
            0.56237,
            0.5747305750846861,
            0.376,
            0.375
           ]
          },
          {
           "axis": {
            "matches": true
           },
           "label": "Economy",
           "values": [
            1.2074,
            1.30782,
            1.34327983856201,
            1.27,
            1.3
           ]
          }
         ],
         "hovertemplate": "Country=Malta<br>%{xaxis.title.text}=%{x}<br>%{yaxis.title.text}=%{y}<extra></extra>",
         "legendgroup": "Malta",
         "marker": {
          "color": "#FF6692",
          "symbol": "circle"
         },
         "name": "Malta",
         "showlegend": true,
         "type": "splom"
        },
        {
         "dimensions": [
          {
           "axis": {
            "matches": true
           },
           "label": "Generosity",
           "values": [
            0.25376,
            0.25495,
            0.151,
            0.242
           ]
          },
          {
           "axis": {
            "matches": true
           },
           "label": "Economy",
           "values": [
            1.29098,
            1.39729,
            1.365,
            1.368
           ]
          }
         ],
         "hovertemplate": "Country=Taiwan<br>%{xaxis.title.text}=%{x}<br>%{yaxis.title.text}=%{y}<extra></extra>",
         "legendgroup": "Taiwan",
         "marker": {
          "color": "#B6E880",
          "symbol": "circle"
         },
         "name": "Taiwan",
         "showlegend": true,
         "type": "splom"
        },
        {
         "dimensions": [
          {
           "axis": {
            "matches": true
           },
           "label": "Generosity",
           "values": [
            0.16228,
            0.15965,
            0.228289797902107,
            0.16699999999999998,
            0.142
           ]
          },
          {
           "axis": {
            "matches": true
           },
           "label": "Economy",
           "values": [
            1.5542200000000002,
            1.61714,
            1.63295245170593,
            1.474,
            1.5
           ]
          }
         ],
         "hovertemplate": "Country=Kuwait<br>%{xaxis.title.text}=%{x}<br>%{yaxis.title.text}=%{y}<extra></extra>",
         "legendgroup": "Kuwait",
         "marker": {
          "color": "#FF97FF",
          "symbol": "circle"
         },
         "name": "Kuwait",
         "showlegend": true,
         "type": "splom"
        },
        {
         "dimensions": [
          {
           "axis": {
            "matches": true
           },
           "label": "Generosity",
           "values": [
            0.16990999999999998,
            0.16665
           ]
          },
          {
           "axis": {
            "matches": true
           },
           "label": "Economy",
           "values": [
            0.99534,
            1.09686
           ]
          }
         ],
         "hovertemplate": "Country=Suriname<br>%{xaxis.title.text}=%{x}<br>%{yaxis.title.text}=%{y}<extra></extra>",
         "legendgroup": "Suriname",
         "marker": {
          "color": "#FECB52",
          "symbol": "circle"
         },
         "name": "Suriname",
         "showlegend": true,
         "type": "splom"
        },
        {
         "dimensions": [
          {
           "axis": {
            "matches": true
           },
           "label": "Generosity",
           "values": [
            0.31844,
            0.31935,
            0.32529646158218395
           ]
          },
          {
           "axis": {
            "matches": true
           },
           "label": "Economy",
           "values": [
            1.21183,
            1.32572,
            1.36135590076447
           ]
          }
         ],
         "hovertemplate": "Country=Trinidad and Tobago<br>%{xaxis.title.text}=%{x}<br>%{yaxis.title.text}=%{y}<extra></extra>",
         "legendgroup": "Trinidad and Tobago",
         "marker": {
          "color": "#636efa",
          "symbol": "circle"
         },
         "name": "Trinidad and Tobago",
         "showlegend": true,
         "type": "splom"
        },
        {
         "dimensions": [
          {
           "axis": {
            "matches": true
           },
           "label": "Generosity",
           "values": [
            0.10692,
            0.08877,
            0.0782579854130745,
            0.065,
            0.09300000000000001
           ]
          },
          {
           "axis": {
            "matches": true
           },
           "label": "Economy",
           "values": [
            0.76454,
            0.8737,
            0.9097844958305359,
            0.8059999999999999,
            0.794
           ]
          }
         ],
         "hovertemplate": "Country=El Salvador<br>%{xaxis.title.text}=%{x}<br>%{yaxis.title.text}=%{y}<extra></extra>",
         "legendgroup": "El Salvador",
         "marker": {
          "color": "#EF553B",
          "symbol": "circle"
         },
         "name": "El Salvador",
         "showlegend": true,
         "type": "splom"
        },
        {
         "dimensions": [
          {
           "axis": {
            "matches": true
           },
           "label": "Generosity",
           "values": [
            0.27489,
            0.28808,
            0.283488392829895,
            0.179,
            0.175
           ]
          },
          {
           "axis": {
            "matches": true
           },
           "label": "Economy",
           "values": [
            0.74553,
            0.83454,
            0.872001945972443,
            0.7809999999999999,
            0.8
           ]
          }
         ],
         "hovertemplate": "Country=Guatemala<br>%{xaxis.title.text}=%{x}<br>%{yaxis.title.text}=%{y}<extra></extra>",
         "legendgroup": "Guatemala",
         "marker": {
          "color": "#00cc96",
          "symbol": "circle"
         },
         "name": "Guatemala",
         "showlegend": true,
         "type": "splom"
        },
        {
         "dimensions": [
          {
           "axis": {
            "matches": true
           },
           "label": "Generosity",
           "values": [
            0.22837,
            0.34326,
            0.41598364710807795,
            0.32799999999999996,
            0.322
           ]
          },
          {
           "axis": {
            "matches": true
           },
           "label": "Economy",
           "values": [
            0.63244,
            0.7359100000000001,
            0.786441087722778,
            0.7190000000000001,
            0.745
           ]
          }
         ],
         "hovertemplate": "Country=Uzbekistan<br>%{xaxis.title.text}=%{x}<br>%{yaxis.title.text}=%{y}<extra></extra>",
         "legendgroup": "Uzbekistan",
         "marker": {
          "color": "#ab63fa",
          "symbol": "circle"
         },
         "name": "Uzbekistan",
         "showlegend": true,
         "type": "splom"
        },
        {
         "dimensions": [
          {
           "axis": {
            "matches": true
           },
           "label": "Generosity",
           "values": [
            0.16893,
            0.13837,
            0.136544480919838,
            0.11800000000000001,
            0.121
           ]
          },
          {
           "axis": {
            "matches": true
           },
           "label": "Economy",
           "values": [
            1.1689100000000001,
            1.27973,
            1.32539355754852,
            1.21,
            1.246
           ]
          }
         ],
         "hovertemplate": "Country=Slovakia<br>%{xaxis.title.text}=%{x}<br>%{yaxis.title.text}=%{y}<extra></extra>",
         "legendgroup": "Slovakia",
         "marker": {
          "color": "#FFA15A",
          "symbol": "circle"
         },
         "name": "Slovakia",
         "showlegend": true,
         "type": "splom"
        },
        {
         "dimensions": [
          {
           "axis": {
            "matches": true
           },
           "label": "Generosity",
           "values": [
            0.10705,
            0.10224,
            0.12057276815175999,
            0.079,
            0.069
           ]
          },
          {
           "axis": {
            "matches": true
           },
           "label": "Economy",
           "values": [
            1.27074,
            1.3800700000000001,
            1.41691517829895,
            1.294,
            1.327
           ]
          }
         ],
         "hovertemplate": "Country=Japan<br>%{xaxis.title.text}=%{x}<br>%{yaxis.title.text}=%{y}<extra></extra>",
         "legendgroup": "Japan",
         "marker": {
          "color": "#19d3f3",
          "symbol": "circle"
         },
         "name": "Japan",
         "showlegend": true,
         "type": "splom"
        },
        {
         "dimensions": [
          {
           "axis": {
            "matches": true
           },
           "label": "Generosity",
           "values": [
            0.18557,
            0.18824000000000002,
            0.206674367189407,
            0.175,
            0.175
           ]
          },
          {
           "axis": {
            "matches": true
           },
           "label": "Economy",
           "values": [
            1.24461,
            1.35948,
            1.40167844295502,
            1.266,
            1.301
           ]
          }
         ],
         "hovertemplate": "Country=South Korea<br>%{xaxis.title.text}=%{x}<br>%{yaxis.title.text}=%{y}<extra></extra>",
         "legendgroup": "South Korea",
         "marker": {
          "color": "#FF6692",
          "symbol": "circle"
         },
         "name": "South Korea",
         "showlegend": true,
         "type": "splom"
        },
        {
         "dimensions": [
          {
           "axis": {
            "matches": true
           },
           "label": "Generosity",
           "values": [
            0.11540999999999998,
            0.10074,
            0.15011246502399403,
            0.114,
            0.126
           ]
          },
          {
           "axis": {
            "matches": true
           },
           "label": "Economy",
           "values": [
            0.8640200000000001,
            0.97306,
            1.00082039833069,
            0.889,
            0.912
           ]
          }
         ],
         "hovertemplate": "Country=Ecuador<br>%{xaxis.title.text}=%{x}<br>%{yaxis.title.text}=%{y}<extra></extra>",
         "legendgroup": "Ecuador",
         "marker": {
          "color": "#B6E880",
          "symbol": "circle"
         },
         "name": "Ecuador",
         "showlegend": true,
         "type": "splom"
        },
        {
         "dimensions": [
          {
           "axis": {
            "matches": true
           },
           "label": "Generosity",
           "values": [
            0.17362,
            0.17147,
            0.17266848683357197,
            0.243,
            0.255
           ]
          },
          {
           "axis": {
            "matches": true
           },
           "label": "Economy",
           "values": [
            1.32376,
            1.44024,
            1.4884122610092199,
            1.338,
            1.3619999999999999
           ]
          }
         ],
         "hovertemplate": "Country=Bahrain<br>%{xaxis.title.text}=%{x}<br>%{yaxis.title.text}=%{y}<extra></extra>",
         "legendgroup": "Bahrain",
         "marker": {
          "color": "#FF97FF",
          "symbol": "circle"
         },
         "name": "Bahrain",
         "showlegend": true,
         "type": "splom"
        },
        {
         "dimensions": [
          {
           "axis": {
            "matches": true
           },
           "label": "Generosity",
           "values": [
            0.22823000000000002,
            0.16684000000000002,
            0.17278964817523998,
            0.13699999999999998,
            0.158
           ]
          },
          {
           "axis": {
            "matches": true
           },
           "label": "Economy",
           "values": [
            1.25114,
            1.35495,
            1.3950666189193701,
            1.264,
            1.294
           ]
          }
         ],
         "hovertemplate": "Country=Italy<br>%{xaxis.title.text}=%{x}<br>%{yaxis.title.text}=%{y}<extra></extra>",
         "legendgroup": "Italy",
         "marker": {
          "color": "#FECB52",
          "symbol": "circle"
         },
         "name": "Italy",
         "showlegend": true,
         "type": "splom"
        },
        {
         "dimensions": [
          {
           "axis": {
            "matches": true
           },
           "label": "Generosity",
           "values": [
            0.20536,
            0.21698,
            0.22556072473526,
            0.141,
            0.13699999999999998
           ]
          },
          {
           "axis": {
            "matches": true
           },
           "label": "Economy",
           "values": [
            0.68133,
            0.79422,
            0.833756566047668,
            0.7509999999999999,
            0.7759999999999999
           ]
          }
         ],
         "hovertemplate": "Country=Bolivia<br>%{xaxis.title.text}=%{x}<br>%{yaxis.title.text}=%{y}<extra></extra>",
         "legendgroup": "Bolivia",
         "marker": {
          "color": "#636efa",
          "symbol": "circle"
         },
         "name": "Bolivia",
         "showlegend": true,
         "type": "splom"
        },
        {
         "dimensions": [
          {
           "axis": {
            "matches": true
           },
           "label": "Generosity",
           "values": [
            0.20951,
            0.19997,
            0.20877912640571603,
            0.171,
            0.18100000000000002
           ]
          },
          {
           "axis": {
            "matches": true
           },
           "label": "Economy",
           "values": [
            0.59448,
            0.69177,
            0.7288706302642819,
            0.657,
            0.685
           ]
          }
         ],
         "hovertemplate": "Country=Moldova<br>%{xaxis.title.text}=%{x}<br>%{yaxis.title.text}=%{y}<extra></extra>",
         "legendgroup": "Moldova",
         "marker": {
          "color": "#EF553B",
          "symbol": "circle"
         },
         "name": "Moldova",
         "showlegend": true,
         "type": "splom"
        },
        {
         "dimensions": [
          {
           "axis": {
            "matches": true
           },
           "label": "Generosity",
           "values": [
            0.3424,
            0.25296,
            0.224150657653809,
            0.162,
            0.184
           ]
          },
          {
           "axis": {
            "matches": true
           },
           "label": "Economy",
           "values": [
            0.75985,
            0.8937299999999999,
            0.932537317276001,
            0.835,
            0.855
           ]
          }
         ],
         "hovertemplate": "Country=Paraguay<br>%{xaxis.title.text}=%{x}<br>%{yaxis.title.text}=%{y}<extra></extra>",
         "legendgroup": "Paraguay",
         "marker": {
          "color": "#00cc96",
          "symbol": "circle"
         },
         "name": "Paraguay",
         "showlegend": true,
         "type": "splom"
        },
        {
         "dimensions": [
          {
           "axis": {
            "matches": true
           },
           "label": "Generosity",
           "values": [
            0.11827,
            0.15011,
            0.20196442306041698,
            0.14800000000000002,
            0.146
           ]
          },
          {
           "axis": {
            "matches": true
           },
           "label": "Economy",
           "values": [
            1.1225399999999999,
            1.22943,
            1.2845562696456898,
            1.143,
            1.173
           ]
          }
         ],
         "hovertemplate": "Country=Kazakhstan<br>%{xaxis.title.text}=%{x}<br>%{yaxis.title.text}=%{y}<extra></extra>",
         "legendgroup": "Kazakhstan",
         "marker": {
          "color": "#ab63fa",
          "symbol": "circle"
         },
         "name": "Kazakhstan",
         "showlegend": true,
         "type": "splom"
        },
        {
         "dimensions": [
          {
           "axis": {
            "matches": true
           },
           "label": "Generosity",
           "values": [
            0.25328,
            0.25738,
            0.242649093270302,
            0.16,
            0.14400000000000002
           ]
          },
          {
           "axis": {
            "matches": true
           },
           "label": "Economy",
           "values": [
            1.18498,
            1.2994700000000001,
            1.3412059545516999,
            1.219,
            1.258
           ]
          }
         ],
         "hovertemplate": "Country=Slovenia<br>%{xaxis.title.text}=%{x}<br>%{yaxis.title.text}=%{y}<extra></extra>",
         "legendgroup": "Slovenia",
         "marker": {
          "color": "#FFA15A",
          "symbol": "circle"
         },
         "name": "Slovenia",
         "showlegend": true,
         "type": "splom"
        },
        {
         "dimensions": [
          {
           "axis": {
            "matches": true
           },
           "label": "Generosity",
           "values": [
            0.026410000000000003,
            0.02025,
            0.010164656676352,
            0.026000000000000002,
            0.043
           ]
          },
          {
           "axis": {
            "matches": true
           },
           "label": "Economy",
           "values": [
            1.14723,
            1.2692,
            1.3145823478698702,
            1.197,
            1.238
           ]
          }
         ],
         "hovertemplate": "Country=Lithuania<br>%{xaxis.title.text}=%{x}<br>%{yaxis.title.text}=%{y}<extra></extra>",
         "legendgroup": "Lithuania",
         "marker": {
          "color": "#19d3f3",
          "symbol": "circle"
         },
         "name": "Lithuania",
         "showlegend": true,
         "type": "splom"
        },
        {
         "dimensions": [
          {
           "axis": {
            "matches": true
           },
           "label": "Generosity",
           "values": [
            0.27815,
            0.29773,
            0.301674216985703,
            0.20800000000000002,
            0.2
           ]
          },
          {
           "axis": {
            "matches": true
           },
           "label": "Economy",
           "values": [
            0.59325,
            0.69384,
            0.737299203872681,
            0.6679999999999999,
            0.6940000000000001
           ]
          }
         ],
         "hovertemplate": "Country=Nicaragua<br>%{xaxis.title.text}=%{x}<br>%{yaxis.title.text}=%{y}<extra></extra>",
         "legendgroup": "Nicaragua",
         "marker": {
          "color": "#FF6692",
          "symbol": "circle"
         },
         "name": "Nicaragua",
         "showlegend": true,
         "type": "splom"
        },
        {
         "dimensions": [
          {
           "axis": {
            "matches": true
           },
           "label": "Generosity",
           "values": [
            0.14982,
            0.14527,
            0.126819714903831,
            0.092,
            0.083
           ]
          },
          {
           "axis": {
            "matches": true
           },
           "label": "Economy",
           "values": [
            0.9001899999999999,
            0.9960200000000001,
            1.0352252721786501,
            0.934,
            0.96
           ]
          }
         ],
         "hovertemplate": "Country=Peru<br>%{xaxis.title.text}=%{x}<br>%{yaxis.title.text}=%{y}<extra></extra>",
         "legendgroup": "Peru",
         "marker": {
          "color": "#B6E880",
          "symbol": "circle"
         },
         "name": "Peru",
         "showlegend": true,
         "type": "splom"
        },
        {
         "dimensions": [
          {
           "axis": {
            "matches": true
           },
           "label": "Generosity",
           "values": [
            0.11045999999999999,
            0.13942000000000002,
            0.15513750910759,
            0.10099999999999999,
            0.094
           ]
          },
          {
           "axis": {
            "matches": true
           },
           "label": "Economy",
           "values": [
            1.0319200000000002,
            1.1306200000000002,
            1.15655755996704,
            1.0390000000000001,
            1.067
           ]
          }
         ],
         "hovertemplate": "Country=Belarus<br>%{xaxis.title.text}=%{x}<br>%{yaxis.title.text}=%{y}<extra></extra>",
         "legendgroup": "Belarus",
         "marker": {
          "color": "#FF97FF",
          "symbol": "circle"
         },
         "name": "Belarus",
         "showlegend": true,
         "type": "splom"
        },
        {
         "dimensions": [
          {
           "axis": {
            "matches": true
           },
           "label": "Generosity",
           "values": [
            0.16759000000000002,
            0.14443,
            0.158465966582298,
            0.10800000000000001,
            0.11699999999999999
           ]
          },
          {
           "axis": {
            "matches": true
           },
           "label": "Economy",
           "values": [
            1.12555,
            1.24585,
            1.29178786277771,
            1.176,
            1.206
           ]
          }
         ],
         "hovertemplate": "Country=Poland<br>%{xaxis.title.text}=%{x}<br>%{yaxis.title.text}=%{y}<extra></extra>",
         "legendgroup": "Poland",
         "marker": {
          "color": "#FECB52",
          "symbol": "circle"
         },
         "name": "Poland",
         "showlegend": true,
         "type": "splom"
        },
        {
         "dimensions": [
          {
           "axis": {
            "matches": true
           },
           "label": "Generosity",
           "values": [
            0.33075,
            0.41473999999999994,
            0.416608929634094,
            0.311,
            0.26
           ]
          },
          {
           "axis": {
            "matches": true
           },
           "label": "Economy",
           "values": [
            1.12486,
            1.25142,
            1.29121541976929,
            1.161,
            1.2209999999999999
           ]
          }
         ],
         "hovertemplate": "Country=Malaysia<br>%{xaxis.title.text}=%{x}<br>%{yaxis.title.text}=%{y}<extra></extra>",
         "legendgroup": "Malaysia",
         "marker": {
          "color": "#636efa",
          "symbol": "circle"
         },
         "name": "Malaysia",
         "showlegend": true,
         "type": "splom"
        },
        {
         "dimensions": [
          {
           "axis": {
            "matches": true
           },
           "label": "Generosity",
           "values": [
            0.054439999999999995,
            0.18434,
            0.248002976179123,
            0.12,
            0.11900000000000001
           ]
          },
          {
           "axis": {
            "matches": true
           },
           "label": "Economy",
           "values": [
            1.08254,
            1.18649,
            1.22255623340607,
            1.115,
            1.155
           ]
          }
         ],
         "hovertemplate": "Country=Croatia<br>%{xaxis.title.text}=%{x}<br>%{yaxis.title.text}=%{y}<extra></extra>",
         "legendgroup": "Croatia",
         "marker": {
          "color": "#EF553B",
          "symbol": "circle"
         },
         "name": "Croatia",
         "showlegend": true,
         "type": "splom"
        },
        {
         "dimensions": [
          {
           "axis": {
            "matches": true
           },
           "label": "Generosity",
           "values": [
            0.18295,
            0.17087,
            0.15207366645336198,
            0.11599999999999999,
            0.133
           ]
          },
          {
           "axis": {
            "matches": true
           },
           "label": "Economy",
           "values": [
            1.13145,
            1.0668799999999998,
            1.1018030643463101,
            0.985,
            1.044
           ]
          }
         ],
         "hovertemplate": "Country=Libya<br>%{xaxis.title.text}=%{x}<br>%{yaxis.title.text}=%{y}<extra></extra>",
         "legendgroup": "Libya",
         "marker": {
          "color": "#00cc96",
          "symbol": "circle"
         },
         "name": "Libya",
         "showlegend": true,
         "type": "splom"
        },
        {
         "dimensions": [
          {
           "axis": {
            "matches": true
           },
           "label": "Generosity",
           "values": [
            0.00199,
            0.027360000000000002,
            0.0522638224065304,
            0.065,
            0.08199999999999999
           ]
          },
          {
           "axis": {
            "matches": true
           },
           "label": "Economy",
           "values": [
            1.13764,
            1.2322799999999998,
            1.28177809715271,
            1.151,
            1.183
           ]
          }
         ],
         "hovertemplate": "Country=Russia<br>%{xaxis.title.text}=%{x}<br>%{yaxis.title.text}=%{y}<extra></extra>",
         "legendgroup": "Russia",
         "marker": {
          "color": "#ab63fa",
          "symbol": "circle"
         },
         "name": "Russia",
         "showlegend": true,
         "type": "splom"
        },
        {
         "dimensions": [
          {
           "axis": {
            "matches": true
           },
           "label": "Generosity",
           "values": [
            0.2123,
            0.22245,
            0.23381833732128102,
            0.096,
            0.107
           ]
          },
          {
           "axis": {
            "matches": true
           },
           "label": "Economy",
           "values": [
            0.81038,
            0.89333,
            0.925579309463501,
            0.8190000000000001,
            0.831
           ]
          }
         ],
         "hovertemplate": "Country=Jamaica<br>%{xaxis.title.text}=%{x}<br>%{yaxis.title.text}=%{y}<extra></extra>",
         "legendgroup": "Jamaica",
         "marker": {
          "color": "#FFA15A",
          "symbol": "circle"
         },
         "name": "Jamaica",
         "showlegend": true,
         "type": "splom"
        },
        {
         "dimensions": [
          {
           "axis": {
            "matches": true
           },
           "label": "Generosity",
           "values": [
            0.26169000000000003,
            0.26322,
            0.266845703125
           ]
          },
          {
           "axis": {
            "matches": true
           },
           "label": "Economy",
           "values": [
            1.2080600000000001,
            1.31141,
            1.3469113111496
           ]
          }
         ],
         "hovertemplate": "Country=North Cyprus<br>%{xaxis.title.text}=%{x}<br>%{yaxis.title.text}=%{y}<extra></extra>",
         "legendgroup": "North Cyprus",
         "marker": {
          "color": "#19d3f3",
          "symbol": "circle"
         },
         "name": "North Cyprus",
         "showlegend": true,
         "type": "splom"
        },
        {
         "dimensions": [
          {
           "axis": {
            "matches": true
           },
           "label": "Generosity",
           "values": [
            0.30638000000000004,
            0.27906,
            0.271254301071167,
            0.20199999999999999,
            0.19
           ]
          },
          {
           "axis": {
            "matches": true
           },
           "label": "Economy",
           "values": [
            1.20813,
            1.31857,
            1.3559380769729599,
            1.229,
            1.263
           ]
          }
         ],
         "hovertemplate": "Country=Cyprus<br>%{xaxis.title.text}=%{x}<br>%{yaxis.title.text}=%{y}<extra></extra>",
         "legendgroup": "Cyprus",
         "marker": {
          "color": "#FF6692",
          "symbol": "circle"
         },
         "name": "Cyprus",
         "showlegend": true,
         "type": "splom"
        },
        {
         "dimensions": [
          {
           "axis": {
            "matches": true
           },
           "label": "Generosity",
           "values": [
            0.07822,
            0.07044,
            0.0694366469979286,
            0.055,
            0.073
           ]
          },
          {
           "axis": {
            "matches": true
           },
           "label": "Economy",
           "values": [
            0.93929,
            1.05266,
            1.09186446666718,
            0.9790000000000001,
            1.002
           ]
          }
         ],
         "hovertemplate": "Country=Algeria<br>%{xaxis.title.text}=%{x}<br>%{yaxis.title.text}=%{y}<extra></extra>",
         "legendgroup": "Algeria",
         "marker": {
          "color": "#B6E880",
          "symbol": "circle"
         },
         "name": "Algeria",
         "showlegend": true,
         "type": "splom"
        },
        {
         "dimensions": [
          {
           "axis": {
            "matches": true
           },
           "label": "Generosity",
           "values": [
            0.2831,
            0.27992,
            0.319931447505951,
            0.27399999999999997,
            0.262
           ]
          },
          {
           "axis": {
            "matches": true
           },
           "label": "Economy",
           "values": [
            0.80148,
            0.90145,
            0.951484382152557,
            0.855,
            0.882
           ]
          }
         ],
         "hovertemplate": "Country=Kosovo<br>%{xaxis.title.text}=%{x}<br>%{yaxis.title.text}=%{y}<extra></extra>",
         "legendgroup": "Kosovo",
         "marker": {
          "color": "#FF97FF",
          "symbol": "circle"
         },
         "name": "Kosovo",
         "showlegend": true,
         "type": "splom"
        },
        {
         "dimensions": [
          {
           "axis": {
            "matches": true
           },
           "label": "Generosity",
           "values": [
            0.16979,
            0.22566999999999998,
            0.24992498755454998,
            0.19899999999999998,
            0.244
           ]
          },
          {
           "axis": {
            "matches": true
           },
           "label": "Economy",
           "values": [
            0.95847,
            1.08017,
            1.1307767629623402,
            1.016,
            1.052
           ]
          }
         ],
         "hovertemplate": "Country=Turkmenistan<br>%{xaxis.title.text}=%{x}<br>%{yaxis.title.text}=%{y}<extra></extra>",
         "legendgroup": "Turkmenistan",
         "marker": {
          "color": "#FECB52",
          "symbol": "circle"
         },
         "name": "Turkmenistan",
         "showlegend": true,
         "type": "splom"
        },
        {
         "dimensions": [
          {
           "axis": {
            "matches": true
           },
           "label": "Generosity",
           "values": [
            0.37744,
            0.36951,
            0.360933750867844,
            0.245,
            0.215
           ]
          },
          {
           "axis": {
            "matches": true
           },
           "label": "Economy",
           "values": [
            1.0076100000000001,
            1.14372,
            1.1893955469131499,
            1.09,
            1.12
           ]
          }
         ],
         "hovertemplate": "Country=Mauritius<br>%{xaxis.title.text}=%{x}<br>%{yaxis.title.text}=%{y}<extra></extra>",
         "legendgroup": "Mauritius",
         "marker": {
          "color": "#636efa",
          "symbol": "circle"
         },
         "name": "Mauritius",
         "showlegend": true,
         "type": "splom"
        },
        {
         "dimensions": [
          {
           "axis": {
            "matches": true
           },
           "label": "Generosity",
           "values": [
            0.39478,
            0.40097,
            0.24600000000000002,
            0.258
           ]
          },
          {
           "axis": {
            "matches": true
           },
           "label": "Economy",
           "values": [
            1.38604,
            1.5107,
            1.405,
            1.4380000000000002
           ]
          }
         ],
         "hovertemplate": "Country=Hong Kong<br>%{xaxis.title.text}=%{x}<br>%{yaxis.title.text}=%{y}<extra></extra>",
         "legendgroup": "Hong Kong",
         "marker": {
          "color": "#EF553B",
          "symbol": "circle"
         },
         "name": "Hong Kong",
         "showlegend": true,
         "type": "splom"
        },
        {
         "dimensions": [
          {
           "axis": {
            "matches": true
           },
           "label": "Generosity",
           "values": [
            0.0868,
            0.08423,
            0.0988908112049103,
            0.086,
            0.10300000000000001
           ]
          },
          {
           "axis": {
            "matches": true
           },
           "label": "Economy",
           "values": [
            1.15174,
            1.2796399999999999,
            1.3208793401718102,
            1.2,
            1.237
           ]
          }
         ],
         "hovertemplate": "Country=Estonia<br>%{xaxis.title.text}=%{x}<br>%{yaxis.title.text}=%{y}<extra></extra>",
         "legendgroup": "Estonia",
         "marker": {
          "color": "#00cc96",
          "symbol": "circle"
         },
         "name": "Estonia",
         "showlegend": true,
         "type": "splom"
        },
        {
         "dimensions": [
          {
           "axis": {
            "matches": true
           },
           "label": "Generosity",
           "values": [
            0.51535,
            0.56521,
            0.611704587936401,
            0.484,
            0.498
           ]
          },
          {
           "axis": {
            "matches": true
           },
           "label": "Economy",
           "values": [
            0.8282700000000001,
            0.95104,
            0.995538592338562,
            0.899,
            0.9309999999999999
           ]
          }
         ],
         "hovertemplate": "Country=Indonesia<br>%{xaxis.title.text}=%{x}<br>%{yaxis.title.text}=%{y}<extra></extra>",
         "legendgroup": "Indonesia",
         "marker": {
          "color": "#ab63fa",
          "symbol": "circle"
         },
         "name": "Indonesia",
         "showlegend": true,
         "type": "splom"
        },
        {
         "dimensions": [
          {
           "axis": {
            "matches": true
           },
           "label": "Generosity",
           "values": [
            0.1686,
            0.25075,
            0.23496805131435397,
            0.177,
            0.147
           ]
          },
          {
           "axis": {
            "matches": true
           },
           "label": "Economy",
           "values": [
            0.63216,
            0.74037,
            0.7885475754737851,
            0.715,
            0.741
           ]
          }
         ],
         "hovertemplate": "Country=Vietnam<br>%{xaxis.title.text}=%{x}<br>%{yaxis.title.text}=%{y}<extra></extra>",
         "legendgroup": "Vietnam",
         "marker": {
          "color": "#FFA15A",
          "symbol": "circle"
         },
         "name": "Vietnam",
         "showlegend": true,
         "type": "splom"
        },
        {
         "dimensions": [
          {
           "axis": {
            "matches": true
           },
           "label": "Generosity",
           "values": [
            0.12253,
            0.04707,
            0.0466930419206619,
            0.106,
            0.083
           ]
          },
          {
           "axis": {
            "matches": true
           },
           "label": "Economy",
           "values": [
            1.06098,
            1.1649200000000002,
            1.1982743740081798,
            1.148,
            1.183
           ]
          }
         ],
         "hovertemplate": "Country=Turkey<br>%{xaxis.title.text}=%{x}<br>%{yaxis.title.text}=%{y}<extra></extra>",
         "legendgroup": "Turkey",
         "marker": {
          "color": "#19d3f3",
          "symbol": "circle"
         },
         "name": "Turkey",
         "showlegend": true,
         "type": "splom"
        },
        {
         "dimensions": [
          {
           "axis": {
            "matches": true
           },
           "label": "Generosity",
           "values": [
            0.3003,
            0.38432,
            0.42858037352562,
            0.281,
            0.3
           ]
          },
          {
           "axis": {
            "matches": true
           },
           "label": "Economy",
           "values": [
            0.47428000000000003,
            0.5604399999999999,
            0.5962200760841371,
            0.53,
            0.551
           ]
          }
         ],
         "hovertemplate": "Country=Kyrgyzstan<br>%{xaxis.title.text}=%{x}<br>%{yaxis.title.text}=%{y}<extra></extra>",
         "legendgroup": "Kyrgyzstan",
         "marker": {
          "color": "#FF6692",
          "symbol": "circle"
         },
         "name": "Kyrgyzstan",
         "showlegend": true,
         "type": "splom"
        },
        {
         "dimensions": [
          {
           "axis": {
            "matches": true
           },
           "label": "Generosity",
           "values": [
            0.27233,
            0.23219,
            0.23094719648361198,
            0.201,
            0.215
           ]
          },
          {
           "axis": {
            "matches": true
           },
           "label": "Economy",
           "values": [
            0.65435,
            0.75216,
            0.783756256103516,
            0.6890000000000001,
            0.696
           ]
          }
         ],
         "hovertemplate": "Country=Nigeria<br>%{xaxis.title.text}=%{x}<br>%{yaxis.title.text}=%{y}<extra></extra>",
         "legendgroup": "Nigeria",
         "marker": {
          "color": "#B6E880",
          "symbol": "circle"
         },
         "name": "Nigeria",
         "showlegend": true,
         "type": "splom"
        },
        {
         "dimensions": [
          {
           "axis": {
            "matches": true
           },
           "label": "Generosity",
           "values": [
            0.47998,
            0.48546000000000006,
            0.474054545164108,
            0.364,
            0.37
           ]
          },
          {
           "axis": {
            "matches": true
           },
           "label": "Economy",
           "values": [
            0.77042,
            0.8527,
            0.885416388511658,
            0.7959999999999999,
            0.813
           ]
          }
         ],
         "hovertemplate": "Country=Bhutan<br>%{xaxis.title.text}=%{x}<br>%{yaxis.title.text}=%{y}<extra></extra>",
         "legendgroup": "Bhutan",
         "marker": {
          "color": "#FF97FF",
          "symbol": "circle"
         },
         "name": "Bhutan",
         "showlegend": true,
         "type": "splom"
        },
        {
         "dimensions": [
          {
           "axis": {
            "matches": true
           },
           "label": "Generosity",
           "values": [
            0.07799,
            0.0564,
            0.0452693402767181,
            0.031,
            0.035
           ]
          },
          {
           "axis": {
            "matches": true
           },
           "label": "Economy",
           "values": [
            1.02389,
            1.12373,
            1.1536017656326298,
            1.024,
            1.043
           ]
          }
         ],
         "hovertemplate": "Country=Azerbaijan<br>%{xaxis.title.text}=%{x}<br>%{yaxis.title.text}=%{y}<extra></extra>",
         "legendgroup": "Azerbaijan",
         "marker": {
          "color": "#FECB52",
          "symbol": "circle"
         },
         "name": "Azerbaijan",
         "showlegend": true,
         "type": "splom"
        },
        {
         "dimensions": [
          {
           "axis": {
            "matches": true
           },
           "label": "Generosity",
           "values": [
            0.33671,
            0.31185,
            0.31544601917266807,
            0.21600000000000003,
            0.22
           ]
          },
          {
           "axis": {
            "matches": true
           },
           "label": "Economy",
           "values": [
            0.59543,
            0.68816,
            0.7268835306167599,
            0.652,
            0.677
           ]
          }
         ],
         "hovertemplate": "Country=Pakistan<br>%{xaxis.title.text}=%{x}<br>%{yaxis.title.text}=%{y}<extra></extra>",
         "legendgroup": "Pakistan",
         "marker": {
          "color": "#636efa",
          "symbol": "circle"
         },
         "name": "Pakistan",
         "showlegend": true,
         "type": "splom"
        },
        {
         "dimensions": [
          {
           "axis": {
            "matches": true
           },
           "label": "Generosity",
           "values": [
            0.11052999999999999,
            0.14262,
            0.17217046022415197,
            0.13,
            0.11
           ]
          },
          {
           "axis": {
            "matches": true
           },
           "label": "Economy",
           "values": [
            0.9019799999999999,
            0.9967299999999999,
            0.9910123944282528,
            0.8220000000000001,
            0.8370000000000001
           ]
          }
         ],
         "hovertemplate": "Country=Jordan<br>%{xaxis.title.text}=%{x}<br>%{yaxis.title.text}=%{y}<extra></extra>",
         "legendgroup": "Jordan",
         "marker": {
          "color": "#EF553B",
          "symbol": "circle"
         },
         "name": "Jordan",
         "showlegend": true,
         "type": "splom"
        },
        {
         "dimensions": [
          {
           "axis": {
            "matches": true
           },
           "label": "Generosity",
           "values": [
            0.1614,
            0.17190999999999998,
            0.197911024093628,
            0.111,
            0.142
           ]
          },
          {
           "axis": {
            "matches": true
           },
           "label": "Economy",
           "values": [
            0.9743799999999999,
            1.07838,
            1.12112903594971,
            1.0170000000000001,
            1.051
           ]
          }
         ],
         "hovertemplate": "Country=Montenegro<br>%{xaxis.title.text}=%{x}<br>%{yaxis.title.text}=%{y}<extra></extra>",
         "legendgroup": "Montenegro",
         "marker": {
          "color": "#00cc96",
          "symbol": "circle"
         },
         "name": "Montenegro",
         "showlegend": true,
         "type": "splom"
        },
        {
         "dimensions": [
          {
           "axis": {
            "matches": true
           },
           "label": "Generosity",
           "values": [
            0.08185,
            0.049589999999999995,
            0.0288068410009146,
            0.028999999999999998,
            0.057999999999999996
           ]
          },
          {
           "axis": {
            "matches": true
           },
           "label": "Economy",
           "values": [
            0.89012,
            1.0278,
            1.08116579055786,
            0.9890000000000001,
            1.0290000000000001
           ]
          }
         ],
         "hovertemplate": "Country=China<br>%{xaxis.title.text}=%{x}<br>%{yaxis.title.text}=%{y}<extra></extra>",
         "legendgroup": "China",
         "marker": {
          "color": "#ab63fa",
          "symbol": "circle"
         },
         "name": "China",
         "showlegend": true,
         "type": "splom"
        },
        {
         "dimensions": [
          {
           "axis": {
            "matches": true
           },
           "label": "Generosity",
           "values": [
            0.19591,
            0.17865999999999999,
            0.249580144882202,
            0.221,
            0.247
           ]
          },
          {
           "axis": {
            "matches": true
           },
           "label": "Economy",
           "values": [
            0.47038,
            0.61202,
            0.6364067792892459,
            0.562,
            0.578
           ]
          }
         ],
         "hovertemplate": "Country=Zambia<br>%{xaxis.title.text}=%{x}<br>%{yaxis.title.text}=%{y}<extra></extra>",
         "legendgroup": "Zambia",
         "marker": {
          "color": "#FFA15A",
          "symbol": "circle"
         },
         "name": "Zambia",
         "showlegend": true,
         "type": "splom"
        },
        {
         "dimensions": [
          {
           "axis": {
            "matches": true
           },
           "label": "Generosity",
           "values": [
            0.13748,
            0.12889,
            0.133519917726517,
            0.08800000000000001,
            0.083
           ]
          },
          {
           "axis": {
            "matches": true
           },
           "label": "Economy",
           "values": [
            1.04345,
            1.1697,
            1.21768391132355,
            1.1159999999999999,
            1.162
           ]
          }
         ],
         "hovertemplate": "Country=Romania<br>%{xaxis.title.text}=%{x}<br>%{yaxis.title.text}=%{y}<extra></extra>",
         "legendgroup": "Romania",
         "marker": {
          "color": "#19d3f3",
          "symbol": "circle"
         },
         "name": "Romania",
         "showlegend": true,
         "type": "splom"
        },
        {
         "dimensions": [
          {
           "axis": {
            "matches": true
           },
           "label": "Generosity",
           "values": [
            0.19230999999999998,
            0.20736999999999997,
            0.22012588381767298,
            0.134,
            0.13699999999999998
           ]
          },
          {
           "axis": {
            "matches": true
           },
           "label": "Economy",
           "values": [
            0.92053,
            1.03437,
            1.06931757926941,
            0.975,
            1.004
           ]
          }
         ],
         "hovertemplate": "Country=Serbia<br>%{xaxis.title.text}=%{x}<br>%{yaxis.title.text}=%{y}<extra></extra>",
         "legendgroup": "Serbia",
         "marker": {
          "color": "#FF6692",
          "symbol": "circle"
         },
         "name": "Serbia",
         "showlegend": true,
         "type": "splom"
        },
        {
         "dimensions": [
          {
           "axis": {
            "matches": true
           },
           "label": "Generosity",
           "values": [
            0.13719,
            0.11690999999999999,
            0.0951027125120163,
            0.055,
            0.047
           ]
          },
          {
           "axis": {
            "matches": true
           },
           "label": "Economy",
           "values": [
            1.15991,
            1.27607,
            1.3151752948761002,
            1.188,
            1.2209999999999999
           ]
          }
         ],
         "hovertemplate": "Country=Portugal<br>%{xaxis.title.text}=%{x}<br>%{yaxis.title.text}=%{y}<extra></extra>",
         "legendgroup": "Portugal",
         "marker": {
          "color": "#B6E880",
          "symbol": "circle"
         },
         "name": "Portugal",
         "showlegend": true,
         "type": "splom"
        },
        {
         "dimensions": [
          {
           "axis": {
            "matches": true
           },
           "label": "Generosity",
           "values": [
            0.18225999999999998,
            0.17445,
            0.153074786067009,
            0.092,
            0.075
           ]
          },
          {
           "axis": {
            "matches": true
           },
           "label": "Economy",
           "values": [
            1.11312,
            1.2178799999999999,
            1.26074862480164,
            1.148,
            1.187
           ]
          }
         ],
         "hovertemplate": "Country=Latvia<br>%{xaxis.title.text}=%{x}<br>%{yaxis.title.text}=%{y}<extra></extra>",
         "legendgroup": "Latvia",
         "marker": {
          "color": "#FF97FF",
          "symbol": "circle"
         },
         "name": "Latvia",
         "showlegend": true,
         "type": "splom"
        },
        {
         "dimensions": [
          {
           "axis": {
            "matches": true
           },
           "label": "Generosity",
           "values": [
            0.24991,
            0.21674000000000002,
            0.193513423204422,
            0.12,
            0.11699999999999999
           ]
          },
          {
           "axis": {
            "matches": true
           },
           "label": "Economy",
           "values": [
            0.70532,
            0.81217,
            0.85769921541214,
            0.775,
            0.807
           ]
          }
         ],
         "hovertemplate": "Country=Philippines<br>%{xaxis.title.text}=%{x}<br>%{yaxis.title.text}=%{y}<extra></extra>",
         "legendgroup": "Philippines",
         "marker": {
          "color": "#FECB52",
          "symbol": "circle"
         },
         "name": "Philippines",
         "showlegend": true,
         "type": "splom"
        },
        {
         "dimensions": [
          {
           "axis": {
            "matches": true
           },
           "label": "Generosity",
           "values": [
            0.5031800000000001
           ]
          },
          {
           "axis": {
            "matches": true
           },
           "label": "Economy",
           "values": [
            0.18847
           ]
          }
         ],
         "hovertemplate": "Country=Somaliland region<br>%{xaxis.title.text}=%{x}<br>%{yaxis.title.text}=%{y}<extra></extra>",
         "legendgroup": "Somaliland region",
         "marker": {
          "color": "#636efa",
          "symbol": "circle"
         },
         "name": "Somaliland region",
         "showlegend": true,
         "type": "splom"
        },
        {
         "dimensions": [
          {
           "axis": {
            "matches": true
           },
           "label": "Generosity",
           "values": [
            0.07172,
            0.040530000000000004,
            0.0322099551558495,
            0.026000000000000002,
            0.036000000000000004
           ]
          },
          {
           "axis": {
            "matches": true
           },
           "label": "Economy",
           "values": [
            0.7347899999999999,
            0.8405799999999999,
            0.8781145811080929,
            0.779,
            0.8009999999999999
           ]
          }
         ],
         "hovertemplate": "Country=Morocco<br>%{xaxis.title.text}=%{x}<br>%{yaxis.title.text}=%{y}<extra></extra>",
         "legendgroup": "Morocco",
         "marker": {
          "color": "#EF553B",
          "symbol": "circle"
         },
         "name": "Morocco",
         "showlegend": true,
         "type": "splom"
        },
        {
         "dimensions": [
          {
           "axis": {
            "matches": true
           },
           "label": "Generosity",
           "values": [
            0.22359,
            0.23506999999999997,
            0.25376096367836,
            0.17300000000000001
           ]
          },
          {
           "axis": {
            "matches": true
           },
           "label": "Economy",
           "values": [
            0.91851,
            1.0193,
            1.06457793712616,
            0.9590000000000001
           ]
          }
         ],
         "hovertemplate": "Country=Macedonia<br>%{xaxis.title.text}=%{x}<br>%{yaxis.title.text}=%{y}<extra></extra>",
         "legendgroup": "Macedonia",
         "marker": {
          "color": "#00cc96",
          "symbol": "circle"
         },
         "name": "Macedonia",
         "showlegend": true,
         "type": "splom"
        },
        {
         "dimensions": [
          {
           "axis": {
            "matches": true
           },
           "label": "Generosity",
           "values": [
            0.22269,
            0.322228103876114,
            0.20600000000000002,
            0.19699999999999998
           ]
          },
          {
           "axis": {
            "matches": true
           },
           "label": "Economy",
           "values": [
            0.08308,
            0.23430564999580397,
            0.198,
            0.204
           ]
          }
         ],
         "hovertemplate": "Country=Mozambique<br>%{xaxis.title.text}=%{x}<br>%{yaxis.title.text}=%{y}<extra></extra>",
         "legendgroup": "Mozambique",
         "marker": {
          "color": "#ab63fa",
          "symbol": "circle"
         },
         "name": "Mozambique",
         "showlegend": true,
         "type": "splom"
        },
        {
         "dimensions": [
          {
           "axis": {
            "matches": true
           },
           "label": "Generosity",
           "values": [
            0.14272,
            0.1684,
            0.20131294429302202,
            0.149,
            0.17800000000000002
           ]
          },
          {
           "axis": {
            "matches": true
           },
           "label": "Economy",
           "values": [
            0.8786700000000001,
            0.9553,
            0.996192753314972,
            0.9159999999999999,
            0.9470000000000001
           ]
          }
         ],
         "hovertemplate": "Country=Albania<br>%{xaxis.title.text}=%{x}<br>%{yaxis.title.text}=%{y}<extra></extra>",
         "legendgroup": "Albania",
         "marker": {
          "color": "#FFA15A",
          "symbol": "circle"
         },
         "name": "Albania",
         "showlegend": true,
         "type": "splom"
        },
        {
         "dimensions": [
          {
           "axis": {
            "matches": true
           },
           "label": "Generosity",
           "values": [
            0.24808000000000002,
            0.29889,
            0.328867495059967,
            0.21600000000000003,
            0.263
           ]
          },
          {
           "axis": {
            "matches": true
           },
           "label": "Economy",
           "values": [
            0.8322299999999999,
            0.9338299999999999,
            0.982409417629242,
            0.915,
            0.945
           ]
          }
         ],
         "hovertemplate": "Country=Bosnia and Herzegovina<br>%{xaxis.title.text}=%{x}<br>%{yaxis.title.text}=%{y}<extra></extra>",
         "legendgroup": "Bosnia and Herzegovina",
         "marker": {
          "color": "#19d3f3",
          "symbol": "circle"
         },
         "name": "Bosnia and Herzegovina",
         "showlegend": true,
         "type": "splom"
        },
        {
         "dimensions": [
          {
           "axis": {
            "matches": true
           },
           "label": "Generosity",
           "values": [
            0.16388,
            0.157497271895409,
            0.11599999999999999,
            0.107
           ]
          },
          {
           "axis": {
            "matches": true
           },
           "label": "Economy",
           "values": [
            0.37545,
            0.521021246910095,
            0.47200000000000003,
            0.489
           ]
          }
         ],
         "hovertemplate": "Country=Lesotho<br>%{xaxis.title.text}=%{x}<br>%{yaxis.title.text}=%{y}<extra></extra>",
         "legendgroup": "Lesotho",
         "marker": {
          "color": "#FF6692",
          "symbol": "circle"
         },
         "name": "Lesotho",
         "showlegend": true,
         "type": "splom"
        },
        {
         "dimensions": [
          {
           "axis": {
            "matches": true
           },
           "label": "Generosity",
           "values": [
            0.21684,
            0.21286,
            0.186967849731445,
            0.12,
            0.113
           ]
          },
          {
           "axis": {
            "matches": true
           },
           "label": "Economy",
           "values": [
            0.8953700000000001,
            1.02787,
            1.07937383651733,
            0.982,
            1.015
           ]
          }
         ],
         "hovertemplate": "Country=Dominican Republic<br>%{xaxis.title.text}=%{x}<br>%{yaxis.title.text}=%{y}<extra></extra>",
         "legendgroup": "Dominican Republic",
         "marker": {
          "color": "#B6E880",
          "symbol": "circle"
         },
         "name": "Dominican Republic",
         "showlegend": true,
         "type": "splom"
        },
        {
         "dimensions": [
          {
           "axis": {
            "matches": true
           },
           "label": "Generosity",
           "values": [
            0.42191999999999996,
            0.43078999999999995,
            0.23,
            0.266
           ]
          },
          {
           "axis": {
            "matches": true
           },
           "label": "Economy",
           "values": [
            0.5906600000000001,
            0.68042,
            0.72,
            0.764
           ]
          }
         ],
         "hovertemplate": "Country=Laos<br>%{xaxis.title.text}=%{x}<br>%{yaxis.title.text}=%{y}<extra></extra>",
         "legendgroup": "Laos",
         "marker": {
          "color": "#FF97FF",
          "symbol": "circle"
         },
         "name": "Laos",
         "showlegend": true,
         "type": "splom"
        },
        {
         "dimensions": [
          {
           "axis": {
            "matches": true
           },
           "label": "Generosity",
           "values": [
            0.3323,
            0.34539000000000003,
            0.338464230298996,
            0.253,
            0.235
           ]
          },
          {
           "axis": {
            "matches": true
           },
           "label": "Economy",
           "values": [
            0.82819,
            0.9885299999999999,
            1.0272358655929599,
            0.914,
            0.948
           ]
          }
         ],
         "hovertemplate": "Country=Mongolia<br>%{xaxis.title.text}=%{x}<br>%{yaxis.title.text}=%{y}<extra></extra>",
         "legendgroup": "Mongolia",
         "marker": {
          "color": "#FECB52",
          "symbol": "circle"
         },
         "name": "Mongolia",
         "showlegend": true,
         "type": "splom"
        },
        {
         "dimensions": [
          {
           "axis": {
            "matches": true
           },
           "label": "Generosity",
           "values": [
            0.18259,
            0.07400000000000001
           ]
          },
          {
           "axis": {
            "matches": true
           },
           "label": "Economy",
           "values": [
            0.71206,
            0.8109999999999999
           ]
          }
         ],
         "hovertemplate": "Country=Swaziland<br>%{xaxis.title.text}=%{x}<br>%{yaxis.title.text}=%{y}<extra></extra>",
         "legendgroup": "Swaziland",
         "marker": {
          "color": "#636efa",
          "symbol": "circle"
         },
         "name": "Swaziland",
         "showlegend": true,
         "type": "splom"
        },
        {
         "dimensions": [
          {
           "axis": {
            "matches": true
           },
           "label": "Generosity",
           "values": [
            0,
            0,
            0,
            0,
            0
           ]
          },
          {
           "axis": {
            "matches": true
           },
           "label": "Economy",
           "values": [
            1.15406,
            1.24886,
            1.28948748111725,
            1.1540000000000001,
            1.181
           ]
          }
         ],
         "hovertemplate": "Country=Greece<br>%{xaxis.title.text}=%{x}<br>%{yaxis.title.text}=%{y}<extra></extra>",
         "legendgroup": "Greece",
         "marker": {
          "color": "#EF553B",
          "symbol": "circle"
         },
         "name": "Greece",
         "showlegend": true,
         "type": "splom"
        },
        {
         "dimensions": [
          {
           "axis": {
            "matches": true
           },
           "label": "Generosity",
           "values": [
            0.21854,
            0.23693000000000003,
            0.26445075869560203,
            0.214,
            0.166
           ]
          },
          {
           "axis": {
            "matches": true
           },
           "label": "Economy",
           "values": [
            1.0256399999999999,
            1.12268,
            1.07498753070831,
            0.965,
            0.987
           ]
          }
         ],
         "hovertemplate": "Country=Lebanon<br>%{xaxis.title.text}=%{x}<br>%{yaxis.title.text}=%{y}<extra></extra>",
         "legendgroup": "Lebanon",
         "marker": {
          "color": "#00cc96",
          "symbol": "circle"
         },
         "name": "Lebanon",
         "showlegend": true,
         "type": "splom"
        },
        {
         "dimensions": [
          {
           "axis": {
            "matches": true
           },
           "label": "Generosity",
           "values": [
            0.128,
            0.099,
            0.0784016624093056,
            0.061,
            0.081
           ]
          },
          {
           "axis": {
            "matches": true
           },
           "label": "Economy",
           "values": [
            1.12094,
            1.24142,
            1.2860119342803997,
            1.171,
            1.2009999999999998
           ]
          }
         ],
         "hovertemplate": "Country=Hungary<br>%{xaxis.title.text}=%{x}<br>%{yaxis.title.text}=%{y}<extra></extra>",
         "legendgroup": "Hungary",
         "marker": {
          "color": "#ab63fa",
          "symbol": "circle"
         },
         "name": "Hungary",
         "showlegend": true,
         "type": "splom"
        },
        {
         "dimensions": [
          {
           "axis": {
            "matches": true
           },
           "label": "Generosity",
           "values": [
            0.23026999999999997,
            0.2044,
            0.23618887364864302,
            0.19699999999999998,
            0.24600000000000002
           ]
          },
          {
           "axis": {
            "matches": true
           },
           "label": "Economy",
           "values": [
            0.59532,
            0.69429,
            0.730573117733002,
            0.62,
            0.642
           ]
          }
         ],
         "hovertemplate": "Country=Honduras<br>%{xaxis.title.text}=%{x}<br>%{yaxis.title.text}=%{y}<extra></extra>",
         "legendgroup": "Honduras",
         "marker": {
          "color": "#FFA15A",
          "symbol": "circle"
         },
         "name": "Honduras",
         "showlegend": true,
         "type": "splom"
        },
        {
         "dimensions": [
          {
           "axis": {
            "matches": true
           },
           "label": "Generosity",
           "values": [
            0.22974,
            0.25998000000000004,
            0.24899764358997303,
            0.187,
            0.23
           ]
          },
          {
           "axis": {
            "matches": true
           },
           "label": "Economy",
           "values": [
            0.39047,
            0.48835,
            0.524713635444641,
            0.474,
            0.493
           ]
          }
         ],
         "hovertemplate": "Country=Tajikistan<br>%{xaxis.title.text}=%{x}<br>%{yaxis.title.text}=%{y}<extra></extra>",
         "legendgroup": "Tajikistan",
         "marker": {
          "color": "#19d3f3",
          "symbol": "circle"
         },
         "name": "Tajikistan",
         "showlegend": true,
         "type": "splom"
        },
        {
         "dimensions": [
          {
           "axis": {
            "matches": true
           },
           "label": "Generosity",
           "values": [
            0.06431,
            0.03936,
            0.0496933571994305,
            0.04,
            0.059000000000000004
           ]
          },
          {
           "axis": {
            "matches": true
           },
           "label": "Economy",
           "values": [
            0.88113,
            0.97724,
            1.00726580619812,
            0.9,
            0.9209999999999999
           ]
          }
         ],
         "hovertemplate": "Country=Tunisia<br>%{xaxis.title.text}=%{x}<br>%{yaxis.title.text}=%{y}<extra></extra>",
         "legendgroup": "Tunisia",
         "marker": {
          "color": "#FF6692",
          "symbol": "circle"
         },
         "name": "Tunisia",
         "showlegend": true,
         "type": "splom"
        },
        {
         "dimensions": [
          {
           "axis": {
            "matches": true
           },
           "label": "Generosity",
           "values": [
            0.11250999999999999,
            0.11154000000000001,
            0.114173173904419,
            0.086,
            0.10300000000000001
           ]
          },
          {
           "axis": {
            "matches": true
           },
           "label": "Economy",
           "values": [
            0.59867,
            0.67024,
            0.716249227523804,
            0.642,
            0.657
           ]
          }
         ],
         "hovertemplate": "Country=Palestinian Territories<br>%{xaxis.title.text}=%{x}<br>%{yaxis.title.text}=%{y}<extra></extra>",
         "legendgroup": "Palestinian Territories",
         "marker": {
          "color": "#B6E880",
          "symbol": "circle"
         },
         "name": "Palestinian Territories",
         "showlegend": true,
         "type": "splom"
        },
        {
         "dimensions": [
          {
           "axis": {
            "matches": true
           },
           "label": "Generosity",
           "values": [
            0.21222,
            0.19132000000000002,
            0.17225535213947304,
            0.153,
            0.166
           ]
          },
          {
           "axis": {
            "matches": true
           },
           "label": "Economy",
           "values": [
            0.39753,
            0.54177,
            0.586682975292206,
            0.532,
            0.562
           ]
          }
         ],
         "hovertemplate": "Country=Bangladesh<br>%{xaxis.title.text}=%{x}<br>%{yaxis.title.text}=%{y}<extra></extra>",
         "legendgroup": "Bangladesh",
         "marker": {
          "color": "#FF97FF",
          "symbol": "circle"
         },
         "name": "Bangladesh",
         "showlegend": true,
         "type": "splom"
        },
        {
         "dimensions": [
          {
           "axis": {
            "matches": true
           },
           "label": "Generosity",
           "values": [
            0.38086,
            0.38538,
            0.387242913246155,
            0.282,
            0.27
           ]
          },
          {
           "axis": {
            "matches": true
           },
           "label": "Economy",
           "values": [
            1.0088,
            1.11758,
            1.15687310695648,
            1.0590000000000002,
            1.1
           ]
          }
         ],
         "hovertemplate": "Country=Iran<br>%{xaxis.title.text}=%{x}<br>%{yaxis.title.text}=%{y}<extra></extra>",
         "legendgroup": "Iran",
         "marker": {
          "color": "#FECB52",
          "symbol": "circle"
         },
         "name": "Iran",
         "showlegend": true,
         "type": "splom"
        },
        {
         "dimensions": [
          {
           "axis": {
            "matches": true
           },
           "label": "Generosity",
           "values": [
            0.15275,
            0.20363,
            0.270061463117599,
            0.187,
            0.187
           ]
          },
          {
           "axis": {
            "matches": true
           },
           "label": "Economy",
           "values": [
            0.79907,
            0.87287,
            0.89465194940567,
            0.7929999999999999,
            0.82
           ]
          }
         ],
         "hovertemplate": "Country=Ukraine<br>%{xaxis.title.text}=%{x}<br>%{yaxis.title.text}=%{y}<extra></extra>",
         "legendgroup": "Ukraine",
         "marker": {
          "color": "#636efa",
          "symbol": "circle"
         },
         "name": "Ukraine",
         "showlegend": true,
         "type": "splom"
        },
        {
         "dimensions": [
          {
           "axis": {
            "matches": true
           },
           "label": "Generosity",
           "values": [
            0.17922000000000002,
            0.19589,
            0.19963726401329,
            0.14800000000000002,
            0.14800000000000002
           ]
          },
          {
           "axis": {
            "matches": true
           },
           "label": "Economy",
           "values": [
            0.98549,
            1.07474,
            1.1027104854583702,
            1.01,
            1.043
           ]
          }
         ],
         "hovertemplate": "Country=Iraq<br>%{xaxis.title.text}=%{x}<br>%{yaxis.title.text}=%{y}<extra></extra>",
         "legendgroup": "Iraq",
         "marker": {
          "color": "#EF553B",
          "symbol": "circle"
         },
         "name": "Iraq",
         "showlegend": true,
         "type": "splom"
        },
        {
         "dimensions": [
          {
           "axis": {
            "matches": true
           },
           "label": "Generosity",
           "values": [
            0.11972999999999999,
            0.13656,
            0.13936237990856198,
            0.10300000000000001,
            0.13
           ]
          },
          {
           "axis": {
            "matches": true
           },
           "label": "Economy",
           "values": [
            0.9204899999999999,
            1.02416,
            1.05469870567322,
            0.94,
            0.96
           ]
          }
         ],
         "hovertemplate": "Country=South Africa<br>%{xaxis.title.text}=%{x}<br>%{yaxis.title.text}=%{y}<extra></extra>",
         "legendgroup": "South Africa",
         "marker": {
          "color": "#00cc96",
          "symbol": "circle"
         },
         "name": "South Africa",
         "showlegend": true,
         "type": "splom"
        },
        {
         "dimensions": [
          {
           "axis": {
            "matches": true
           },
           "label": "Generosity",
           "values": [
            0.23087,
            0.21203000000000002,
            0.25692394375801103,
            0.212,
            0.245
           ]
          },
          {
           "axis": {
            "matches": true
           },
           "label": "Economy",
           "values": [
            0.5455800000000001,
            0.63107,
            0.667224824428558,
            0.5920000000000001,
            0.611
           ]
          }
         ],
         "hovertemplate": "Country=Ghana<br>%{xaxis.title.text}=%{x}<br>%{yaxis.title.text}=%{y}<extra></extra>",
         "legendgroup": "Ghana",
         "marker": {
          "color": "#ab63fa",
          "symbol": "circle"
         },
         "name": "Ghana",
         "showlegend": true,
         "type": "splom"
        },
        {
         "dimensions": [
          {
           "axis": {
            "matches": true
           },
           "label": "Generosity",
           "values": [
            0.18987,
            0.18503,
            0.189143493771553,
            0.132,
            0.151
           ]
          },
          {
           "axis": {
            "matches": true
           },
           "label": "Economy",
           "values": [
            0.271,
            0.35041,
            0.37584653496742204,
            0.35700000000000004,
            0.366
           ]
          }
         ],
         "hovertemplate": "Country=Zimbabwe<br>%{xaxis.title.text}=%{x}<br>%{yaxis.title.text}=%{y}<extra></extra>",
         "legendgroup": "Zimbabwe",
         "marker": {
          "color": "#FFA15A",
          "symbol": "circle"
         },
         "name": "Zimbabwe",
         "showlegend": true,
         "type": "splom"
        },
        {
         "dimensions": [
          {
           "axis": {
            "matches": true
           },
           "label": "Generosity",
           "values": [
            0.24361999999999998,
            0.24063,
            0.26654988527298,
            0.20600000000000002,
            0.233
           ]
          },
          {
           "axis": {
            "matches": true
           },
           "label": "Economy",
           "values": [
            0.0712,
            0.10705999999999999,
            0.11904179304838199,
            0.076,
            0.073
           ]
          }
         ],
         "hovertemplate": "Country=Liberia<br>%{xaxis.title.text}=%{x}<br>%{yaxis.title.text}=%{y}<extra></extra>",
         "legendgroup": "Liberia",
         "marker": {
          "color": "#19d3f3",
          "symbol": "circle"
         },
         "name": "Liberia",
         "showlegend": true,
         "type": "splom"
        },
        {
         "dimensions": [
          {
           "axis": {
            "matches": true
           },
           "label": "Generosity",
           "values": [
            0.26475,
            0.25028,
            0.23153848946094502,
            0.172,
            0.2
           ]
          },
          {
           "axis": {
            "matches": true
           },
           "label": "Economy",
           "values": [
            0.64499,
            0.74036,
            0.7922212481498722,
            0.721,
            0.755
           ]
          }
         ],
         "hovertemplate": "Country=India<br>%{xaxis.title.text}=%{x}<br>%{yaxis.title.text}=%{y}<extra></extra>",
         "legendgroup": "India",
         "marker": {
          "color": "#FF6692",
          "symbol": "circle"
         },
         "name": "India",
         "showlegend": true,
         "type": "splom"
        },
        {
         "dimensions": [
          {
           "axis": {
            "matches": true
           },
           "label": "Generosity",
           "values": [
            0.19062,
            0.18077000000000001,
            0.182317450642586,
            0.134
           ]
          },
          {
           "axis": {
            "matches": true
           },
           "label": "Economy",
           "values": [
            0.52107,
            0.63069,
            0.6595166921615601,
            0.605
           ]
          }
         ],
         "hovertemplate": "Country=Sudan<br>%{xaxis.title.text}=%{x}<br>%{yaxis.title.text}=%{y}<extra></extra>",
         "legendgroup": "Sudan",
         "marker": {
          "color": "#B6E880",
          "symbol": "circle"
         },
         "name": "Sudan",
         "showlegend": true,
         "type": "splom"
        },
        {
         "dimensions": [
          {
           "axis": {
            "matches": true
           },
           "label": "Generosity",
           "values": [
            0.46187,
            0.47958,
            0.48920378088951094,
            0.392,
            0.419
           ]
          },
          {
           "axis": {
            "matches": true
           },
           "label": "Economy",
           "values": [
            0.26673,
            0.34097,
            0.368610262870789,
            0.315,
            0.32299999999999995
           ]
          }
         ],
         "hovertemplate": "Country=Haiti<br>%{xaxis.title.text}=%{x}<br>%{yaxis.title.text}=%{y}<extra></extra>",
         "legendgroup": "Haiti",
         "marker": {
          "color": "#FF97FF",
          "symbol": "circle"
         },
         "name": "Haiti",
         "showlegend": true,
         "type": "splom"
        },
        {
         "dimensions": [
          {
           "axis": {
            "matches": true
           },
           "label": "Generosity",
           "values": [
            0.24834,
            0.25458000000000003,
            0.246455833315849,
            0.19699999999999998,
            0.212
           ]
          },
          {
           "axis": {
            "matches": true
           },
           "label": "Economy",
           "values": [
            0,
            0.05661,
            0.0921023488044739,
            0.069,
            0.094
           ]
          }
         ],
         "hovertemplate": "Country=Congo (Kinshasa)<br>%{xaxis.title.text}=%{x}<br>%{yaxis.title.text}=%{y}<extra></extra>",
         "legendgroup": "Congo (Kinshasa)",
         "marker": {
          "color": "#FECB52",
          "symbol": "circle"
         },
         "name": "Congo (Kinshasa)",
         "showlegend": true,
         "type": "splom"
        },
        {
         "dimensions": [
          {
           "axis": {
            "matches": true
           },
           "label": "Generosity",
           "values": [
            0.32295999999999997,
            0.3816,
            0.39409616589546204,
            0.302,
            0.285
           ]
          },
          {
           "axis": {
            "matches": true
           },
           "label": "Economy",
           "values": [
            0.35996999999999996,
            0.44626000000000005,
            0.479820191860199,
            0.425,
            0.446
           ]
          }
         ],
         "hovertemplate": "Country=Nepal<br>%{xaxis.title.text}=%{x}<br>%{yaxis.title.text}=%{y}<extra></extra>",
         "legendgroup": "Nepal",
         "marker": {
          "color": "#636efa",
          "symbol": "circle"
         },
         "name": "Nepal",
         "showlegend": true,
         "type": "splom"
        },
        {
         "dimensions": [
          {
           "axis": {
            "matches": true
           },
           "label": "Generosity",
           "values": [
            0.24325,
            0.29522,
            0.31265074014663696,
            0.22,
            0.209
           ]
          },
          {
           "axis": {
            "matches": true
           },
           "label": "Economy",
           "values": [
            0.19072999999999998,
            0.29283000000000003,
            0.339233845472336,
            0.308,
            0.336
           ]
          }
         ],
         "hovertemplate": "Country=Ethiopia<br>%{xaxis.title.text}=%{x}<br>%{yaxis.title.text}=%{y}<extra></extra>",
         "legendgroup": "Ethiopia",
         "marker": {
          "color": "#EF553B",
          "symbol": "circle"
         },
         "name": "Ethiopia",
         "showlegend": true,
         "type": "splom"
        },
        {
         "dimensions": [
          {
           "axis": {
            "matches": true
           },
           "label": "Generosity",
           "values": [
            0.21488000000000002,
            0.23897,
            0.293040901422501,
            0.23800000000000002,
            0.252
           ]
          },
          {
           "axis": {
            "matches": true
           },
           "label": "Economy",
           "values": [
            0.33024000000000003,
            0.36485,
            0.36842092871666,
            0.256,
            0.268
           ]
          }
         ],
         "hovertemplate": "Country=Sierra Leone<br>%{xaxis.title.text}=%{x}<br>%{yaxis.title.text}=%{y}<extra></extra>",
         "legendgroup": "Sierra Leone",
         "marker": {
          "color": "#00cc96",
          "symbol": "circle"
         },
         "name": "Sierra Leone",
         "showlegend": true,
         "type": "splom"
        },
        {
         "dimensions": [
          {
           "axis": {
            "matches": true
           },
           "label": "Generosity",
           "values": [
            0.21899999999999997,
            0.22685999999999998,
            0.201870024204254,
            0.134,
            0.106
           ]
          },
          {
           "axis": {
            "matches": true
           },
           "label": "Economy",
           "values": [
            0.45407,
            0.6139100000000001,
            0.6484572887420649,
            0.557,
            0.57
           ]
          }
         ],
         "hovertemplate": "Country=Mauritania<br>%{xaxis.title.text}=%{x}<br>%{yaxis.title.text}=%{y}<extra></extra>",
         "legendgroup": "Mauritania",
         "marker": {
          "color": "#ab63fa",
          "symbol": "circle"
         },
         "name": "Mauritania",
         "showlegend": true,
         "type": "splom"
        },
        {
         "dimensions": [
          {
           "axis": {
            "matches": true
           },
           "label": "Generosity",
           "values": [
            0.37542,
            0.41328000000000004,
            0.444860309362411,
            0.35200000000000004,
            0.37200000000000005
           ]
          },
          {
           "axis": {
            "matches": true
           },
           "label": "Economy",
           "values": [
            0.36471,
            0.52267,
            0.560479462146759,
            0.493,
            0.512
           ]
          }
         ],
         "hovertemplate": "Country=Kenya<br>%{xaxis.title.text}=%{x}<br>%{yaxis.title.text}=%{y}<extra></extra>",
         "legendgroup": "Kenya",
         "marker": {
          "color": "#FFA15A",
          "symbol": "circle"
         },
         "name": "Kenya",
         "showlegend": true,
         "type": "splom"
        },
        {
         "dimensions": [
          {
           "axis": {
            "matches": true
           },
           "label": "Generosity",
           "values": [
            0.18093
           ]
          },
          {
           "axis": {
            "matches": true
           },
           "label": "Economy",
           "values": [
            0.44025
           ]
          }
         ],
         "hovertemplate": "Country=Djibouti<br>%{xaxis.title.text}=%{x}<br>%{yaxis.title.text}=%{y}<extra></extra>",
         "legendgroup": "Djibouti",
         "marker": {
          "color": "#19d3f3",
          "symbol": "circle"
         },
         "name": "Djibouti",
         "showlegend": true,
         "type": "splom"
        },
        {
         "dimensions": [
          {
           "axis": {
            "matches": true
           },
           "label": "Generosity",
           "values": [
            0.07855,
            0.07793,
            0.0834880918264389,
            0.077,
            0.095
           ]
          },
          {
           "axis": {
            "matches": true
           },
           "label": "Economy",
           "values": [
            0.7682100000000001,
            0.8608600000000001,
            0.900596737861633,
            0.816,
            0.85
           ]
          }
         ],
         "hovertemplate": "Country=Armenia<br>%{xaxis.title.text}=%{x}<br>%{yaxis.title.text}=%{y}<extra></extra>",
         "legendgroup": "Armenia",
         "marker": {
          "color": "#FF6692",
          "symbol": "circle"
         },
         "name": "Armenia",
         "showlegend": true,
         "type": "splom"
        },
        {
         "dimensions": [
          {
           "axis": {
            "matches": true
           },
           "label": "Generosity",
           "values": [
            0.10461,
            0.12425,
            0.0993484482169151,
            0.042,
            0.025
           ]
          },
          {
           "axis": {
            "matches": true
           },
           "label": "Economy",
           "values": [
            0.99355,
            1.09426,
            1.12209415435791,
            1.0170000000000001,
            1.041
           ]
          }
         ],
         "hovertemplate": "Country=Botswana<br>%{xaxis.title.text}=%{x}<br>%{yaxis.title.text}=%{y}<extra></extra>",
         "legendgroup": "Botswana",
         "marker": {
          "color": "#B6E880",
          "symbol": "circle"
         },
         "name": "Botswana",
         "showlegend": true,
         "type": "splom"
        },
        {
         "dimensions": [
          {
           "axis": {
            "matches": true
           },
           "label": "Generosity",
           "values": [
            0.79588,
            0.81971,
            0.8380751609802249,
            0.598,
            0.5660000000000001
           ]
          },
          {
           "axis": {
            "matches": true
           },
           "label": "Economy",
           "values": [
            0.27108000000000004,
            0.34112,
            0.36711055040359497,
            0.682,
            0.71
           ]
          }
         ],
         "hovertemplate": "Country=Myanmar<br>%{xaxis.title.text}=%{x}<br>%{yaxis.title.text}=%{y}<extra></extra>",
         "legendgroup": "Myanmar",
         "marker": {
          "color": "#FF97FF",
          "symbol": "circle"
         },
         "name": "Myanmar",
         "showlegend": true,
         "type": "splom"
        },
        {
         "dimensions": [
          {
           "axis": {
            "matches": true
           },
           "label": "Generosity",
           "values": [
            0.055470000000000005,
            0.06786,
            0.0540088154375553,
            0.038,
            0.043
           ]
          },
          {
           "axis": {
            "matches": true
           },
           "label": "Economy",
           "values": [
            0.7419,
            0.8379200000000001,
            0.950612664222717,
            0.853,
            0.8859999999999999
           ]
          }
         ],
         "hovertemplate": "Country=Georgia<br>%{xaxis.title.text}=%{x}<br>%{yaxis.title.text}=%{y}<extra></extra>",
         "legendgroup": "Georgia",
         "marker": {
          "color": "#FECB52",
          "symbol": "circle"
         },
         "name": "Georgia",
         "showlegend": true,
         "type": "splom"
        },
        {
         "dimensions": [
          {
           "axis": {
            "matches": true
           },
           "label": "Generosity",
           "values": [
            0.33128,
            0.30968,
            0.28717046976089505,
            0.21,
            0.218
           ]
          },
          {
           "axis": {
            "matches": true
           },
           "label": "Economy",
           "values": [
            0.016040000000000002,
            0.08709,
            0.233442038297653,
            0.18600000000000003,
            0.191
           ]
          }
         ],
         "hovertemplate": "Country=Malawi<br>%{xaxis.title.text}=%{x}<br>%{yaxis.title.text}=%{y}<extra></extra>",
         "legendgroup": "Malawi",
         "marker": {
          "color": "#636efa",
          "symbol": "circle"
         },
         "name": "Malawi",
         "showlegend": true,
         "type": "splom"
        },
        {
         "dimensions": [
          {
           "axis": {
            "matches": true
           },
           "label": "Generosity",
           "values": [
            0.40828000000000003,
            0.46978000000000003,
            0.49086356163024897,
            0.307,
            0.244
           ]
          },
          {
           "axis": {
            "matches": true
           },
           "label": "Economy",
           "values": [
            0.83524,
            0.9731799999999999,
            1.00985014438629,
            0.9179999999999999,
            0.9490000000000001
           ]
          }
         ],
         "hovertemplate": "Country=Sri Lanka<br>%{xaxis.title.text}=%{x}<br>%{yaxis.title.text}=%{y}<extra></extra>",
         "legendgroup": "Sri Lanka",
         "marker": {
          "color": "#EF553B",
          "symbol": "circle"
         },
         "name": "Sri Lanka",
         "showlegend": true,
         "type": "splom"
        },
        {
         "dimensions": [
          {
           "axis": {
            "matches": true
           },
           "label": "Generosity",
           "values": [
            0.20618000000000003,
            0.2268,
            0.23629845678806302,
            0.183,
            0.187
           ]
          },
          {
           "axis": {
            "matches": true
           },
           "label": "Economy",
           "values": [
            0.4225,
            0.5249699999999999,
            0.564305365085602,
            0.535,
            0.5489999999999999
           ]
          }
         ],
         "hovertemplate": "Country=Cameroon<br>%{xaxis.title.text}=%{x}<br>%{yaxis.title.text}=%{y}<extra></extra>",
         "legendgroup": "Cameroon",
         "marker": {
          "color": "#00cc96",
          "symbol": "circle"
         },
         "name": "Cameroon",
         "showlegend": true,
         "type": "splom"
        },
        {
         "dimensions": [
          {
           "axis": {
            "matches": true
           },
           "label": "Generosity",
           "values": [
            0.11921,
            0.12793,
            0.113177694380283,
            0.064,
            0.081
           ]
          },
          {
           "axis": {
            "matches": true
           },
           "label": "Economy",
           "values": [
            1.01216,
            1.11306,
            1.1614590883255,
            1.054,
            1.092
           ]
          }
         ],
         "hovertemplate": "Country=Bulgaria<br>%{xaxis.title.text}=%{x}<br>%{yaxis.title.text}=%{y}<extra></extra>",
         "legendgroup": "Bulgaria",
         "marker": {
          "color": "#ab63fa",
          "symbol": "circle"
         },
         "name": "Bulgaria",
         "showlegend": true,
         "type": "splom"
        },
        {
         "dimensions": [
          {
           "axis": {
            "matches": true
           },
           "label": "Generosity",
           "values": [
            0.11291,
            0.12705999999999998,
            0.128631442785263,
            0.092,
            0.076
           ]
          },
          {
           "axis": {
            "matches": true
           },
           "label": "Economy",
           "values": [
            0.8818,
            0.95395,
            0.989701807498932,
            0.885,
            0.9129999999999999
           ]
          }
         ],
         "hovertemplate": "Country=Egypt<br>%{xaxis.title.text}=%{x}<br>%{yaxis.title.text}=%{y}<extra></extra>",
         "legendgroup": "Egypt",
         "marker": {
          "color": "#FFA15A",
          "symbol": "circle"
         },
         "name": "Egypt",
         "showlegend": true,
         "type": "splom"
        },
        {
         "dimensions": [
          {
           "axis": {
            "matches": true
           },
           "label": "Generosity",
           "values": [
            0.09131,
            0.09821,
            0.104125209152699,
            0.083,
            0.10800000000000001
           ]
          },
          {
           "axis": {
            "matches": true
           },
           "label": "Economy",
           "values": [
            0.5464899999999999,
            0.57939,
            0.5916834473609921,
            0.442,
            0.287
           ]
          }
         ],
         "hovertemplate": "Country=Yemen<br>%{xaxis.title.text}=%{x}<br>%{yaxis.title.text}=%{y}<extra></extra>",
         "legendgroup": "Yemen",
         "marker": {
          "color": "#19d3f3",
          "symbol": "circle"
         },
         "name": "Yemen",
         "showlegend": true,
         "type": "splom"
        },
        {
         "dimensions": [
          {
           "axis": {
            "matches": true
           },
           "label": "Generosity",
           "values": [
            0.12344000000000001,
            0.12070999999999998,
            0.09792649000883098,
            0.079
           ]
          },
          {
           "axis": {
            "matches": true
           },
           "label": "Economy",
           "values": [
            0.75778,
            0.84731,
            0.8584281802177429,
            0.73
           ]
          }
         ],
         "hovertemplate": "Country=Angola<br>%{xaxis.title.text}=%{x}<br>%{yaxis.title.text}=%{y}<extra></extra>",
         "legendgroup": "Angola",
         "marker": {
          "color": "#FF6692",
          "symbol": "circle"
         },
         "name": "Angola",
         "showlegend": true,
         "type": "splom"
        },
        {
         "dimensions": [
          {
           "axis": {
            "matches": true
           },
           "label": "Generosity",
           "values": [
            0.18798,
            0.21064000000000002,
            0.183354198932648,
            0.139,
            0.153
           ]
          },
          {
           "axis": {
            "matches": true
           },
           "label": "Economy",
           "values": [
            0.26074,
            0.31292,
            0.476180493831635,
            0.37,
            0.385
           ]
          }
         ],
         "hovertemplate": "Country=Mali<br>%{xaxis.title.text}=%{x}<br>%{yaxis.title.text}=%{y}<extra></extra>",
         "legendgroup": "Mali",
         "marker": {
          "color": "#B6E880",
          "symbol": "circle"
         },
         "name": "Mali",
         "showlegend": true,
         "type": "splom"
        },
        {
         "dimensions": [
          {
           "axis": {
            "matches": true
           },
           "label": "Generosity",
           "values": [
            0.12387999999999999,
            0.12077,
            0.12085212767124198,
            0.091,
            0.105
           ]
          },
          {
           "axis": {
            "matches": true
           },
           "label": "Economy",
           "values": [
            0.67866,
            0.7710899999999999,
            0.8089642524719242,
            0.682,
            0.6729999999999999
           ]
          }
         ],
         "hovertemplate": "Country=Congo (Brazzaville)<br>%{xaxis.title.text}=%{x}<br>%{yaxis.title.text}=%{y}<extra></extra>",
         "legendgroup": "Congo (Brazzaville)",
         "marker": {
          "color": "#FF97FF",
          "symbol": "circle"
         },
         "name": "Congo (Brazzaville)",
         "showlegend": true,
         "type": "splom"
        },
        {
         "dimensions": [
          {
           "axis": {
            "matches": true
           },
           "label": "Generosity",
           "values": [
            0.17440999999999998,
            0.1827,
            0.275
           ]
          },
          {
           "axis": {
            "matches": true
           },
           "label": "Economy",
           "values": [
            0.23906,
            0.27509,
            0.27399999999999997
           ]
          }
         ],
         "hovertemplate": "Country=Comoros<br>%{xaxis.title.text}=%{x}<br>%{yaxis.title.text}=%{y}<extra></extra>",
         "legendgroup": "Comoros",
         "marker": {
          "color": "#FECB52",
          "symbol": "circle"
         },
         "name": "Comoros",
         "showlegend": true,
         "type": "splom"
        },
        {
         "dimensions": [
          {
           "axis": {
            "matches": true
           },
           "label": "Generosity",
           "values": [
            0.29066,
            0.27102,
            0.32576605677604703,
            0.259,
            0.252
           ]
          },
          {
           "axis": {
            "matches": true
           },
           "label": "Economy",
           "values": [
            0.21101999999999999,
            0.34719,
            0.381430715322495,
            0.322,
            0.332
           ]
          }
         ],
         "hovertemplate": "Country=Uganda<br>%{xaxis.title.text}=%{x}<br>%{yaxis.title.text}=%{y}<extra></extra>",
         "legendgroup": "Uganda",
         "marker": {
          "color": "#636efa",
          "symbol": "circle"
         },
         "name": "Uganda",
         "showlegend": true,
         "type": "splom"
        },
        {
         "dimensions": [
          {
           "axis": {
            "matches": true
           },
           "label": "Generosity",
           "values": [
            0.20843000000000003,
            0.19103,
            0.183468893170357,
            0.138,
            0.153
           ]
          },
          {
           "axis": {
            "matches": true
           },
           "label": "Economy",
           "values": [
            0.36498,
            0.44314,
            0.479309022426605,
            0.429,
            0.45
           ]
          }
         ],
         "hovertemplate": "Country=Senegal<br>%{xaxis.title.text}=%{x}<br>%{yaxis.title.text}=%{y}<extra></extra>",
         "legendgroup": "Senegal",
         "marker": {
          "color": "#EF553B",
          "symbol": "circle"
         },
         "name": "Senegal",
         "showlegend": true,
         "type": "splom"
        },
        {
         "dimensions": [
          {
           "axis": {
            "matches": true
           },
           "label": "Generosity",
           "values": [
            0.06822,
            0.062439999999999996,
            0.0437853783369064,
            0.032,
            0.043
           ]
          },
          {
           "axis": {
            "matches": true
           },
           "label": "Economy",
           "values": [
            1.06024,
            1.15851,
            1.1982102394104,
            1.036,
            1.057
           ]
          }
         ],
         "hovertemplate": "Country=Gabon<br>%{xaxis.title.text}=%{x}<br>%{yaxis.title.text}=%{y}<extra></extra>",
         "legendgroup": "Gabon",
         "marker": {
          "color": "#00cc96",
          "symbol": "circle"
         },
         "name": "Gabon",
         "showlegend": true,
         "type": "splom"
        },
        {
         "dimensions": [
          {
           "axis": {
            "matches": true
           },
           "label": "Generosity",
           "values": [
            0.19387000000000001,
            0.2097,
            0.22867384552955602,
            0.175,
            0.188
           ]
          },
          {
           "axis": {
            "matches": true
           },
           "label": "Economy",
           "values": [
            0.0694,
            0.1327,
            0.16192533075809498,
            0.131,
            0.138
           ]
          }
         ],
         "hovertemplate": "Country=Niger<br>%{xaxis.title.text}=%{x}<br>%{yaxis.title.text}=%{y}<extra></extra>",
         "legendgroup": "Niger",
         "marker": {
          "color": "#ab63fa",
          "symbol": "circle"
         },
         "name": "Niger",
         "showlegend": true,
         "type": "splom"
        },
        {
         "dimensions": [
          {
           "axis": {
            "matches": true
           },
           "label": "Generosity",
           "values": [
            0.40359,
            0.40339,
            0.385922968387604,
            0.256,
            0.23199999999999998
           ]
          },
          {
           "axis": {
            "matches": true
           },
           "label": "Economy",
           "values": [
            0.46038,
            0.55604,
            0.6017650961875921,
            0.5489999999999999,
            0.574
           ]
          }
         ],
         "hovertemplate": "Country=Cambodia<br>%{xaxis.title.text}=%{x}<br>%{yaxis.title.text}=%{y}<extra></extra>",
         "legendgroup": "Cambodia",
         "marker": {
          "color": "#FFA15A",
          "symbol": "circle"
         },
         "name": "Cambodia",
         "showlegend": true,
         "type": "splom"
        },
        {
         "dimensions": [
          {
           "axis": {
            "matches": true
           },
           "label": "Generosity",
           "values": [
            0.34376999999999996,
            0.31472,
            0.354256361722946,
            0.27,
            0.276
           ]
          },
          {
           "axis": {
            "matches": true
           },
           "label": "Economy",
           "values": [
            0.2852,
            0.47155,
            0.511135876178741,
            0.455,
            0.47600000000000003
           ]
          }
         ],
         "hovertemplate": "Country=Tanzania<br>%{xaxis.title.text}=%{x}<br>%{yaxis.title.text}=%{y}<extra></extra>",
         "legendgroup": "Tanzania",
         "marker": {
          "color": "#19d3f3",
          "symbol": "circle"
         },
         "name": "Tanzania",
         "showlegend": true,
         "type": "splom"
        },
        {
         "dimensions": [
          {
           "axis": {
            "matches": true
           },
           "label": "Generosity",
           "values": [
            0.21333000000000002,
            0.2204,
            0.208732530474663,
            0.155,
            0.16899999999999998
           ]
          },
          {
           "axis": {
            "matches": true
           },
           "label": "Economy",
           "values": [
            0.20824,
            0.27954,
            0.305808693170547,
            0.262,
            0.27399999999999997
           ]
          }
         ],
         "hovertemplate": "Country=Madagascar<br>%{xaxis.title.text}=%{x}<br>%{yaxis.title.text}=%{y}<extra></extra>",
         "legendgroup": "Madagascar",
         "marker": {
          "color": "#FF6692",
          "symbol": "circle"
         },
         "name": "Madagascar",
         "showlegend": true,
         "type": "splom"
        },
        {
         "dimensions": [
          {
           "axis": {
            "matches": true
           },
           "label": "Generosity",
           "values": [
            0.23835,
            0.280876487493515,
            0.218,
            0.235
           ]
          },
          {
           "axis": {
            "matches": true
           },
           "label": "Economy",
           "values": [
            0.0785,
            0,
            0.024,
            0.026000000000000002
           ]
          }
         ],
         "hovertemplate": "Country=Central African Republic<br>%{xaxis.title.text}=%{x}<br>%{yaxis.title.text}=%{y}<extra></extra>",
         "legendgroup": "Central African Republic",
         "marker": {
          "color": "#B6E880",
          "symbol": "circle"
         },
         "name": "Central African Republic",
         "showlegend": true,
         "type": "splom"
        },
        {
         "dimensions": [
          {
           "axis": {
            "matches": true
           },
           "label": "Generosity",
           "values": [
            0.18386,
            0.18667,
            0.21611385047435802,
            0.18100000000000002,
            0.198
           ]
          },
          {
           "axis": {
            "matches": true
           },
           "label": "Economy",
           "values": [
            0.34193,
            0.42213999999999996,
            0.43801298737525896,
            0.358,
            0.35
           ]
          }
         ],
         "hovertemplate": "Country=Chad<br>%{xaxis.title.text}=%{x}<br>%{yaxis.title.text}=%{y}<extra></extra>",
         "legendgroup": "Chad",
         "marker": {
          "color": "#FF97FF",
          "symbol": "circle"
         },
         "name": "Chad",
         "showlegend": true,
         "type": "splom"
        },
        {
         "dimensions": [
          {
           "axis": {
            "matches": true
           },
           "label": "Generosity",
           "values": [
            0.28657,
            0.29914,
            0.264815092086792,
            0.185,
            0.207
           ]
          },
          {
           "axis": {
            "matches": true
           },
           "label": "Economy",
           "values": [
            0.17417,
            0.22415,
            0.24454993009567302,
            0.344,
            0.38
           ]
          }
         ],
         "hovertemplate": "Country=Guinea<br>%{xaxis.title.text}=%{x}<br>%{yaxis.title.text}=%{y}<extra></extra>",
         "legendgroup": "Guinea",
         "marker": {
          "color": "#FECB52",
          "symbol": "circle"
         },
         "name": "Guinea",
         "showlegend": true,
         "type": "splom"
        },
        {
         "dimensions": [
          {
           "axis": {
            "matches": true
           },
           "label": "Generosity",
           "values": [
            0.20165,
            0.20338,
            0.201237469911575,
            0.146,
            0.154
           ]
          },
          {
           "axis": {
            "matches": true
           },
           "label": "Economy",
           "values": [
            0.46534,
            0.55507,
            0.6030489206314089,
            0.541,
            0.569
           ]
          }
         ],
         "hovertemplate": "Country=Ivory Coast<br>%{xaxis.title.text}=%{x}<br>%{yaxis.title.text}=%{y}<extra></extra>",
         "legendgroup": "Ivory Coast",
         "marker": {
          "color": "#636efa",
          "symbol": "circle"
         },
         "name": "Ivory Coast",
         "showlegend": true,
         "type": "splom"
        },
        {
         "dimensions": [
          {
           "axis": {
            "matches": true
           },
           "label": "Generosity",
           "values": [
            0.21746999999999997,
            0.24353000000000002,
            0.250864684581757,
            0.175,
            0.177
           ]
          },
          {
           "axis": {
            "matches": true
           },
           "label": "Economy",
           "values": [
            0.25811999999999996,
            0.31995,
            0.35022771358490007,
            0.314,
            0.331
           ]
          }
         ],
         "hovertemplate": "Country=Burkina Faso<br>%{xaxis.title.text}=%{x}<br>%{yaxis.title.text}=%{y}<extra></extra>",
         "legendgroup": "Burkina Faso",
         "marker": {
          "color": "#EF553B",
          "symbol": "circle"
         },
         "name": "Burkina Faso",
         "showlegend": true,
         "type": "splom"
        },
        {
         "dimensions": [
          {
           "axis": {
            "matches": true
           },
           "label": "Generosity",
           "values": [
            0.3651,
            0.31268,
            0.311870932579041,
            0.191,
            0.158
           ]
          },
          {
           "axis": {
            "matches": true
           },
           "label": "Economy",
           "values": [
            0.31982,
            0.38227,
            0.401477217674255,
            0.332,
            0.35
           ]
          }
         ],
         "hovertemplate": "Country=Afghanistan<br>%{xaxis.title.text}=%{x}<br>%{yaxis.title.text}=%{y}<extra></extra>",
         "legendgroup": "Afghanistan",
         "marker": {
          "color": "#00cc96",
          "symbol": "circle"
         },
         "name": "Afghanistan",
         "showlegend": true,
         "type": "splom"
        },
        {
         "dimensions": [
          {
           "axis": {
            "matches": true
           },
           "label": "Generosity",
           "values": [
            0.22628,
            0.23551999999999998,
            0.25275602936744695,
            0.2,
            0.217
           ]
          },
          {
           "axis": {
            "matches": true
           },
           "label": "Economy",
           "values": [
            0.22208000000000003,
            0.32846,
            0.368745893239975,
            0.332,
            0.359
           ]
          }
         ],
         "hovertemplate": "Country=Rwanda<br>%{xaxis.title.text}=%{x}<br>%{yaxis.title.text}=%{y}<extra></extra>",
         "legendgroup": "Rwanda",
         "marker": {
          "color": "#ab63fa",
          "symbol": "circle"
         },
         "name": "Rwanda",
         "showlegend": true,
         "type": "splom"
        },
        {
         "dimensions": [
          {
           "axis": {
            "matches": true
           },
           "label": "Generosity",
           "values": [
            0.1826,
            0.2018,
            0.207948461174965,
            0.163,
            0.175
           ]
          },
          {
           "axis": {
            "matches": true
           },
           "label": "Economy",
           "values": [
            0.28665,
            0.39499,
            0.43108540773391707,
            0.37799999999999995,
            0.39299999999999996
           ]
          }
         ],
         "hovertemplate": "Country=Benin<br>%{xaxis.title.text}=%{x}<br>%{yaxis.title.text}=%{y}<extra></extra>",
         "legendgroup": "Benin",
         "marker": {
          "color": "#FFA15A",
          "symbol": "circle"
         },
         "name": "Benin",
         "showlegend": true,
         "type": "splom"
        },
        {
         "dimensions": [
          {
           "axis": {
            "matches": true
           },
           "label": "Generosity",
           "values": [
            0.47179,
            0.48396999999999996,
            0.49366372823715204,
            0.376,
            0.331
           ]
          },
          {
           "axis": {
            "matches": true
           },
           "label": "Economy",
           "values": [
            0.6632,
            0.7471899999999999,
            0.777153134346008,
            0.6890000000000001,
            0.619
           ]
          }
         ],
         "hovertemplate": "Country=Syria<br>%{xaxis.title.text}=%{x}<br>%{yaxis.title.text}=%{y}<extra></extra>",
         "legendgroup": "Syria",
         "marker": {
          "color": "#19d3f3",
          "symbol": "circle"
         },
         "name": "Syria",
         "showlegend": true,
         "type": "splom"
        },
        {
         "dimensions": [
          {
           "axis": {
            "matches": true
           },
           "label": "Generosity",
           "values": [
            0.19727,
            0.2029,
            0.20443518459796897,
            0.149,
            0.17600000000000002
           ]
          },
          {
           "axis": {
            "matches": true
           },
           "label": "Economy",
           "values": [
            0.0153,
            0.06831,
            0.09162256866693501,
            0.091,
            0.046
           ]
          }
         ],
         "hovertemplate": "Country=Burundi<br>%{xaxis.title.text}=%{x}<br>%{yaxis.title.text}=%{y}<extra></extra>",
         "legendgroup": "Burundi",
         "marker": {
          "color": "#FF6692",
          "symbol": "circle"
         },
         "name": "Burundi",
         "showlegend": true,
         "type": "splom"
        },
        {
         "dimensions": [
          {
           "axis": {
            "matches": true
           },
           "label": "Generosity",
           "values": [
            0.16680999999999999,
            0.17517,
            0.19689615070819896,
            0.158,
            0.177
           ]
          },
          {
           "axis": {
            "matches": true
           },
           "label": "Economy",
           "values": [
            0.20868,
            0.28123000000000004,
            0.30544471740722695,
            0.259,
            0.275
           ]
          }
         ],
         "hovertemplate": "Country=Togo<br>%{xaxis.title.text}=%{x}<br>%{yaxis.title.text}=%{y}<extra></extra>",
         "legendgroup": "Togo",
         "marker": {
          "color": "#B6E880",
          "symbol": "circle"
         },
         "name": "Togo",
         "showlegend": true,
         "type": "splom"
        },
        {
         "dimensions": [
          {
           "axis": {
            "matches": true
           },
           "label": "Generosity",
           "values": [
            0.22202
           ]
          },
          {
           "axis": {
            "matches": true
           },
           "label": "Economy",
           "values": [
            1.35943
           ]
          }
         ],
         "hovertemplate": "Country=Puerto Rico<br>%{xaxis.title.text}=%{x}<br>%{yaxis.title.text}=%{y}<extra></extra>",
         "legendgroup": "Puerto Rico",
         "marker": {
          "color": "#FF97FF",
          "symbol": "circle"
         },
         "name": "Puerto Rico",
         "showlegend": true,
         "type": "splom"
        },
        {
         "dimensions": [
          {
           "axis": {
            "matches": true
           },
           "label": "Generosity",
           "values": [
            0.23684000000000002,
            0.24001564085483604,
            0.183
           ]
          },
          {
           "axis": {
            "matches": true
           },
           "label": "Economy",
           "values": [
            0.87616,
            0.907975316047668,
            0.807
           ]
          }
         ],
         "hovertemplate": "Country=Belize<br>%{xaxis.title.text}=%{x}<br>%{yaxis.title.text}=%{y}<extra></extra>",
         "legendgroup": "Belize",
         "marker": {
          "color": "#FECB52",
          "symbol": "circle"
         },
         "name": "Belize",
         "showlegend": true,
         "type": "splom"
        },
        {
         "dimensions": [
          {
           "axis": {
            "matches": true
           },
           "label": "Generosity",
           "values": [
            0.27225,
            0.291631311178207,
            0.23800000000000002,
            0.243
           ]
          },
          {
           "axis": {
            "matches": true
           },
           "label": "Economy",
           "values": [
            0,
            0.0226431842893362,
            0,
            0
           ]
          }
         ],
         "hovertemplate": "Country=Somalia<br>%{xaxis.title.text}=%{x}<br>%{yaxis.title.text}=%{y}<extra></extra>",
         "legendgroup": "Somalia",
         "marker": {
          "color": "#636efa",
          "symbol": "circle"
         },
         "name": "Somalia",
         "showlegend": true,
         "type": "splom"
        },
        {
         "dimensions": [
          {
           "axis": {
            "matches": true
           },
           "label": "Generosity",
           "values": [
            0.51479
           ]
          },
          {
           "axis": {
            "matches": true
           },
           "label": "Economy",
           "values": [
            0.25558000000000003
           ]
          }
         ],
         "hovertemplate": "Country=Somaliland Region<br>%{xaxis.title.text}=%{x}<br>%{yaxis.title.text}=%{y}<extra></extra>",
         "legendgroup": "Somaliland Region",
         "marker": {
          "color": "#EF553B",
          "symbol": "circle"
         },
         "name": "Somaliland Region",
         "showlegend": true,
         "type": "splom"
        },
        {
         "dimensions": [
          {
           "axis": {
            "matches": true
           },
           "label": "Generosity",
           "values": [
            0.07795,
            0.0771337449550629,
            0.051,
            0.07
           ]
          },
          {
           "axis": {
            "matches": true
           },
           "label": "Economy",
           "values": [
            0.9328700000000001,
            0.964434325695038,
            0.8740000000000001,
            0.879
           ]
          }
         ],
         "hovertemplate": "Country=Namibia<br>%{xaxis.title.text}=%{x}<br>%{yaxis.title.text}=%{y}<extra></extra>",
         "legendgroup": "Namibia",
         "marker": {
          "color": "#00cc96",
          "symbol": "circle"
         },
         "name": "Namibia",
         "showlegend": true,
         "type": "splom"
        },
        {
         "dimensions": [
          {
           "axis": {
            "matches": true
           },
           "label": "Generosity",
           "values": [
            0.25899,
            0.285670816898346,
            0.22399999999999998,
            0.20199999999999999
           ]
          },
          {
           "axis": {
            "matches": true
           },
           "label": "Economy",
           "values": [
            0.39394,
            0.39724862575531,
            0.337,
            0.306
           ]
          }
         ],
         "hovertemplate": "Country=South Sudan<br>%{xaxis.title.text}=%{x}<br>%{yaxis.title.text}=%{y}<extra></extra>",
         "legendgroup": "South Sudan",
         "marker": {
          "color": "#ab63fa",
          "symbol": "circle"
         },
         "name": "South Sudan",
         "showlegend": true,
         "type": "splom"
        },
        {
         "dimensions": [
          {
           "axis": {
            "matches": true
           },
           "label": "Generosity",
           "values": [
            0.258360475301743
           ]
          },
          {
           "axis": {
            "matches": true
           },
           "label": "Economy",
           "values": [
            1.4336265325546298
           ]
          }
         ],
         "hovertemplate": "Country=Taiwan Province of China<br>%{xaxis.title.text}=%{x}<br>%{yaxis.title.text}=%{y}<extra></extra>",
         "legendgroup": "Taiwan Province of China",
         "marker": {
          "color": "#FFA15A",
          "symbol": "circle"
         },
         "name": "Taiwan Province of China",
         "showlegend": true,
         "type": "splom"
        },
        {
         "dimensions": [
          {
           "axis": {
            "matches": true
           },
           "label": "Generosity",
           "values": [
            0.374465793371201
           ]
          },
          {
           "axis": {
            "matches": true
           },
           "label": "Economy",
           "values": [
            1.55167484283447
           ]
          }
         ],
         "hovertemplate": "Country=Hong Kong S.A.R., China<br>%{xaxis.title.text}=%{x}<br>%{yaxis.title.text}=%{y}<extra></extra>",
         "legendgroup": "Hong Kong S.A.R., China",
         "marker": {
          "color": "#19d3f3",
          "symbol": "circle"
         },
         "name": "Hong Kong S.A.R., China",
         "showlegend": true,
         "type": "splom"
        },
        {
         "dimensions": [
          {
           "axis": {
            "matches": true
           },
           "label": "Generosity",
           "values": [
            0.171,
            0.185
           ]
          },
          {
           "axis": {
            "matches": true
           },
           "label": "Economy",
           "values": [
            1.2229999999999999,
            1.2309999999999999
           ]
          }
         ],
         "hovertemplate": "Country=Trinidad & Tobago<br>%{xaxis.title.text}=%{x}<br>%{yaxis.title.text}=%{y}<extra></extra>",
         "legendgroup": "Trinidad & Tobago",
         "marker": {
          "color": "#FF6692",
          "symbol": "circle"
         },
         "name": "Trinidad & Tobago",
         "showlegend": true,
         "type": "splom"
        },
        {
         "dimensions": [
          {
           "axis": {
            "matches": true
           },
           "label": "Generosity",
           "values": [
            0.179,
            0.191
           ]
          },
          {
           "axis": {
            "matches": true
           },
           "label": "Economy",
           "values": [
            1.229,
            1.263
           ]
          }
         ],
         "hovertemplate": "Country=Northern Cyprus<br>%{xaxis.title.text}=%{x}<br>%{yaxis.title.text}=%{y}<extra></extra>",
         "legendgroup": "Northern Cyprus",
         "marker": {
          "color": "#B6E880",
          "symbol": "circle"
         },
         "name": "Northern Cyprus",
         "showlegend": true,
         "type": "splom"
        },
        {
         "dimensions": [
          {
           "axis": {
            "matches": true
           },
           "label": "Generosity",
           "values": [
            0.185
           ]
          },
          {
           "axis": {
            "matches": true
           },
           "label": "Economy",
           "values": [
            0.983
           ]
          }
         ],
         "hovertemplate": "Country=North Macedonia<br>%{xaxis.title.text}=%{x}<br>%{yaxis.title.text}=%{y}<extra></extra>",
         "legendgroup": "North Macedonia",
         "marker": {
          "color": "#FF97FF",
          "symbol": "circle"
         },
         "name": "North Macedonia",
         "showlegend": true,
         "type": "splom"
        },
        {
         "dimensions": [
          {
           "axis": {
            "matches": true
           },
           "label": "Generosity",
           "values": [
            0.26899999999999996
           ]
          },
          {
           "axis": {
            "matches": true
           },
           "label": "Economy",
           "values": [
            0.308
           ]
          }
         ],
         "hovertemplate": "Country=Gambia<br>%{xaxis.title.text}=%{x}<br>%{yaxis.title.text}=%{y}<extra></extra>",
         "legendgroup": "Gambia",
         "marker": {
          "color": "#FECB52",
          "symbol": "circle"
         },
         "name": "Gambia",
         "showlegend": true,
         "type": "splom"
        }
       ],
       "layout": {
        "dragmode": "select",
        "legend": {
         "title": {
          "text": "Country"
         },
         "tracegroupgap": 0
        },
        "margin": {
         "t": 60
        },
        "template": {
         "data": {
          "bar": [
           {
            "error_x": {
             "color": "#2a3f5f"
            },
            "error_y": {
             "color": "#2a3f5f"
            },
            "marker": {
             "line": {
              "color": "#E5ECF6",
              "width": 0.5
             }
            },
            "type": "bar"
           }
          ],
          "barpolar": [
           {
            "marker": {
             "line": {
              "color": "#E5ECF6",
              "width": 0.5
             }
            },
            "type": "barpolar"
           }
          ],
          "carpet": [
           {
            "aaxis": {
             "endlinecolor": "#2a3f5f",
             "gridcolor": "white",
             "linecolor": "white",
             "minorgridcolor": "white",
             "startlinecolor": "#2a3f5f"
            },
            "baxis": {
             "endlinecolor": "#2a3f5f",
             "gridcolor": "white",
             "linecolor": "white",
             "minorgridcolor": "white",
             "startlinecolor": "#2a3f5f"
            },
            "type": "carpet"
           }
          ],
          "choropleth": [
           {
            "colorbar": {
             "outlinewidth": 0,
             "ticks": ""
            },
            "type": "choropleth"
           }
          ],
          "contour": [
           {
            "colorbar": {
             "outlinewidth": 0,
             "ticks": ""
            },
            "colorscale": [
             [
              0,
              "#0d0887"
             ],
             [
              0.1111111111111111,
              "#46039f"
             ],
             [
              0.2222222222222222,
              "#7201a8"
             ],
             [
              0.3333333333333333,
              "#9c179e"
             ],
             [
              0.4444444444444444,
              "#bd3786"
             ],
             [
              0.5555555555555556,
              "#d8576b"
             ],
             [
              0.6666666666666666,
              "#ed7953"
             ],
             [
              0.7777777777777778,
              "#fb9f3a"
             ],
             [
              0.8888888888888888,
              "#fdca26"
             ],
             [
              1,
              "#f0f921"
             ]
            ],
            "type": "contour"
           }
          ],
          "contourcarpet": [
           {
            "colorbar": {
             "outlinewidth": 0,
             "ticks": ""
            },
            "type": "contourcarpet"
           }
          ],
          "heatmap": [
           {
            "colorbar": {
             "outlinewidth": 0,
             "ticks": ""
            },
            "colorscale": [
             [
              0,
              "#0d0887"
             ],
             [
              0.1111111111111111,
              "#46039f"
             ],
             [
              0.2222222222222222,
              "#7201a8"
             ],
             [
              0.3333333333333333,
              "#9c179e"
             ],
             [
              0.4444444444444444,
              "#bd3786"
             ],
             [
              0.5555555555555556,
              "#d8576b"
             ],
             [
              0.6666666666666666,
              "#ed7953"
             ],
             [
              0.7777777777777778,
              "#fb9f3a"
             ],
             [
              0.8888888888888888,
              "#fdca26"
             ],
             [
              1,
              "#f0f921"
             ]
            ],
            "type": "heatmap"
           }
          ],
          "heatmapgl": [
           {
            "colorbar": {
             "outlinewidth": 0,
             "ticks": ""
            },
            "colorscale": [
             [
              0,
              "#0d0887"
             ],
             [
              0.1111111111111111,
              "#46039f"
             ],
             [
              0.2222222222222222,
              "#7201a8"
             ],
             [
              0.3333333333333333,
              "#9c179e"
             ],
             [
              0.4444444444444444,
              "#bd3786"
             ],
             [
              0.5555555555555556,
              "#d8576b"
             ],
             [
              0.6666666666666666,
              "#ed7953"
             ],
             [
              0.7777777777777778,
              "#fb9f3a"
             ],
             [
              0.8888888888888888,
              "#fdca26"
             ],
             [
              1,
              "#f0f921"
             ]
            ],
            "type": "heatmapgl"
           }
          ],
          "histogram": [
           {
            "marker": {
             "colorbar": {
              "outlinewidth": 0,
              "ticks": ""
             }
            },
            "type": "histogram"
           }
          ],
          "histogram2d": [
           {
            "colorbar": {
             "outlinewidth": 0,
             "ticks": ""
            },
            "colorscale": [
             [
              0,
              "#0d0887"
             ],
             [
              0.1111111111111111,
              "#46039f"
             ],
             [
              0.2222222222222222,
              "#7201a8"
             ],
             [
              0.3333333333333333,
              "#9c179e"
             ],
             [
              0.4444444444444444,
              "#bd3786"
             ],
             [
              0.5555555555555556,
              "#d8576b"
             ],
             [
              0.6666666666666666,
              "#ed7953"
             ],
             [
              0.7777777777777778,
              "#fb9f3a"
             ],
             [
              0.8888888888888888,
              "#fdca26"
             ],
             [
              1,
              "#f0f921"
             ]
            ],
            "type": "histogram2d"
           }
          ],
          "histogram2dcontour": [
           {
            "colorbar": {
             "outlinewidth": 0,
             "ticks": ""
            },
            "colorscale": [
             [
              0,
              "#0d0887"
             ],
             [
              0.1111111111111111,
              "#46039f"
             ],
             [
              0.2222222222222222,
              "#7201a8"
             ],
             [
              0.3333333333333333,
              "#9c179e"
             ],
             [
              0.4444444444444444,
              "#bd3786"
             ],
             [
              0.5555555555555556,
              "#d8576b"
             ],
             [
              0.6666666666666666,
              "#ed7953"
             ],
             [
              0.7777777777777778,
              "#fb9f3a"
             ],
             [
              0.8888888888888888,
              "#fdca26"
             ],
             [
              1,
              "#f0f921"
             ]
            ],
            "type": "histogram2dcontour"
           }
          ],
          "mesh3d": [
           {
            "colorbar": {
             "outlinewidth": 0,
             "ticks": ""
            },
            "type": "mesh3d"
           }
          ],
          "parcoords": [
           {
            "line": {
             "colorbar": {
              "outlinewidth": 0,
              "ticks": ""
             }
            },
            "type": "parcoords"
           }
          ],
          "pie": [
           {
            "automargin": true,
            "type": "pie"
           }
          ],
          "scatter": [
           {
            "marker": {
             "colorbar": {
              "outlinewidth": 0,
              "ticks": ""
             }
            },
            "type": "scatter"
           }
          ],
          "scatter3d": [
           {
            "line": {
             "colorbar": {
              "outlinewidth": 0,
              "ticks": ""
             }
            },
            "marker": {
             "colorbar": {
              "outlinewidth": 0,
              "ticks": ""
             }
            },
            "type": "scatter3d"
           }
          ],
          "scattercarpet": [
           {
            "marker": {
             "colorbar": {
              "outlinewidth": 0,
              "ticks": ""
             }
            },
            "type": "scattercarpet"
           }
          ],
          "scattergeo": [
           {
            "marker": {
             "colorbar": {
              "outlinewidth": 0,
              "ticks": ""
             }
            },
            "type": "scattergeo"
           }
          ],
          "scattergl": [
           {
            "marker": {
             "colorbar": {
              "outlinewidth": 0,
              "ticks": ""
             }
            },
            "type": "scattergl"
           }
          ],
          "scattermapbox": [
           {
            "marker": {
             "colorbar": {
              "outlinewidth": 0,
              "ticks": ""
             }
            },
            "type": "scattermapbox"
           }
          ],
          "scatterpolar": [
           {
            "marker": {
             "colorbar": {
              "outlinewidth": 0,
              "ticks": ""
             }
            },
            "type": "scatterpolar"
           }
          ],
          "scatterpolargl": [
           {
            "marker": {
             "colorbar": {
              "outlinewidth": 0,
              "ticks": ""
             }
            },
            "type": "scatterpolargl"
           }
          ],
          "scatterternary": [
           {
            "marker": {
             "colorbar": {
              "outlinewidth": 0,
              "ticks": ""
             }
            },
            "type": "scatterternary"
           }
          ],
          "surface": [
           {
            "colorbar": {
             "outlinewidth": 0,
             "ticks": ""
            },
            "colorscale": [
             [
              0,
              "#0d0887"
             ],
             [
              0.1111111111111111,
              "#46039f"
             ],
             [
              0.2222222222222222,
              "#7201a8"
             ],
             [
              0.3333333333333333,
              "#9c179e"
             ],
             [
              0.4444444444444444,
              "#bd3786"
             ],
             [
              0.5555555555555556,
              "#d8576b"
             ],
             [
              0.6666666666666666,
              "#ed7953"
             ],
             [
              0.7777777777777778,
              "#fb9f3a"
             ],
             [
              0.8888888888888888,
              "#fdca26"
             ],
             [
              1,
              "#f0f921"
             ]
            ],
            "type": "surface"
           }
          ],
          "table": [
           {
            "cells": {
             "fill": {
              "color": "#EBF0F8"
             },
             "line": {
              "color": "white"
             }
            },
            "header": {
             "fill": {
              "color": "#C8D4E3"
             },
             "line": {
              "color": "white"
             }
            },
            "type": "table"
           }
          ]
         },
         "layout": {
          "annotationdefaults": {
           "arrowcolor": "#2a3f5f",
           "arrowhead": 0,
           "arrowwidth": 1
          },
          "coloraxis": {
           "colorbar": {
            "outlinewidth": 0,
            "ticks": ""
           }
          },
          "colorscale": {
           "diverging": [
            [
             0,
             "#8e0152"
            ],
            [
             0.1,
             "#c51b7d"
            ],
            [
             0.2,
             "#de77ae"
            ],
            [
             0.3,
             "#f1b6da"
            ],
            [
             0.4,
             "#fde0ef"
            ],
            [
             0.5,
             "#f7f7f7"
            ],
            [
             0.6,
             "#e6f5d0"
            ],
            [
             0.7,
             "#b8e186"
            ],
            [
             0.8,
             "#7fbc41"
            ],
            [
             0.9,
             "#4d9221"
            ],
            [
             1,
             "#276419"
            ]
           ],
           "sequential": [
            [
             0,
             "#0d0887"
            ],
            [
             0.1111111111111111,
             "#46039f"
            ],
            [
             0.2222222222222222,
             "#7201a8"
            ],
            [
             0.3333333333333333,
             "#9c179e"
            ],
            [
             0.4444444444444444,
             "#bd3786"
            ],
            [
             0.5555555555555556,
             "#d8576b"
            ],
            [
             0.6666666666666666,
             "#ed7953"
            ],
            [
             0.7777777777777778,
             "#fb9f3a"
            ],
            [
             0.8888888888888888,
             "#fdca26"
            ],
            [
             1,
             "#f0f921"
            ]
           ],
           "sequentialminus": [
            [
             0,
             "#0d0887"
            ],
            [
             0.1111111111111111,
             "#46039f"
            ],
            [
             0.2222222222222222,
             "#7201a8"
            ],
            [
             0.3333333333333333,
             "#9c179e"
            ],
            [
             0.4444444444444444,
             "#bd3786"
            ],
            [
             0.5555555555555556,
             "#d8576b"
            ],
            [
             0.6666666666666666,
             "#ed7953"
            ],
            [
             0.7777777777777778,
             "#fb9f3a"
            ],
            [
             0.8888888888888888,
             "#fdca26"
            ],
            [
             1,
             "#f0f921"
            ]
           ]
          },
          "colorway": [
           "#636efa",
           "#EF553B",
           "#00cc96",
           "#ab63fa",
           "#FFA15A",
           "#19d3f3",
           "#FF6692",
           "#B6E880",
           "#FF97FF",
           "#FECB52"
          ],
          "font": {
           "color": "#2a3f5f"
          },
          "geo": {
           "bgcolor": "white",
           "lakecolor": "white",
           "landcolor": "#E5ECF6",
           "showlakes": true,
           "showland": true,
           "subunitcolor": "white"
          },
          "hoverlabel": {
           "align": "left"
          },
          "hovermode": "closest",
          "mapbox": {
           "style": "light"
          },
          "paper_bgcolor": "white",
          "plot_bgcolor": "#E5ECF6",
          "polar": {
           "angularaxis": {
            "gridcolor": "white",
            "linecolor": "white",
            "ticks": ""
           },
           "bgcolor": "#E5ECF6",
           "radialaxis": {
            "gridcolor": "white",
            "linecolor": "white",
            "ticks": ""
           }
          },
          "scene": {
           "xaxis": {
            "backgroundcolor": "#E5ECF6",
            "gridcolor": "white",
            "gridwidth": 2,
            "linecolor": "white",
            "showbackground": true,
            "ticks": "",
            "zerolinecolor": "white"
           },
           "yaxis": {
            "backgroundcolor": "#E5ECF6",
            "gridcolor": "white",
            "gridwidth": 2,
            "linecolor": "white",
            "showbackground": true,
            "ticks": "",
            "zerolinecolor": "white"
           },
           "zaxis": {
            "backgroundcolor": "#E5ECF6",
            "gridcolor": "white",
            "gridwidth": 2,
            "linecolor": "white",
            "showbackground": true,
            "ticks": "",
            "zerolinecolor": "white"
           }
          },
          "shapedefaults": {
           "line": {
            "color": "#2a3f5f"
           }
          },
          "ternary": {
           "aaxis": {
            "gridcolor": "white",
            "linecolor": "white",
            "ticks": ""
           },
           "baxis": {
            "gridcolor": "white",
            "linecolor": "white",
            "ticks": ""
           },
           "bgcolor": "#E5ECF6",
           "caxis": {
            "gridcolor": "white",
            "linecolor": "white",
            "ticks": ""
           }
          },
          "title": {
           "x": 0.05
          },
          "xaxis": {
           "automargin": true,
           "gridcolor": "white",
           "linecolor": "white",
           "ticks": "",
           "title": {
            "standoff": 15
           },
           "zerolinecolor": "white",
           "zerolinewidth": 2
          },
          "yaxis": {
           "automargin": true,
           "gridcolor": "white",
           "linecolor": "white",
           "ticks": "",
           "title": {
            "standoff": 15
           },
           "zerolinecolor": "white",
           "zerolinewidth": 2
          }
         }
        }
       }
      },
      "text/html": [
       "<div>\n",
       "        \n",
       "        \n",
       "            <div id=\"8cdcce46-7be1-4135-af99-b72720cff285\" class=\"plotly-graph-div\" style=\"height:525px; width:100%;\"></div>\n",
       "            <script type=\"text/javascript\">\n",
       "                require([\"plotly\"], function(Plotly) {\n",
       "                    window.PLOTLYENV=window.PLOTLYENV || {};\n",
       "                    \n",
       "                if (document.getElementById(\"8cdcce46-7be1-4135-af99-b72720cff285\")) {\n",
       "                    Plotly.newPlot(\n",
       "                        '8cdcce46-7be1-4135-af99-b72720cff285',\n",
       "                        [{\"dimensions\": [{\"axis\": {\"matches\": true}, \"label\": \"Generosity\", \"values\": [0.29678000000000004, 0.28083, 0.29054927825927696, 0.256, 0.263]}, {\"axis\": {\"matches\": true}, \"label\": \"Economy\", \"values\": [1.3965100000000001, 1.5273299999999999, 1.5649795532226598, 1.42, 1.452]}], \"hovertemplate\": \"Country=Switzerland<br>%{xaxis.title.text}=%{x}<br>%{yaxis.title.text}=%{y}<extra></extra>\", \"legendgroup\": \"Switzerland\", \"marker\": {\"color\": \"#636efa\", \"symbol\": \"circle\"}, \"name\": \"Switzerland\", \"showlegend\": true, \"type\": \"splom\"}, {\"dimensions\": [{\"axis\": {\"matches\": true}, \"label\": \"Generosity\", \"values\": [0.4363, 0.47678000000000004, 0.47554022073745705, 0.353, 0.354]}, {\"axis\": {\"matches\": true}, \"label\": \"Economy\", \"values\": [1.3023200000000001, 1.42666, 1.480633020401, 1.3430000000000002, 1.38]}], \"hovertemplate\": \"Country=Iceland<br>%{xaxis.title.text}=%{x}<br>%{yaxis.title.text}=%{y}<extra></extra>\", \"legendgroup\": \"Iceland\", \"marker\": {\"color\": \"#EF553B\", \"symbol\": \"circle\"}, \"name\": \"Iceland\", \"showlegend\": true, \"type\": \"splom\"}, {\"dimensions\": [{\"axis\": {\"matches\": true}, \"label\": \"Generosity\", \"values\": [0.34139, 0.36171, 0.3552804887294771, 0.284, 0.252]}, {\"axis\": {\"matches\": true}, \"label\": \"Economy\", \"values\": [1.32548, 1.4417799999999998, 1.48238301277161, 1.351, 1.383]}], \"hovertemplate\": \"Country=Denmark<br>%{xaxis.title.text}=%{x}<br>%{yaxis.title.text}=%{y}<extra></extra>\", \"legendgroup\": \"Denmark\", \"marker\": {\"color\": \"#00cc96\", \"symbol\": \"circle\"}, \"name\": \"Denmark\", \"showlegend\": true, \"type\": \"splom\"}, {\"dimensions\": [{\"axis\": {\"matches\": true}, \"label\": \"Generosity\", \"values\": [0.34699, 0.37895, 0.36201223731041, 0.28600000000000003, 0.271]}, {\"axis\": {\"matches\": true}, \"label\": \"Economy\", \"values\": [1.459, 1.57744, 1.6164631843566901, 1.456, 1.4880000000000002]}], \"hovertemplate\": \"Country=Norway<br>%{xaxis.title.text}=%{x}<br>%{yaxis.title.text}=%{y}<extra></extra>\", \"legendgroup\": \"Norway\", \"marker\": {\"color\": \"#ab63fa\", \"symbol\": \"circle\"}, \"name\": \"Norway\", \"showlegend\": true, \"type\": \"splom\"}, {\"dimensions\": [{\"axis\": {\"matches\": true}, \"label\": \"Generosity\", \"values\": [0.45811, 0.44833999999999996, 0.435539722442627, 0.321, 0.285]}, {\"axis\": {\"matches\": true}, \"label\": \"Economy\", \"values\": [1.32629, 1.44015, 1.47920441627502, 1.33, 1.365]}], \"hovertemplate\": \"Country=Canada<br>%{xaxis.title.text}=%{x}<br>%{yaxis.title.text}=%{y}<extra></extra>\", \"legendgroup\": \"Canada\", \"marker\": {\"color\": \"#FFA15A\", \"symbol\": \"circle\"}, \"name\": \"Canada\", \"showlegend\": true, \"type\": \"splom\"}, {\"dimensions\": [{\"axis\": {\"matches\": true}, \"label\": \"Generosity\", \"values\": [0.23351, 0.25492, 0.24548277258873, 0.20199999999999999, 0.153]}, {\"axis\": {\"matches\": true}, \"label\": \"Economy\", \"values\": [1.29025, 1.40598, 1.44357192516327, 1.305, 1.34]}], \"hovertemplate\": \"Country=Finland<br>%{xaxis.title.text}=%{x}<br>%{yaxis.title.text}=%{y}<extra></extra>\", \"legendgroup\": \"Finland\", \"marker\": {\"color\": \"#19d3f3\", \"symbol\": \"circle\"}, \"name\": \"Finland\", \"showlegend\": true, \"type\": \"splom\"}, {\"dimensions\": [{\"axis\": {\"matches\": true}, \"label\": \"Generosity\", \"values\": [0.4761, 0.47416, 0.47048982977867104, 0.33299999999999996, 0.322]}, {\"axis\": {\"matches\": true}, \"label\": \"Economy\", \"values\": [1.32944, 1.46468, 1.50394463539124, 1.361, 1.396]}], \"hovertemplate\": \"Country=Netherlands<br>%{xaxis.title.text}=%{x}<br>%{yaxis.title.text}=%{y}<extra></extra>\", \"legendgroup\": \"Netherlands\", \"marker\": {\"color\": \"#FF6692\", \"symbol\": \"circle\"}, \"name\": \"Netherlands\", \"showlegend\": true, \"type\": \"splom\"}, {\"dimensions\": [{\"axis\": {\"matches\": true}, \"label\": \"Generosity\", \"values\": [0.36262, 0.38254, 0.38539925217628496, 0.285, 0.267]}, {\"axis\": {\"matches\": true}, \"label\": \"Economy\", \"values\": [1.33171, 1.45181, 1.49438726902008, 1.355, 1.3869999999999998]}], \"hovertemplate\": \"Country=Sweden<br>%{xaxis.title.text}=%{x}<br>%{yaxis.title.text}=%{y}<extra></extra>\", \"legendgroup\": \"Sweden\", \"marker\": {\"color\": \"#B6E880\", \"symbol\": \"circle\"}, \"name\": \"Sweden\", \"showlegend\": true, \"type\": \"splom\"}, {\"dimensions\": [{\"axis\": {\"matches\": true}, \"label\": \"Generosity\", \"values\": [0.47501000000000004, 0.49401000000000006, 0.500005125999451, 0.365, 0.33]}, {\"axis\": {\"matches\": true}, \"label\": \"Economy\", \"values\": [1.2501799999999998, 1.36066, 1.40570604801178, 1.268, 1.3030000000000002]}], \"hovertemplate\": \"Country=New Zealand<br>%{xaxis.title.text}=%{x}<br>%{yaxis.title.text}=%{y}<extra></extra>\", \"legendgroup\": \"New Zealand\", \"marker\": {\"color\": \"#FF97FF\", \"symbol\": \"circle\"}, \"name\": \"New Zealand\", \"showlegend\": true, \"type\": \"splom\"}, {\"dimensions\": [{\"axis\": {\"matches\": true}, \"label\": \"Generosity\", \"values\": [0.43562, 0.47407, 0.47769924998283403, 0.361, 0.332]}, {\"axis\": {\"matches\": true}, \"label\": \"Economy\", \"values\": [1.33358, 1.4444299999999999, 1.4844149351120002, 1.34, 1.3719999999999999]}], \"hovertemplate\": \"Country=Australia<br>%{xaxis.title.text}=%{x}<br>%{yaxis.title.text}=%{y}<extra></extra>\", \"legendgroup\": \"Australia\", \"marker\": {\"color\": \"#FECB52\", \"symbol\": \"circle\"}, \"name\": \"Australia\", \"showlegend\": true, \"type\": \"splom\"}, {\"dimensions\": [{\"axis\": {\"matches\": true}, \"label\": \"Generosity\", \"values\": [0.33171999999999996, 0.32288, 0.330082654953003, 0.354, 0.261]}, {\"axis\": {\"matches\": true}, \"label\": \"Economy\", \"values\": [1.2285700000000002, 1.33766, 1.3753824234008798, 1.301, 1.276]}], \"hovertemplate\": \"Country=Israel<br>%{xaxis.title.text}=%{x}<br>%{yaxis.title.text}=%{y}<extra></extra>\", \"legendgroup\": \"Israel\", \"marker\": {\"color\": \"#636efa\", \"symbol\": \"circle\"}, \"name\": \"Israel\", \"showlegend\": true, \"type\": \"splom\"}, {\"dimensions\": [{\"axis\": {\"matches\": true}, \"label\": \"Generosity\", \"values\": [0.25497, 0.22553, 0.21461322903633104, 0.14300000000000002, 0.14400000000000002]}, {\"axis\": {\"matches\": true}, \"label\": \"Economy\", \"values\": [0.95578, 1.06879, 1.10970628261566, 1.01, 1.034]}], \"hovertemplate\": \"Country=Costa Rica<br>%{xaxis.title.text}=%{x}<br>%{yaxis.title.text}=%{y}<extra></extra>\", \"legendgroup\": \"Costa Rica\", \"marker\": {\"color\": \"#EF553B\", \"symbol\": \"circle\"}, \"name\": \"Costa Rica\", \"showlegend\": true, \"type\": \"splom\"}, {\"dimensions\": [{\"axis\": {\"matches\": true}, \"label\": \"Generosity\", \"values\": [0.33088, 0.32865, 0.316472321748734, 0.242, 0.244]}, {\"axis\": {\"matches\": true}, \"label\": \"Economy\", \"values\": [1.33723, 1.45038, 1.4870972633361799, 1.341, 1.376]}], \"hovertemplate\": \"Country=Austria<br>%{xaxis.title.text}=%{x}<br>%{yaxis.title.text}=%{y}<extra></extra>\", \"legendgroup\": \"Austria\", \"marker\": {\"color\": \"#00cc96\", \"symbol\": \"circle\"}, \"name\": \"Austria\", \"showlegend\": true, \"type\": \"splom\"}, {\"dimensions\": [{\"axis\": {\"matches\": true}, \"label\": \"Generosity\", \"values\": [0.14074, 0.11735, 0.12099043279886199, 0.069, 0.07400000000000001]}, {\"axis\": {\"matches\": true}, \"label\": \"Economy\", \"values\": [1.02054, 1.1150799999999998, 1.1531838178634601, 1.038, 1.07]}], \"hovertemplate\": \"Country=Mexico<br>%{xaxis.title.text}=%{x}<br>%{yaxis.title.text}=%{y}<extra></extra>\", \"legendgroup\": \"Mexico\", \"marker\": {\"color\": \"#ab63fa\", \"symbol\": \"circle\"}, \"name\": \"Mexico\", \"showlegend\": true, \"type\": \"splom\"}, {\"dimensions\": [{\"axis\": {\"matches\": true}, \"label\": \"Generosity\", \"values\": [0.40105, 0.41076999999999997, 0.392578780651093, 0.29100000000000004, 0.28]}, {\"axis\": {\"matches\": true}, \"label\": \"Economy\", \"values\": [1.3945100000000001, 1.50796, 1.54625928401947, 1.3980000000000001, 1.433]}], \"hovertemplate\": \"Country=United States<br>%{xaxis.title.text}=%{x}<br>%{yaxis.title.text}=%{y}<extra></extra>\", \"legendgroup\": \"United States\", \"marker\": {\"color\": \"#FFA15A\", \"symbol\": \"circle\"}, \"name\": \"United States\", \"showlegend\": true, \"type\": \"splom\"}, {\"dimensions\": [{\"axis\": {\"matches\": true}, \"label\": \"Generosity\", \"values\": [0.14574, 0.15775999999999998, 0.16234989464282998, 0.11, 0.099]}, {\"axis\": {\"matches\": true}, \"label\": \"Economy\", \"values\": [0.98124, 1.08754, 1.1073532104492199, 0.986, 1.004]}], \"hovertemplate\": \"Country=Brazil<br>%{xaxis.title.text}=%{x}<br>%{yaxis.title.text}=%{y}<extra></extra>\", \"legendgroup\": \"Brazil\", \"marker\": {\"color\": \"#19d3f3\", \"symbol\": \"circle\"}, \"name\": \"Brazil\", \"showlegend\": true, \"type\": \"splom\"}, {\"dimensions\": [{\"axis\": {\"matches\": true}, \"label\": \"Generosity\", \"values\": [0.28034000000000003, 0.27571, 0.283180981874466, 0.196, 0.19399999999999998]}, {\"axis\": {\"matches\": true}, \"label\": \"Economy\", \"values\": [1.5639100000000001, 1.6975200000000001, 1.74194359779358, 1.5759999999999998, 1.609]}], \"hovertemplate\": \"Country=Luxembourg<br>%{xaxis.title.text}=%{x}<br>%{yaxis.title.text}=%{y}<extra></extra>\", \"legendgroup\": \"Luxembourg\", \"marker\": {\"color\": \"#FF6692\", \"symbol\": \"circle\"}, \"name\": \"Luxembourg\", \"showlegend\": true, \"type\": \"splom\"}, {\"dimensions\": [{\"axis\": {\"matches\": true}, \"label\": \"Generosity\", \"values\": [0.45901000000000003, 0.44963000000000003, 0.42785832285881, 0.307, 0.298]}, {\"axis\": {\"matches\": true}, \"label\": \"Economy\", \"values\": [1.33596, 1.4834100000000001, 1.5357066392898602, 1.4480000000000002, 1.499]}], \"hovertemplate\": \"Country=Ireland<br>%{xaxis.title.text}=%{x}<br>%{yaxis.title.text}=%{y}<extra></extra>\", \"legendgroup\": \"Ireland\", \"marker\": {\"color\": \"#B6E880\", \"symbol\": \"circle\"}, \"name\": \"Ireland\", \"showlegend\": true, \"type\": \"splom\"}, {\"dimensions\": [{\"axis\": {\"matches\": true}, \"label\": \"Generosity\", \"values\": [0.2225, 0.2424, 0.23150333762168898, 0.188, 0.16]}, {\"axis\": {\"matches\": true}, \"label\": \"Economy\", \"values\": [1.30782, 1.42539, 1.4637807607650801, 1.324, 1.3559999999999999]}], \"hovertemplate\": \"Country=Belgium<br>%{xaxis.title.text}=%{x}<br>%{yaxis.title.text}=%{y}<extra></extra>\", \"legendgroup\": \"Belgium\", \"marker\": {\"color\": \"#FF97FF\", \"symbol\": \"circle\"}, \"name\": \"Belgium\", \"showlegend\": true, \"type\": \"splom\"}, {\"dimensions\": [{\"axis\": {\"matches\": true}, \"label\": \"Generosity\", \"values\": [0.26428, 0.26591, 0.3609419465065, 0.18600000000000003, 0.262]}, {\"axis\": {\"matches\": true}, \"label\": \"Economy\", \"values\": [1.42727, 1.57352, 1.6263433694839498, 2.096, 1.5030000000000001]}], \"hovertemplate\": \"Country=United Arab Emirates<br>%{xaxis.title.text}=%{x}<br>%{yaxis.title.text}=%{y}<extra></extra>\", \"legendgroup\": \"United Arab Emirates\", \"marker\": {\"color\": \"#FECB52\", \"symbol\": \"circle\"}, \"name\": \"United Arab Emirates\", \"showlegend\": true, \"type\": \"splom\"}, {\"dimensions\": [{\"axis\": {\"matches\": true}, \"label\": \"Generosity\", \"values\": [0.51912, 0.50156, 0.492774158716202, 0.262, 0.348]}, {\"axis\": {\"matches\": true}, \"label\": \"Economy\", \"values\": [1.26637, 1.40283, 1.44163393974304, 1.244, 1.3330000000000002]}], \"hovertemplate\": \"Country=United Kingdom<br>%{xaxis.title.text}=%{x}<br>%{yaxis.title.text}=%{y}<extra></extra>\", \"legendgroup\": \"United Kingdom\", \"marker\": {\"color\": \"#636efa\", \"symbol\": \"circle\"}, \"name\": \"United Kingdom\", \"showlegend\": true, \"type\": \"splom\"}, {\"dimensions\": [{\"axis\": {\"matches\": true}, \"label\": \"Generosity\", \"values\": [0.21541999999999997]}, {\"axis\": {\"matches\": true}, \"label\": \"Economy\", \"values\": [1.36011]}], \"hovertemplate\": \"Country=Oman<br>%{xaxis.title.text}=%{x}<br>%{yaxis.title.text}=%{y}<extra></extra>\", \"legendgroup\": \"Oman\", \"marker\": {\"color\": \"#EF553B\", \"symbol\": \"circle\"}, \"name\": \"Oman\", \"showlegend\": true, \"type\": \"splom\"}, {\"dimensions\": [{\"axis\": {\"matches\": true}, \"label\": \"Generosity\", \"values\": [0.058410000000000004, 0.0425, 0.0650196298956871, 0.055999999999999994, 0.064]}, {\"axis\": {\"matches\": true}, \"label\": \"Economy\", \"values\": [1.04424, 1.1336700000000002, 1.12843120098114, 0.996, 0.96]}], \"hovertemplate\": \"Country=Venezuela<br>%{xaxis.title.text}=%{x}<br>%{yaxis.title.text}=%{y}<extra></extra>\", \"legendgroup\": \"Venezuela\", \"marker\": {\"color\": \"#00cc96\", \"symbol\": \"circle\"}, \"name\": \"Venezuela\", \"showlegend\": true, \"type\": \"splom\"}, {\"dimensions\": [{\"axis\": {\"matches\": true}, \"label\": \"Generosity\", \"values\": [0.31105, 0.32706, 0.345965981483459, 0.261, 0.271]}, {\"axis\": {\"matches\": true}, \"label\": \"Economy\", \"values\": [1.52186, 1.64555, 1.69227766990662, 1.5290000000000001, 1.5719999999999998]}], \"hovertemplate\": \"Country=Singapore<br>%{xaxis.title.text}=%{x}<br>%{yaxis.title.text}=%{y}<extra></extra>\", \"legendgroup\": \"Singapore\", \"marker\": {\"color\": \"#ab63fa\", \"symbol\": \"circle\"}, \"name\": \"Singapore\", \"showlegend\": true, \"type\": \"splom\"}, {\"dimensions\": [{\"axis\": {\"matches\": true}, \"label\": \"Generosity\", \"values\": [0.24434, 0.2418, 0.21055693924427, 0.125, 0.109]}, {\"axis\": {\"matches\": true}, \"label\": \"Economy\", \"values\": [1.0635299999999999, 1.18306, 1.23374843597412, 1.112, 1.149]}], \"hovertemplate\": \"Country=Panama<br>%{xaxis.title.text}=%{x}<br>%{yaxis.title.text}=%{y}<extra></extra>\", \"legendgroup\": \"Panama\", \"marker\": {\"color\": \"#FFA15A\", \"symbol\": \"circle\"}, \"name\": \"Panama\", \"showlegend\": true, \"type\": \"splom\"}, {\"dimensions\": [{\"axis\": {\"matches\": true}, \"label\": \"Generosity\", \"values\": [0.28214, 0.30451999999999996, 0.33626917004585305, 0.273, 0.261]}, {\"axis\": {\"matches\": true}, \"label\": \"Economy\", \"values\": [1.32792, 1.44787, 1.48792338371277, 1.34, 1.3730000000000002]}], \"hovertemplate\": \"Country=Germany<br>%{xaxis.title.text}=%{x}<br>%{yaxis.title.text}=%{y}<extra></extra>\", \"legendgroup\": \"Germany\", \"marker\": {\"color\": \"#19d3f3\", \"symbol\": \"circle\"}, \"name\": \"Germany\", \"showlegend\": true, \"type\": \"splom\"}, {\"dimensions\": [{\"axis\": {\"matches\": true}, \"label\": \"Generosity\", \"values\": [0.33363000000000004, 0.31595, 0.3266624212265011, 0.19699999999999998, 0.187]}, {\"axis\": {\"matches\": true}, \"label\": \"Economy\", \"values\": [1.10715, 1.2167, 1.25278460979462, 1.131, 1.159]}], \"hovertemplate\": \"Country=Chile<br>%{xaxis.title.text}=%{x}<br>%{yaxis.title.text}=%{y}<extra></extra>\", \"legendgroup\": \"Chile\", \"marker\": {\"color\": \"#FF6692\", \"symbol\": \"circle\"}, \"name\": \"Chile\", \"showlegend\": true, \"type\": \"splom\"}, {\"dimensions\": [{\"axis\": {\"matches\": true}, \"label\": \"Generosity\", \"values\": [0.32573, 0.32388, 0.33047387003898604, 0.256, 0.22]}, {\"axis\": {\"matches\": true}, \"label\": \"Economy\", \"values\": [1.69042, 1.82427, 1.8707656860351598, 1.649, 1.6840000000000002]}], \"hovertemplate\": \"Country=Qatar<br>%{xaxis.title.text}=%{x}<br>%{yaxis.title.text}=%{y}<extra></extra>\", \"legendgroup\": \"Qatar\", \"marker\": {\"color\": \"#B6E880\", \"symbol\": \"circle\"}, \"name\": \"Qatar\", \"showlegend\": true, \"type\": \"splom\"}, {\"dimensions\": [{\"axis\": {\"matches\": true}, \"label\": \"Generosity\", \"values\": [0.12332, 0.1216, 0.129762306809425, 0.098, 0.111]}, {\"axis\": {\"matches\": true}, \"label\": \"Economy\", \"values\": [1.27778, 1.39488, 1.43092346191406, 1.2930000000000001, 1.324]}], \"hovertemplate\": \"Country=France<br>%{xaxis.title.text}=%{x}<br>%{yaxis.title.text}=%{y}<extra></extra>\", \"legendgroup\": \"France\", \"marker\": {\"color\": \"#FF97FF\", \"symbol\": \"circle\"}, \"name\": \"France\", \"showlegend\": true, \"type\": \"splom\"}, {\"dimensions\": [{\"axis\": {\"matches\": true}, \"label\": \"Generosity\", \"values\": [0.11450999999999999, 0.10989000000000002, 0.109457060694695, 0.062, 0.066]}, {\"axis\": {\"matches\": true}, \"label\": \"Economy\", \"values\": [1.05351, 1.15137, 1.18529546260834, 1.073, 1.092]}], \"hovertemplate\": \"Country=Argentina<br>%{xaxis.title.text}=%{x}<br>%{yaxis.title.text}=%{y}<extra></extra>\", \"legendgroup\": \"Argentina\", \"marker\": {\"color\": \"#FECB52\", \"symbol\": \"circle\"}, \"name\": \"Argentina\", \"showlegend\": true, \"type\": \"splom\"}, {\"dimensions\": [{\"axis\": {\"matches\": true}, \"label\": \"Generosity\", \"values\": [0.10686, 0.09929, 0.0881067588925362, 0.064, 0.046]}, {\"axis\": {\"matches\": true}, \"label\": \"Economy\", \"values\": [1.17898, 1.30915, 1.35268235206604, 1.2329999999999999, 1.2690000000000001]}], \"hovertemplate\": \"Country=Czech Republic<br>%{xaxis.title.text}=%{x}<br>%{yaxis.title.text}=%{y}<extra></extra>\", \"legendgroup\": \"Czech Republic\", \"marker\": {\"color\": \"#636efa\", \"symbol\": \"circle\"}, \"name\": \"Czech Republic\", \"showlegend\": true, \"type\": \"splom\"}, {\"dimensions\": [{\"axis\": {\"matches\": true}, \"label\": \"Generosity\", \"values\": [0.2324, 0.18056, 0.175096929073334, 0.13, 0.127]}, {\"axis\": {\"matches\": true}, \"label\": \"Economy\", \"values\": [1.06166, 1.18157, 1.2175596952438401, 1.093, 1.124]}], \"hovertemplate\": \"Country=Uruguay<br>%{xaxis.title.text}=%{x}<br>%{yaxis.title.text}=%{y}<extra></extra>\", \"legendgroup\": \"Uruguay\", \"marker\": {\"color\": \"#EF553B\", \"symbol\": \"circle\"}, \"name\": \"Uruguay\", \"showlegend\": true, \"type\": \"splom\"}, {\"dimensions\": [{\"axis\": {\"matches\": true}, \"label\": \"Generosity\", \"values\": [0.18400999999999998, 0.15625999999999998, 0.14901447296142598, 0.099, 0.099]}, {\"axis\": {\"matches\": true}, \"label\": \"Economy\", \"values\": [0.91861, 1.0303200000000001, 1.07062232494354, 0.96, 0.985]}], \"hovertemplate\": \"Country=Colombia<br>%{xaxis.title.text}=%{x}<br>%{yaxis.title.text}=%{y}<extra></extra>\", \"legendgroup\": \"Colombia\", \"marker\": {\"color\": \"#00cc96\", \"symbol\": \"circle\"}, \"name\": \"Colombia\", \"showlegend\": true, \"type\": \"splom\"}, {\"dimensions\": [{\"axis\": {\"matches\": true}, \"label\": \"Generosity\", \"values\": [0.5763, 0.58696, 0.572123110294342, 0.364, 0.359]}, {\"axis\": {\"matches\": true}, \"label\": \"Economy\", \"values\": [0.9669, 1.0893, 1.12786877155304, 1.016, 1.05]}], \"hovertemplate\": \"Country=Thailand<br>%{xaxis.title.text}=%{x}<br>%{yaxis.title.text}=%{y}<extra></extra>\", \"legendgroup\": \"Thailand\", \"marker\": {\"color\": \"#ab63fa\", \"symbol\": \"circle\"}, \"name\": \"Thailand\", \"showlegend\": true, \"type\": \"splom\"}, {\"dimensions\": [{\"axis\": {\"matches\": true}, \"label\": \"Generosity\", \"values\": [0.13706, 0.15457, 0.147616013884544, 0.098, 0.08]}, {\"axis\": {\"matches\": true}, \"label\": \"Economy\", \"values\": [1.39541, 1.48953, 1.53062355518341, 1.379, 1.403]}], \"hovertemplate\": \"Country=Saudi Arabia<br>%{xaxis.title.text}=%{x}<br>%{yaxis.title.text}=%{y}<extra></extra>\", \"legendgroup\": \"Saudi Arabia\", \"marker\": {\"color\": \"#FFA15A\", \"symbol\": \"circle\"}, \"name\": \"Saudi Arabia\", \"showlegend\": true, \"type\": \"splom\"}, {\"dimensions\": [{\"axis\": {\"matches\": true}, \"label\": \"Generosity\", \"values\": [0.18227000000000002, 0.17665, 0.190133571624756, 0.142, 0.153]}, {\"axis\": {\"matches\": true}, \"label\": \"Economy\", \"values\": [1.23011, 1.34253, 1.38439786434174, 1.251, 1.286]}], \"hovertemplate\": \"Country=Spain<br>%{xaxis.title.text}=%{x}<br>%{yaxis.title.text}=%{y}<extra></extra>\", \"legendgroup\": \"Spain\", \"marker\": {\"color\": \"#19d3f3\", \"symbol\": \"circle\"}, \"name\": \"Spain\", \"showlegend\": true, \"type\": \"splom\"}, {\"dimensions\": [{\"axis\": {\"matches\": true}, \"label\": \"Generosity\", \"values\": [0.51752, 0.56237, 0.5747305750846861, 0.376, 0.375]}, {\"axis\": {\"matches\": true}, \"label\": \"Economy\", \"values\": [1.2074, 1.30782, 1.34327983856201, 1.27, 1.3]}], \"hovertemplate\": \"Country=Malta<br>%{xaxis.title.text}=%{x}<br>%{yaxis.title.text}=%{y}<extra></extra>\", \"legendgroup\": \"Malta\", \"marker\": {\"color\": \"#FF6692\", \"symbol\": \"circle\"}, \"name\": \"Malta\", \"showlegend\": true, \"type\": \"splom\"}, {\"dimensions\": [{\"axis\": {\"matches\": true}, \"label\": \"Generosity\", \"values\": [0.25376, 0.25495, 0.151, 0.242]}, {\"axis\": {\"matches\": true}, \"label\": \"Economy\", \"values\": [1.29098, 1.39729, 1.365, 1.368]}], \"hovertemplate\": \"Country=Taiwan<br>%{xaxis.title.text}=%{x}<br>%{yaxis.title.text}=%{y}<extra></extra>\", \"legendgroup\": \"Taiwan\", \"marker\": {\"color\": \"#B6E880\", \"symbol\": \"circle\"}, \"name\": \"Taiwan\", \"showlegend\": true, \"type\": \"splom\"}, {\"dimensions\": [{\"axis\": {\"matches\": true}, \"label\": \"Generosity\", \"values\": [0.16228, 0.15965, 0.228289797902107, 0.16699999999999998, 0.142]}, {\"axis\": {\"matches\": true}, \"label\": \"Economy\", \"values\": [1.5542200000000002, 1.61714, 1.63295245170593, 1.474, 1.5]}], \"hovertemplate\": \"Country=Kuwait<br>%{xaxis.title.text}=%{x}<br>%{yaxis.title.text}=%{y}<extra></extra>\", \"legendgroup\": \"Kuwait\", \"marker\": {\"color\": \"#FF97FF\", \"symbol\": \"circle\"}, \"name\": \"Kuwait\", \"showlegend\": true, \"type\": \"splom\"}, {\"dimensions\": [{\"axis\": {\"matches\": true}, \"label\": \"Generosity\", \"values\": [0.16990999999999998, 0.16665]}, {\"axis\": {\"matches\": true}, \"label\": \"Economy\", \"values\": [0.99534, 1.09686]}], \"hovertemplate\": \"Country=Suriname<br>%{xaxis.title.text}=%{x}<br>%{yaxis.title.text}=%{y}<extra></extra>\", \"legendgroup\": \"Suriname\", \"marker\": {\"color\": \"#FECB52\", \"symbol\": \"circle\"}, \"name\": \"Suriname\", \"showlegend\": true, \"type\": \"splom\"}, {\"dimensions\": [{\"axis\": {\"matches\": true}, \"label\": \"Generosity\", \"values\": [0.31844, 0.31935, 0.32529646158218395]}, {\"axis\": {\"matches\": true}, \"label\": \"Economy\", \"values\": [1.21183, 1.32572, 1.36135590076447]}], \"hovertemplate\": \"Country=Trinidad and Tobago<br>%{xaxis.title.text}=%{x}<br>%{yaxis.title.text}=%{y}<extra></extra>\", \"legendgroup\": \"Trinidad and Tobago\", \"marker\": {\"color\": \"#636efa\", \"symbol\": \"circle\"}, \"name\": \"Trinidad and Tobago\", \"showlegend\": true, \"type\": \"splom\"}, {\"dimensions\": [{\"axis\": {\"matches\": true}, \"label\": \"Generosity\", \"values\": [0.10692, 0.08877, 0.0782579854130745, 0.065, 0.09300000000000001]}, {\"axis\": {\"matches\": true}, \"label\": \"Economy\", \"values\": [0.76454, 0.8737, 0.9097844958305359, 0.8059999999999999, 0.794]}], \"hovertemplate\": \"Country=El Salvador<br>%{xaxis.title.text}=%{x}<br>%{yaxis.title.text}=%{y}<extra></extra>\", \"legendgroup\": \"El Salvador\", \"marker\": {\"color\": \"#EF553B\", \"symbol\": \"circle\"}, \"name\": \"El Salvador\", \"showlegend\": true, \"type\": \"splom\"}, {\"dimensions\": [{\"axis\": {\"matches\": true}, \"label\": \"Generosity\", \"values\": [0.27489, 0.28808, 0.283488392829895, 0.179, 0.175]}, {\"axis\": {\"matches\": true}, \"label\": \"Economy\", \"values\": [0.74553, 0.83454, 0.872001945972443, 0.7809999999999999, 0.8]}], \"hovertemplate\": \"Country=Guatemala<br>%{xaxis.title.text}=%{x}<br>%{yaxis.title.text}=%{y}<extra></extra>\", \"legendgroup\": \"Guatemala\", \"marker\": {\"color\": \"#00cc96\", \"symbol\": \"circle\"}, \"name\": \"Guatemala\", \"showlegend\": true, \"type\": \"splom\"}, {\"dimensions\": [{\"axis\": {\"matches\": true}, \"label\": \"Generosity\", \"values\": [0.22837, 0.34326, 0.41598364710807795, 0.32799999999999996, 0.322]}, {\"axis\": {\"matches\": true}, \"label\": \"Economy\", \"values\": [0.63244, 0.7359100000000001, 0.786441087722778, 0.7190000000000001, 0.745]}], \"hovertemplate\": \"Country=Uzbekistan<br>%{xaxis.title.text}=%{x}<br>%{yaxis.title.text}=%{y}<extra></extra>\", \"legendgroup\": \"Uzbekistan\", \"marker\": {\"color\": \"#ab63fa\", \"symbol\": \"circle\"}, \"name\": \"Uzbekistan\", \"showlegend\": true, \"type\": \"splom\"}, {\"dimensions\": [{\"axis\": {\"matches\": true}, \"label\": \"Generosity\", \"values\": [0.16893, 0.13837, 0.136544480919838, 0.11800000000000001, 0.121]}, {\"axis\": {\"matches\": true}, \"label\": \"Economy\", \"values\": [1.1689100000000001, 1.27973, 1.32539355754852, 1.21, 1.246]}], \"hovertemplate\": \"Country=Slovakia<br>%{xaxis.title.text}=%{x}<br>%{yaxis.title.text}=%{y}<extra></extra>\", \"legendgroup\": \"Slovakia\", \"marker\": {\"color\": \"#FFA15A\", \"symbol\": \"circle\"}, \"name\": \"Slovakia\", \"showlegend\": true, \"type\": \"splom\"}, {\"dimensions\": [{\"axis\": {\"matches\": true}, \"label\": \"Generosity\", \"values\": [0.10705, 0.10224, 0.12057276815175999, 0.079, 0.069]}, {\"axis\": {\"matches\": true}, \"label\": \"Economy\", \"values\": [1.27074, 1.3800700000000001, 1.41691517829895, 1.294, 1.327]}], \"hovertemplate\": \"Country=Japan<br>%{xaxis.title.text}=%{x}<br>%{yaxis.title.text}=%{y}<extra></extra>\", \"legendgroup\": \"Japan\", \"marker\": {\"color\": \"#19d3f3\", \"symbol\": \"circle\"}, \"name\": \"Japan\", \"showlegend\": true, \"type\": \"splom\"}, {\"dimensions\": [{\"axis\": {\"matches\": true}, \"label\": \"Generosity\", \"values\": [0.18557, 0.18824000000000002, 0.206674367189407, 0.175, 0.175]}, {\"axis\": {\"matches\": true}, \"label\": \"Economy\", \"values\": [1.24461, 1.35948, 1.40167844295502, 1.266, 1.301]}], \"hovertemplate\": \"Country=South Korea<br>%{xaxis.title.text}=%{x}<br>%{yaxis.title.text}=%{y}<extra></extra>\", \"legendgroup\": \"South Korea\", \"marker\": {\"color\": \"#FF6692\", \"symbol\": \"circle\"}, \"name\": \"South Korea\", \"showlegend\": true, \"type\": \"splom\"}, {\"dimensions\": [{\"axis\": {\"matches\": true}, \"label\": \"Generosity\", \"values\": [0.11540999999999998, 0.10074, 0.15011246502399403, 0.114, 0.126]}, {\"axis\": {\"matches\": true}, \"label\": \"Economy\", \"values\": [0.8640200000000001, 0.97306, 1.00082039833069, 0.889, 0.912]}], \"hovertemplate\": \"Country=Ecuador<br>%{xaxis.title.text}=%{x}<br>%{yaxis.title.text}=%{y}<extra></extra>\", \"legendgroup\": \"Ecuador\", \"marker\": {\"color\": \"#B6E880\", \"symbol\": \"circle\"}, \"name\": \"Ecuador\", \"showlegend\": true, \"type\": \"splom\"}, {\"dimensions\": [{\"axis\": {\"matches\": true}, \"label\": \"Generosity\", \"values\": [0.17362, 0.17147, 0.17266848683357197, 0.243, 0.255]}, {\"axis\": {\"matches\": true}, \"label\": \"Economy\", \"values\": [1.32376, 1.44024, 1.4884122610092199, 1.338, 1.3619999999999999]}], \"hovertemplate\": \"Country=Bahrain<br>%{xaxis.title.text}=%{x}<br>%{yaxis.title.text}=%{y}<extra></extra>\", \"legendgroup\": \"Bahrain\", \"marker\": {\"color\": \"#FF97FF\", \"symbol\": \"circle\"}, \"name\": \"Bahrain\", \"showlegend\": true, \"type\": \"splom\"}, {\"dimensions\": [{\"axis\": {\"matches\": true}, \"label\": \"Generosity\", \"values\": [0.22823000000000002, 0.16684000000000002, 0.17278964817523998, 0.13699999999999998, 0.158]}, {\"axis\": {\"matches\": true}, \"label\": \"Economy\", \"values\": [1.25114, 1.35495, 1.3950666189193701, 1.264, 1.294]}], \"hovertemplate\": \"Country=Italy<br>%{xaxis.title.text}=%{x}<br>%{yaxis.title.text}=%{y}<extra></extra>\", \"legendgroup\": \"Italy\", \"marker\": {\"color\": \"#FECB52\", \"symbol\": \"circle\"}, \"name\": \"Italy\", \"showlegend\": true, \"type\": \"splom\"}, {\"dimensions\": [{\"axis\": {\"matches\": true}, \"label\": \"Generosity\", \"values\": [0.20536, 0.21698, 0.22556072473526, 0.141, 0.13699999999999998]}, {\"axis\": {\"matches\": true}, \"label\": \"Economy\", \"values\": [0.68133, 0.79422, 0.833756566047668, 0.7509999999999999, 0.7759999999999999]}], \"hovertemplate\": \"Country=Bolivia<br>%{xaxis.title.text}=%{x}<br>%{yaxis.title.text}=%{y}<extra></extra>\", \"legendgroup\": \"Bolivia\", \"marker\": {\"color\": \"#636efa\", \"symbol\": \"circle\"}, \"name\": \"Bolivia\", \"showlegend\": true, \"type\": \"splom\"}, {\"dimensions\": [{\"axis\": {\"matches\": true}, \"label\": \"Generosity\", \"values\": [0.20951, 0.19997, 0.20877912640571603, 0.171, 0.18100000000000002]}, {\"axis\": {\"matches\": true}, \"label\": \"Economy\", \"values\": [0.59448, 0.69177, 0.7288706302642819, 0.657, 0.685]}], \"hovertemplate\": \"Country=Moldova<br>%{xaxis.title.text}=%{x}<br>%{yaxis.title.text}=%{y}<extra></extra>\", \"legendgroup\": \"Moldova\", \"marker\": {\"color\": \"#EF553B\", \"symbol\": \"circle\"}, \"name\": \"Moldova\", \"showlegend\": true, \"type\": \"splom\"}, {\"dimensions\": [{\"axis\": {\"matches\": true}, \"label\": \"Generosity\", \"values\": [0.3424, 0.25296, 0.224150657653809, 0.162, 0.184]}, {\"axis\": {\"matches\": true}, \"label\": \"Economy\", \"values\": [0.75985, 0.8937299999999999, 0.932537317276001, 0.835, 0.855]}], \"hovertemplate\": \"Country=Paraguay<br>%{xaxis.title.text}=%{x}<br>%{yaxis.title.text}=%{y}<extra></extra>\", \"legendgroup\": \"Paraguay\", \"marker\": {\"color\": \"#00cc96\", \"symbol\": \"circle\"}, \"name\": \"Paraguay\", \"showlegend\": true, \"type\": \"splom\"}, {\"dimensions\": [{\"axis\": {\"matches\": true}, \"label\": \"Generosity\", \"values\": [0.11827, 0.15011, 0.20196442306041698, 0.14800000000000002, 0.146]}, {\"axis\": {\"matches\": true}, \"label\": \"Economy\", \"values\": [1.1225399999999999, 1.22943, 1.2845562696456898, 1.143, 1.173]}], \"hovertemplate\": \"Country=Kazakhstan<br>%{xaxis.title.text}=%{x}<br>%{yaxis.title.text}=%{y}<extra></extra>\", \"legendgroup\": \"Kazakhstan\", \"marker\": {\"color\": \"#ab63fa\", \"symbol\": \"circle\"}, \"name\": \"Kazakhstan\", \"showlegend\": true, \"type\": \"splom\"}, {\"dimensions\": [{\"axis\": {\"matches\": true}, \"label\": \"Generosity\", \"values\": [0.25328, 0.25738, 0.242649093270302, 0.16, 0.14400000000000002]}, {\"axis\": {\"matches\": true}, \"label\": \"Economy\", \"values\": [1.18498, 1.2994700000000001, 1.3412059545516999, 1.219, 1.258]}], \"hovertemplate\": \"Country=Slovenia<br>%{xaxis.title.text}=%{x}<br>%{yaxis.title.text}=%{y}<extra></extra>\", \"legendgroup\": \"Slovenia\", \"marker\": {\"color\": \"#FFA15A\", \"symbol\": \"circle\"}, \"name\": \"Slovenia\", \"showlegend\": true, \"type\": \"splom\"}, {\"dimensions\": [{\"axis\": {\"matches\": true}, \"label\": \"Generosity\", \"values\": [0.026410000000000003, 0.02025, 0.010164656676352, 0.026000000000000002, 0.043]}, {\"axis\": {\"matches\": true}, \"label\": \"Economy\", \"values\": [1.14723, 1.2692, 1.3145823478698702, 1.197, 1.238]}], \"hovertemplate\": \"Country=Lithuania<br>%{xaxis.title.text}=%{x}<br>%{yaxis.title.text}=%{y}<extra></extra>\", \"legendgroup\": \"Lithuania\", \"marker\": {\"color\": \"#19d3f3\", \"symbol\": \"circle\"}, \"name\": \"Lithuania\", \"showlegend\": true, \"type\": \"splom\"}, {\"dimensions\": [{\"axis\": {\"matches\": true}, \"label\": \"Generosity\", \"values\": [0.27815, 0.29773, 0.301674216985703, 0.20800000000000002, 0.2]}, {\"axis\": {\"matches\": true}, \"label\": \"Economy\", \"values\": [0.59325, 0.69384, 0.737299203872681, 0.6679999999999999, 0.6940000000000001]}], \"hovertemplate\": \"Country=Nicaragua<br>%{xaxis.title.text}=%{x}<br>%{yaxis.title.text}=%{y}<extra></extra>\", \"legendgroup\": \"Nicaragua\", \"marker\": {\"color\": \"#FF6692\", \"symbol\": \"circle\"}, \"name\": \"Nicaragua\", \"showlegend\": true, \"type\": \"splom\"}, {\"dimensions\": [{\"axis\": {\"matches\": true}, \"label\": \"Generosity\", \"values\": [0.14982, 0.14527, 0.126819714903831, 0.092, 0.083]}, {\"axis\": {\"matches\": true}, \"label\": \"Economy\", \"values\": [0.9001899999999999, 0.9960200000000001, 1.0352252721786501, 0.934, 0.96]}], \"hovertemplate\": \"Country=Peru<br>%{xaxis.title.text}=%{x}<br>%{yaxis.title.text}=%{y}<extra></extra>\", \"legendgroup\": \"Peru\", \"marker\": {\"color\": \"#B6E880\", \"symbol\": \"circle\"}, \"name\": \"Peru\", \"showlegend\": true, \"type\": \"splom\"}, {\"dimensions\": [{\"axis\": {\"matches\": true}, \"label\": \"Generosity\", \"values\": [0.11045999999999999, 0.13942000000000002, 0.15513750910759, 0.10099999999999999, 0.094]}, {\"axis\": {\"matches\": true}, \"label\": \"Economy\", \"values\": [1.0319200000000002, 1.1306200000000002, 1.15655755996704, 1.0390000000000001, 1.067]}], \"hovertemplate\": \"Country=Belarus<br>%{xaxis.title.text}=%{x}<br>%{yaxis.title.text}=%{y}<extra></extra>\", \"legendgroup\": \"Belarus\", \"marker\": {\"color\": \"#FF97FF\", \"symbol\": \"circle\"}, \"name\": \"Belarus\", \"showlegend\": true, \"type\": \"splom\"}, {\"dimensions\": [{\"axis\": {\"matches\": true}, \"label\": \"Generosity\", \"values\": [0.16759000000000002, 0.14443, 0.158465966582298, 0.10800000000000001, 0.11699999999999999]}, {\"axis\": {\"matches\": true}, \"label\": \"Economy\", \"values\": [1.12555, 1.24585, 1.29178786277771, 1.176, 1.206]}], \"hovertemplate\": \"Country=Poland<br>%{xaxis.title.text}=%{x}<br>%{yaxis.title.text}=%{y}<extra></extra>\", \"legendgroup\": \"Poland\", \"marker\": {\"color\": \"#FECB52\", \"symbol\": \"circle\"}, \"name\": \"Poland\", \"showlegend\": true, \"type\": \"splom\"}, {\"dimensions\": [{\"axis\": {\"matches\": true}, \"label\": \"Generosity\", \"values\": [0.33075, 0.41473999999999994, 0.416608929634094, 0.311, 0.26]}, {\"axis\": {\"matches\": true}, \"label\": \"Economy\", \"values\": [1.12486, 1.25142, 1.29121541976929, 1.161, 1.2209999999999999]}], \"hovertemplate\": \"Country=Malaysia<br>%{xaxis.title.text}=%{x}<br>%{yaxis.title.text}=%{y}<extra></extra>\", \"legendgroup\": \"Malaysia\", \"marker\": {\"color\": \"#636efa\", \"symbol\": \"circle\"}, \"name\": \"Malaysia\", \"showlegend\": true, \"type\": \"splom\"}, {\"dimensions\": [{\"axis\": {\"matches\": true}, \"label\": \"Generosity\", \"values\": [0.054439999999999995, 0.18434, 0.248002976179123, 0.12, 0.11900000000000001]}, {\"axis\": {\"matches\": true}, \"label\": \"Economy\", \"values\": [1.08254, 1.18649, 1.22255623340607, 1.115, 1.155]}], \"hovertemplate\": \"Country=Croatia<br>%{xaxis.title.text}=%{x}<br>%{yaxis.title.text}=%{y}<extra></extra>\", \"legendgroup\": \"Croatia\", \"marker\": {\"color\": \"#EF553B\", \"symbol\": \"circle\"}, \"name\": \"Croatia\", \"showlegend\": true, \"type\": \"splom\"}, {\"dimensions\": [{\"axis\": {\"matches\": true}, \"label\": \"Generosity\", \"values\": [0.18295, 0.17087, 0.15207366645336198, 0.11599999999999999, 0.133]}, {\"axis\": {\"matches\": true}, \"label\": \"Economy\", \"values\": [1.13145, 1.0668799999999998, 1.1018030643463101, 0.985, 1.044]}], \"hovertemplate\": \"Country=Libya<br>%{xaxis.title.text}=%{x}<br>%{yaxis.title.text}=%{y}<extra></extra>\", \"legendgroup\": \"Libya\", \"marker\": {\"color\": \"#00cc96\", \"symbol\": \"circle\"}, \"name\": \"Libya\", \"showlegend\": true, \"type\": \"splom\"}, {\"dimensions\": [{\"axis\": {\"matches\": true}, \"label\": \"Generosity\", \"values\": [0.00199, 0.027360000000000002, 0.0522638224065304, 0.065, 0.08199999999999999]}, {\"axis\": {\"matches\": true}, \"label\": \"Economy\", \"values\": [1.13764, 1.2322799999999998, 1.28177809715271, 1.151, 1.183]}], \"hovertemplate\": \"Country=Russia<br>%{xaxis.title.text}=%{x}<br>%{yaxis.title.text}=%{y}<extra></extra>\", \"legendgroup\": \"Russia\", \"marker\": {\"color\": \"#ab63fa\", \"symbol\": \"circle\"}, \"name\": \"Russia\", \"showlegend\": true, \"type\": \"splom\"}, {\"dimensions\": [{\"axis\": {\"matches\": true}, \"label\": \"Generosity\", \"values\": [0.2123, 0.22245, 0.23381833732128102, 0.096, 0.107]}, {\"axis\": {\"matches\": true}, \"label\": \"Economy\", \"values\": [0.81038, 0.89333, 0.925579309463501, 0.8190000000000001, 0.831]}], \"hovertemplate\": \"Country=Jamaica<br>%{xaxis.title.text}=%{x}<br>%{yaxis.title.text}=%{y}<extra></extra>\", \"legendgroup\": \"Jamaica\", \"marker\": {\"color\": \"#FFA15A\", \"symbol\": \"circle\"}, \"name\": \"Jamaica\", \"showlegend\": true, \"type\": \"splom\"}, {\"dimensions\": [{\"axis\": {\"matches\": true}, \"label\": \"Generosity\", \"values\": [0.26169000000000003, 0.26322, 0.266845703125]}, {\"axis\": {\"matches\": true}, \"label\": \"Economy\", \"values\": [1.2080600000000001, 1.31141, 1.3469113111496]}], \"hovertemplate\": \"Country=North Cyprus<br>%{xaxis.title.text}=%{x}<br>%{yaxis.title.text}=%{y}<extra></extra>\", \"legendgroup\": \"North Cyprus\", \"marker\": {\"color\": \"#19d3f3\", \"symbol\": \"circle\"}, \"name\": \"North Cyprus\", \"showlegend\": true, \"type\": \"splom\"}, {\"dimensions\": [{\"axis\": {\"matches\": true}, \"label\": \"Generosity\", \"values\": [0.30638000000000004, 0.27906, 0.271254301071167, 0.20199999999999999, 0.19]}, {\"axis\": {\"matches\": true}, \"label\": \"Economy\", \"values\": [1.20813, 1.31857, 1.3559380769729599, 1.229, 1.263]}], \"hovertemplate\": \"Country=Cyprus<br>%{xaxis.title.text}=%{x}<br>%{yaxis.title.text}=%{y}<extra></extra>\", \"legendgroup\": \"Cyprus\", \"marker\": {\"color\": \"#FF6692\", \"symbol\": \"circle\"}, \"name\": \"Cyprus\", \"showlegend\": true, \"type\": \"splom\"}, {\"dimensions\": [{\"axis\": {\"matches\": true}, \"label\": \"Generosity\", \"values\": [0.07822, 0.07044, 0.0694366469979286, 0.055, 0.073]}, {\"axis\": {\"matches\": true}, \"label\": \"Economy\", \"values\": [0.93929, 1.05266, 1.09186446666718, 0.9790000000000001, 1.002]}], \"hovertemplate\": \"Country=Algeria<br>%{xaxis.title.text}=%{x}<br>%{yaxis.title.text}=%{y}<extra></extra>\", \"legendgroup\": \"Algeria\", \"marker\": {\"color\": \"#B6E880\", \"symbol\": \"circle\"}, \"name\": \"Algeria\", \"showlegend\": true, \"type\": \"splom\"}, {\"dimensions\": [{\"axis\": {\"matches\": true}, \"label\": \"Generosity\", \"values\": [0.2831, 0.27992, 0.319931447505951, 0.27399999999999997, 0.262]}, {\"axis\": {\"matches\": true}, \"label\": \"Economy\", \"values\": [0.80148, 0.90145, 0.951484382152557, 0.855, 0.882]}], \"hovertemplate\": \"Country=Kosovo<br>%{xaxis.title.text}=%{x}<br>%{yaxis.title.text}=%{y}<extra></extra>\", \"legendgroup\": \"Kosovo\", \"marker\": {\"color\": \"#FF97FF\", \"symbol\": \"circle\"}, \"name\": \"Kosovo\", \"showlegend\": true, \"type\": \"splom\"}, {\"dimensions\": [{\"axis\": {\"matches\": true}, \"label\": \"Generosity\", \"values\": [0.16979, 0.22566999999999998, 0.24992498755454998, 0.19899999999999998, 0.244]}, {\"axis\": {\"matches\": true}, \"label\": \"Economy\", \"values\": [0.95847, 1.08017, 1.1307767629623402, 1.016, 1.052]}], \"hovertemplate\": \"Country=Turkmenistan<br>%{xaxis.title.text}=%{x}<br>%{yaxis.title.text}=%{y}<extra></extra>\", \"legendgroup\": \"Turkmenistan\", \"marker\": {\"color\": \"#FECB52\", \"symbol\": \"circle\"}, \"name\": \"Turkmenistan\", \"showlegend\": true, \"type\": \"splom\"}, {\"dimensions\": [{\"axis\": {\"matches\": true}, \"label\": \"Generosity\", \"values\": [0.37744, 0.36951, 0.360933750867844, 0.245, 0.215]}, {\"axis\": {\"matches\": true}, \"label\": \"Economy\", \"values\": [1.0076100000000001, 1.14372, 1.1893955469131499, 1.09, 1.12]}], \"hovertemplate\": \"Country=Mauritius<br>%{xaxis.title.text}=%{x}<br>%{yaxis.title.text}=%{y}<extra></extra>\", \"legendgroup\": \"Mauritius\", \"marker\": {\"color\": \"#636efa\", \"symbol\": \"circle\"}, \"name\": \"Mauritius\", \"showlegend\": true, \"type\": \"splom\"}, {\"dimensions\": [{\"axis\": {\"matches\": true}, \"label\": \"Generosity\", \"values\": [0.39478, 0.40097, 0.24600000000000002, 0.258]}, {\"axis\": {\"matches\": true}, \"label\": \"Economy\", \"values\": [1.38604, 1.5107, 1.405, 1.4380000000000002]}], \"hovertemplate\": \"Country=Hong Kong<br>%{xaxis.title.text}=%{x}<br>%{yaxis.title.text}=%{y}<extra></extra>\", \"legendgroup\": \"Hong Kong\", \"marker\": {\"color\": \"#EF553B\", \"symbol\": \"circle\"}, \"name\": \"Hong Kong\", \"showlegend\": true, \"type\": \"splom\"}, {\"dimensions\": [{\"axis\": {\"matches\": true}, \"label\": \"Generosity\", \"values\": [0.0868, 0.08423, 0.0988908112049103, 0.086, 0.10300000000000001]}, {\"axis\": {\"matches\": true}, \"label\": \"Economy\", \"values\": [1.15174, 1.2796399999999999, 1.3208793401718102, 1.2, 1.237]}], \"hovertemplate\": \"Country=Estonia<br>%{xaxis.title.text}=%{x}<br>%{yaxis.title.text}=%{y}<extra></extra>\", \"legendgroup\": \"Estonia\", \"marker\": {\"color\": \"#00cc96\", \"symbol\": \"circle\"}, \"name\": \"Estonia\", \"showlegend\": true, \"type\": \"splom\"}, {\"dimensions\": [{\"axis\": {\"matches\": true}, \"label\": \"Generosity\", \"values\": [0.51535, 0.56521, 0.611704587936401, 0.484, 0.498]}, {\"axis\": {\"matches\": true}, \"label\": \"Economy\", \"values\": [0.8282700000000001, 0.95104, 0.995538592338562, 0.899, 0.9309999999999999]}], \"hovertemplate\": \"Country=Indonesia<br>%{xaxis.title.text}=%{x}<br>%{yaxis.title.text}=%{y}<extra></extra>\", \"legendgroup\": \"Indonesia\", \"marker\": {\"color\": \"#ab63fa\", \"symbol\": \"circle\"}, \"name\": \"Indonesia\", \"showlegend\": true, \"type\": \"splom\"}, {\"dimensions\": [{\"axis\": {\"matches\": true}, \"label\": \"Generosity\", \"values\": [0.1686, 0.25075, 0.23496805131435397, 0.177, 0.147]}, {\"axis\": {\"matches\": true}, \"label\": \"Economy\", \"values\": [0.63216, 0.74037, 0.7885475754737851, 0.715, 0.741]}], \"hovertemplate\": \"Country=Vietnam<br>%{xaxis.title.text}=%{x}<br>%{yaxis.title.text}=%{y}<extra></extra>\", \"legendgroup\": \"Vietnam\", \"marker\": {\"color\": \"#FFA15A\", \"symbol\": \"circle\"}, \"name\": \"Vietnam\", \"showlegend\": true, \"type\": \"splom\"}, {\"dimensions\": [{\"axis\": {\"matches\": true}, \"label\": \"Generosity\", \"values\": [0.12253, 0.04707, 0.0466930419206619, 0.106, 0.083]}, {\"axis\": {\"matches\": true}, \"label\": \"Economy\", \"values\": [1.06098, 1.1649200000000002, 1.1982743740081798, 1.148, 1.183]}], \"hovertemplate\": \"Country=Turkey<br>%{xaxis.title.text}=%{x}<br>%{yaxis.title.text}=%{y}<extra></extra>\", \"legendgroup\": \"Turkey\", \"marker\": {\"color\": \"#19d3f3\", \"symbol\": \"circle\"}, \"name\": \"Turkey\", \"showlegend\": true, \"type\": \"splom\"}, {\"dimensions\": [{\"axis\": {\"matches\": true}, \"label\": \"Generosity\", \"values\": [0.3003, 0.38432, 0.42858037352562, 0.281, 0.3]}, {\"axis\": {\"matches\": true}, \"label\": \"Economy\", \"values\": [0.47428000000000003, 0.5604399999999999, 0.5962200760841371, 0.53, 0.551]}], \"hovertemplate\": \"Country=Kyrgyzstan<br>%{xaxis.title.text}=%{x}<br>%{yaxis.title.text}=%{y}<extra></extra>\", \"legendgroup\": \"Kyrgyzstan\", \"marker\": {\"color\": \"#FF6692\", \"symbol\": \"circle\"}, \"name\": \"Kyrgyzstan\", \"showlegend\": true, \"type\": \"splom\"}, {\"dimensions\": [{\"axis\": {\"matches\": true}, \"label\": \"Generosity\", \"values\": [0.27233, 0.23219, 0.23094719648361198, 0.201, 0.215]}, {\"axis\": {\"matches\": true}, \"label\": \"Economy\", \"values\": [0.65435, 0.75216, 0.783756256103516, 0.6890000000000001, 0.696]}], \"hovertemplate\": \"Country=Nigeria<br>%{xaxis.title.text}=%{x}<br>%{yaxis.title.text}=%{y}<extra></extra>\", \"legendgroup\": \"Nigeria\", \"marker\": {\"color\": \"#B6E880\", \"symbol\": \"circle\"}, \"name\": \"Nigeria\", \"showlegend\": true, \"type\": \"splom\"}, {\"dimensions\": [{\"axis\": {\"matches\": true}, \"label\": \"Generosity\", \"values\": [0.47998, 0.48546000000000006, 0.474054545164108, 0.364, 0.37]}, {\"axis\": {\"matches\": true}, \"label\": \"Economy\", \"values\": [0.77042, 0.8527, 0.885416388511658, 0.7959999999999999, 0.813]}], \"hovertemplate\": \"Country=Bhutan<br>%{xaxis.title.text}=%{x}<br>%{yaxis.title.text}=%{y}<extra></extra>\", \"legendgroup\": \"Bhutan\", \"marker\": {\"color\": \"#FF97FF\", \"symbol\": \"circle\"}, \"name\": \"Bhutan\", \"showlegend\": true, \"type\": \"splom\"}, {\"dimensions\": [{\"axis\": {\"matches\": true}, \"label\": \"Generosity\", \"values\": [0.07799, 0.0564, 0.0452693402767181, 0.031, 0.035]}, {\"axis\": {\"matches\": true}, \"label\": \"Economy\", \"values\": [1.02389, 1.12373, 1.1536017656326298, 1.024, 1.043]}], \"hovertemplate\": \"Country=Azerbaijan<br>%{xaxis.title.text}=%{x}<br>%{yaxis.title.text}=%{y}<extra></extra>\", \"legendgroup\": \"Azerbaijan\", \"marker\": {\"color\": \"#FECB52\", \"symbol\": \"circle\"}, \"name\": \"Azerbaijan\", \"showlegend\": true, \"type\": \"splom\"}, {\"dimensions\": [{\"axis\": {\"matches\": true}, \"label\": \"Generosity\", \"values\": [0.33671, 0.31185, 0.31544601917266807, 0.21600000000000003, 0.22]}, {\"axis\": {\"matches\": true}, \"label\": \"Economy\", \"values\": [0.59543, 0.68816, 0.7268835306167599, 0.652, 0.677]}], \"hovertemplate\": \"Country=Pakistan<br>%{xaxis.title.text}=%{x}<br>%{yaxis.title.text}=%{y}<extra></extra>\", \"legendgroup\": \"Pakistan\", \"marker\": {\"color\": \"#636efa\", \"symbol\": \"circle\"}, \"name\": \"Pakistan\", \"showlegend\": true, \"type\": \"splom\"}, {\"dimensions\": [{\"axis\": {\"matches\": true}, \"label\": \"Generosity\", \"values\": [0.11052999999999999, 0.14262, 0.17217046022415197, 0.13, 0.11]}, {\"axis\": {\"matches\": true}, \"label\": \"Economy\", \"values\": [0.9019799999999999, 0.9967299999999999, 0.9910123944282528, 0.8220000000000001, 0.8370000000000001]}], \"hovertemplate\": \"Country=Jordan<br>%{xaxis.title.text}=%{x}<br>%{yaxis.title.text}=%{y}<extra></extra>\", \"legendgroup\": \"Jordan\", \"marker\": {\"color\": \"#EF553B\", \"symbol\": \"circle\"}, \"name\": \"Jordan\", \"showlegend\": true, \"type\": \"splom\"}, {\"dimensions\": [{\"axis\": {\"matches\": true}, \"label\": \"Generosity\", \"values\": [0.1614, 0.17190999999999998, 0.197911024093628, 0.111, 0.142]}, {\"axis\": {\"matches\": true}, \"label\": \"Economy\", \"values\": [0.9743799999999999, 1.07838, 1.12112903594971, 1.0170000000000001, 1.051]}], \"hovertemplate\": \"Country=Montenegro<br>%{xaxis.title.text}=%{x}<br>%{yaxis.title.text}=%{y}<extra></extra>\", \"legendgroup\": \"Montenegro\", \"marker\": {\"color\": \"#00cc96\", \"symbol\": \"circle\"}, \"name\": \"Montenegro\", \"showlegend\": true, \"type\": \"splom\"}, {\"dimensions\": [{\"axis\": {\"matches\": true}, \"label\": \"Generosity\", \"values\": [0.08185, 0.049589999999999995, 0.0288068410009146, 0.028999999999999998, 0.057999999999999996]}, {\"axis\": {\"matches\": true}, \"label\": \"Economy\", \"values\": [0.89012, 1.0278, 1.08116579055786, 0.9890000000000001, 1.0290000000000001]}], \"hovertemplate\": \"Country=China<br>%{xaxis.title.text}=%{x}<br>%{yaxis.title.text}=%{y}<extra></extra>\", \"legendgroup\": \"China\", \"marker\": {\"color\": \"#ab63fa\", \"symbol\": \"circle\"}, \"name\": \"China\", \"showlegend\": true, \"type\": \"splom\"}, {\"dimensions\": [{\"axis\": {\"matches\": true}, \"label\": \"Generosity\", \"values\": [0.19591, 0.17865999999999999, 0.249580144882202, 0.221, 0.247]}, {\"axis\": {\"matches\": true}, \"label\": \"Economy\", \"values\": [0.47038, 0.61202, 0.6364067792892459, 0.562, 0.578]}], \"hovertemplate\": \"Country=Zambia<br>%{xaxis.title.text}=%{x}<br>%{yaxis.title.text}=%{y}<extra></extra>\", \"legendgroup\": \"Zambia\", \"marker\": {\"color\": \"#FFA15A\", \"symbol\": \"circle\"}, \"name\": \"Zambia\", \"showlegend\": true, \"type\": \"splom\"}, {\"dimensions\": [{\"axis\": {\"matches\": true}, \"label\": \"Generosity\", \"values\": [0.13748, 0.12889, 0.133519917726517, 0.08800000000000001, 0.083]}, {\"axis\": {\"matches\": true}, \"label\": \"Economy\", \"values\": [1.04345, 1.1697, 1.21768391132355, 1.1159999999999999, 1.162]}], \"hovertemplate\": \"Country=Romania<br>%{xaxis.title.text}=%{x}<br>%{yaxis.title.text}=%{y}<extra></extra>\", \"legendgroup\": \"Romania\", \"marker\": {\"color\": \"#19d3f3\", \"symbol\": \"circle\"}, \"name\": \"Romania\", \"showlegend\": true, \"type\": \"splom\"}, {\"dimensions\": [{\"axis\": {\"matches\": true}, \"label\": \"Generosity\", \"values\": [0.19230999999999998, 0.20736999999999997, 0.22012588381767298, 0.134, 0.13699999999999998]}, {\"axis\": {\"matches\": true}, \"label\": \"Economy\", \"values\": [0.92053, 1.03437, 1.06931757926941, 0.975, 1.004]}], \"hovertemplate\": \"Country=Serbia<br>%{xaxis.title.text}=%{x}<br>%{yaxis.title.text}=%{y}<extra></extra>\", \"legendgroup\": \"Serbia\", \"marker\": {\"color\": \"#FF6692\", \"symbol\": \"circle\"}, \"name\": \"Serbia\", \"showlegend\": true, \"type\": \"splom\"}, {\"dimensions\": [{\"axis\": {\"matches\": true}, \"label\": \"Generosity\", \"values\": [0.13719, 0.11690999999999999, 0.0951027125120163, 0.055, 0.047]}, {\"axis\": {\"matches\": true}, \"label\": \"Economy\", \"values\": [1.15991, 1.27607, 1.3151752948761002, 1.188, 1.2209999999999999]}], \"hovertemplate\": \"Country=Portugal<br>%{xaxis.title.text}=%{x}<br>%{yaxis.title.text}=%{y}<extra></extra>\", \"legendgroup\": \"Portugal\", \"marker\": {\"color\": \"#B6E880\", \"symbol\": \"circle\"}, \"name\": \"Portugal\", \"showlegend\": true, \"type\": \"splom\"}, {\"dimensions\": [{\"axis\": {\"matches\": true}, \"label\": \"Generosity\", \"values\": [0.18225999999999998, 0.17445, 0.153074786067009, 0.092, 0.075]}, {\"axis\": {\"matches\": true}, \"label\": \"Economy\", \"values\": [1.11312, 1.2178799999999999, 1.26074862480164, 1.148, 1.187]}], \"hovertemplate\": \"Country=Latvia<br>%{xaxis.title.text}=%{x}<br>%{yaxis.title.text}=%{y}<extra></extra>\", \"legendgroup\": \"Latvia\", \"marker\": {\"color\": \"#FF97FF\", \"symbol\": \"circle\"}, \"name\": \"Latvia\", \"showlegend\": true, \"type\": \"splom\"}, {\"dimensions\": [{\"axis\": {\"matches\": true}, \"label\": \"Generosity\", \"values\": [0.24991, 0.21674000000000002, 0.193513423204422, 0.12, 0.11699999999999999]}, {\"axis\": {\"matches\": true}, \"label\": \"Economy\", \"values\": [0.70532, 0.81217, 0.85769921541214, 0.775, 0.807]}], \"hovertemplate\": \"Country=Philippines<br>%{xaxis.title.text}=%{x}<br>%{yaxis.title.text}=%{y}<extra></extra>\", \"legendgroup\": \"Philippines\", \"marker\": {\"color\": \"#FECB52\", \"symbol\": \"circle\"}, \"name\": \"Philippines\", \"showlegend\": true, \"type\": \"splom\"}, {\"dimensions\": [{\"axis\": {\"matches\": true}, \"label\": \"Generosity\", \"values\": [0.5031800000000001]}, {\"axis\": {\"matches\": true}, \"label\": \"Economy\", \"values\": [0.18847]}], \"hovertemplate\": \"Country=Somaliland region<br>%{xaxis.title.text}=%{x}<br>%{yaxis.title.text}=%{y}<extra></extra>\", \"legendgroup\": \"Somaliland region\", \"marker\": {\"color\": \"#636efa\", \"symbol\": \"circle\"}, \"name\": \"Somaliland region\", \"showlegend\": true, \"type\": \"splom\"}, {\"dimensions\": [{\"axis\": {\"matches\": true}, \"label\": \"Generosity\", \"values\": [0.07172, 0.040530000000000004, 0.0322099551558495, 0.026000000000000002, 0.036000000000000004]}, {\"axis\": {\"matches\": true}, \"label\": \"Economy\", \"values\": [0.7347899999999999, 0.8405799999999999, 0.8781145811080929, 0.779, 0.8009999999999999]}], \"hovertemplate\": \"Country=Morocco<br>%{xaxis.title.text}=%{x}<br>%{yaxis.title.text}=%{y}<extra></extra>\", \"legendgroup\": \"Morocco\", \"marker\": {\"color\": \"#EF553B\", \"symbol\": \"circle\"}, \"name\": \"Morocco\", \"showlegend\": true, \"type\": \"splom\"}, {\"dimensions\": [{\"axis\": {\"matches\": true}, \"label\": \"Generosity\", \"values\": [0.22359, 0.23506999999999997, 0.25376096367836, 0.17300000000000001]}, {\"axis\": {\"matches\": true}, \"label\": \"Economy\", \"values\": [0.91851, 1.0193, 1.06457793712616, 0.9590000000000001]}], \"hovertemplate\": \"Country=Macedonia<br>%{xaxis.title.text}=%{x}<br>%{yaxis.title.text}=%{y}<extra></extra>\", \"legendgroup\": \"Macedonia\", \"marker\": {\"color\": \"#00cc96\", \"symbol\": \"circle\"}, \"name\": \"Macedonia\", \"showlegend\": true, \"type\": \"splom\"}, {\"dimensions\": [{\"axis\": {\"matches\": true}, \"label\": \"Generosity\", \"values\": [0.22269, 0.322228103876114, 0.20600000000000002, 0.19699999999999998]}, {\"axis\": {\"matches\": true}, \"label\": \"Economy\", \"values\": [0.08308, 0.23430564999580397, 0.198, 0.204]}], \"hovertemplate\": \"Country=Mozambique<br>%{xaxis.title.text}=%{x}<br>%{yaxis.title.text}=%{y}<extra></extra>\", \"legendgroup\": \"Mozambique\", \"marker\": {\"color\": \"#ab63fa\", \"symbol\": \"circle\"}, \"name\": \"Mozambique\", \"showlegend\": true, \"type\": \"splom\"}, {\"dimensions\": [{\"axis\": {\"matches\": true}, \"label\": \"Generosity\", \"values\": [0.14272, 0.1684, 0.20131294429302202, 0.149, 0.17800000000000002]}, {\"axis\": {\"matches\": true}, \"label\": \"Economy\", \"values\": [0.8786700000000001, 0.9553, 0.996192753314972, 0.9159999999999999, 0.9470000000000001]}], \"hovertemplate\": \"Country=Albania<br>%{xaxis.title.text}=%{x}<br>%{yaxis.title.text}=%{y}<extra></extra>\", \"legendgroup\": \"Albania\", \"marker\": {\"color\": \"#FFA15A\", \"symbol\": \"circle\"}, \"name\": \"Albania\", \"showlegend\": true, \"type\": \"splom\"}, {\"dimensions\": [{\"axis\": {\"matches\": true}, \"label\": \"Generosity\", \"values\": [0.24808000000000002, 0.29889, 0.328867495059967, 0.21600000000000003, 0.263]}, {\"axis\": {\"matches\": true}, \"label\": \"Economy\", \"values\": [0.8322299999999999, 0.9338299999999999, 0.982409417629242, 0.915, 0.945]}], \"hovertemplate\": \"Country=Bosnia and Herzegovina<br>%{xaxis.title.text}=%{x}<br>%{yaxis.title.text}=%{y}<extra></extra>\", \"legendgroup\": \"Bosnia and Herzegovina\", \"marker\": {\"color\": \"#19d3f3\", \"symbol\": \"circle\"}, \"name\": \"Bosnia and Herzegovina\", \"showlegend\": true, \"type\": \"splom\"}, {\"dimensions\": [{\"axis\": {\"matches\": true}, \"label\": \"Generosity\", \"values\": [0.16388, 0.157497271895409, 0.11599999999999999, 0.107]}, {\"axis\": {\"matches\": true}, \"label\": \"Economy\", \"values\": [0.37545, 0.521021246910095, 0.47200000000000003, 0.489]}], \"hovertemplate\": \"Country=Lesotho<br>%{xaxis.title.text}=%{x}<br>%{yaxis.title.text}=%{y}<extra></extra>\", \"legendgroup\": \"Lesotho\", \"marker\": {\"color\": \"#FF6692\", \"symbol\": \"circle\"}, \"name\": \"Lesotho\", \"showlegend\": true, \"type\": \"splom\"}, {\"dimensions\": [{\"axis\": {\"matches\": true}, \"label\": \"Generosity\", \"values\": [0.21684, 0.21286, 0.186967849731445, 0.12, 0.113]}, {\"axis\": {\"matches\": true}, \"label\": \"Economy\", \"values\": [0.8953700000000001, 1.02787, 1.07937383651733, 0.982, 1.015]}], \"hovertemplate\": \"Country=Dominican Republic<br>%{xaxis.title.text}=%{x}<br>%{yaxis.title.text}=%{y}<extra></extra>\", \"legendgroup\": \"Dominican Republic\", \"marker\": {\"color\": \"#B6E880\", \"symbol\": \"circle\"}, \"name\": \"Dominican Republic\", \"showlegend\": true, \"type\": \"splom\"}, {\"dimensions\": [{\"axis\": {\"matches\": true}, \"label\": \"Generosity\", \"values\": [0.42191999999999996, 0.43078999999999995, 0.23, 0.266]}, {\"axis\": {\"matches\": true}, \"label\": \"Economy\", \"values\": [0.5906600000000001, 0.68042, 0.72, 0.764]}], \"hovertemplate\": \"Country=Laos<br>%{xaxis.title.text}=%{x}<br>%{yaxis.title.text}=%{y}<extra></extra>\", \"legendgroup\": \"Laos\", \"marker\": {\"color\": \"#FF97FF\", \"symbol\": \"circle\"}, \"name\": \"Laos\", \"showlegend\": true, \"type\": \"splom\"}, {\"dimensions\": [{\"axis\": {\"matches\": true}, \"label\": \"Generosity\", \"values\": [0.3323, 0.34539000000000003, 0.338464230298996, 0.253, 0.235]}, {\"axis\": {\"matches\": true}, \"label\": \"Economy\", \"values\": [0.82819, 0.9885299999999999, 1.0272358655929599, 0.914, 0.948]}], \"hovertemplate\": \"Country=Mongolia<br>%{xaxis.title.text}=%{x}<br>%{yaxis.title.text}=%{y}<extra></extra>\", \"legendgroup\": \"Mongolia\", \"marker\": {\"color\": \"#FECB52\", \"symbol\": \"circle\"}, \"name\": \"Mongolia\", \"showlegend\": true, \"type\": \"splom\"}, {\"dimensions\": [{\"axis\": {\"matches\": true}, \"label\": \"Generosity\", \"values\": [0.18259, 0.07400000000000001]}, {\"axis\": {\"matches\": true}, \"label\": \"Economy\", \"values\": [0.71206, 0.8109999999999999]}], \"hovertemplate\": \"Country=Swaziland<br>%{xaxis.title.text}=%{x}<br>%{yaxis.title.text}=%{y}<extra></extra>\", \"legendgroup\": \"Swaziland\", \"marker\": {\"color\": \"#636efa\", \"symbol\": \"circle\"}, \"name\": \"Swaziland\", \"showlegend\": true, \"type\": \"splom\"}, {\"dimensions\": [{\"axis\": {\"matches\": true}, \"label\": \"Generosity\", \"values\": [0.0, 0.0, 0.0, 0.0, 0.0]}, {\"axis\": {\"matches\": true}, \"label\": \"Economy\", \"values\": [1.15406, 1.24886, 1.28948748111725, 1.1540000000000001, 1.181]}], \"hovertemplate\": \"Country=Greece<br>%{xaxis.title.text}=%{x}<br>%{yaxis.title.text}=%{y}<extra></extra>\", \"legendgroup\": \"Greece\", \"marker\": {\"color\": \"#EF553B\", \"symbol\": \"circle\"}, \"name\": \"Greece\", \"showlegend\": true, \"type\": \"splom\"}, {\"dimensions\": [{\"axis\": {\"matches\": true}, \"label\": \"Generosity\", \"values\": [0.21854, 0.23693000000000003, 0.26445075869560203, 0.214, 0.166]}, {\"axis\": {\"matches\": true}, \"label\": \"Economy\", \"values\": [1.0256399999999999, 1.12268, 1.07498753070831, 0.965, 0.987]}], \"hovertemplate\": \"Country=Lebanon<br>%{xaxis.title.text}=%{x}<br>%{yaxis.title.text}=%{y}<extra></extra>\", \"legendgroup\": \"Lebanon\", \"marker\": {\"color\": \"#00cc96\", \"symbol\": \"circle\"}, \"name\": \"Lebanon\", \"showlegend\": true, \"type\": \"splom\"}, {\"dimensions\": [{\"axis\": {\"matches\": true}, \"label\": \"Generosity\", \"values\": [0.128, 0.099, 0.0784016624093056, 0.061, 0.081]}, {\"axis\": {\"matches\": true}, \"label\": \"Economy\", \"values\": [1.12094, 1.24142, 1.2860119342803997, 1.171, 1.2009999999999998]}], \"hovertemplate\": \"Country=Hungary<br>%{xaxis.title.text}=%{x}<br>%{yaxis.title.text}=%{y}<extra></extra>\", \"legendgroup\": \"Hungary\", \"marker\": {\"color\": \"#ab63fa\", \"symbol\": \"circle\"}, \"name\": \"Hungary\", \"showlegend\": true, \"type\": \"splom\"}, {\"dimensions\": [{\"axis\": {\"matches\": true}, \"label\": \"Generosity\", \"values\": [0.23026999999999997, 0.2044, 0.23618887364864302, 0.19699999999999998, 0.24600000000000002]}, {\"axis\": {\"matches\": true}, \"label\": \"Economy\", \"values\": [0.59532, 0.69429, 0.730573117733002, 0.62, 0.642]}], \"hovertemplate\": \"Country=Honduras<br>%{xaxis.title.text}=%{x}<br>%{yaxis.title.text}=%{y}<extra></extra>\", \"legendgroup\": \"Honduras\", \"marker\": {\"color\": \"#FFA15A\", \"symbol\": \"circle\"}, \"name\": \"Honduras\", \"showlegend\": true, \"type\": \"splom\"}, {\"dimensions\": [{\"axis\": {\"matches\": true}, \"label\": \"Generosity\", \"values\": [0.22974, 0.25998000000000004, 0.24899764358997303, 0.187, 0.23]}, {\"axis\": {\"matches\": true}, \"label\": \"Economy\", \"values\": [0.39047, 0.48835, 0.524713635444641, 0.474, 0.493]}], \"hovertemplate\": \"Country=Tajikistan<br>%{xaxis.title.text}=%{x}<br>%{yaxis.title.text}=%{y}<extra></extra>\", \"legendgroup\": \"Tajikistan\", \"marker\": {\"color\": \"#19d3f3\", \"symbol\": \"circle\"}, \"name\": \"Tajikistan\", \"showlegend\": true, \"type\": \"splom\"}, {\"dimensions\": [{\"axis\": {\"matches\": true}, \"label\": \"Generosity\", \"values\": [0.06431, 0.03936, 0.0496933571994305, 0.04, 0.059000000000000004]}, {\"axis\": {\"matches\": true}, \"label\": \"Economy\", \"values\": [0.88113, 0.97724, 1.00726580619812, 0.9, 0.9209999999999999]}], \"hovertemplate\": \"Country=Tunisia<br>%{xaxis.title.text}=%{x}<br>%{yaxis.title.text}=%{y}<extra></extra>\", \"legendgroup\": \"Tunisia\", \"marker\": {\"color\": \"#FF6692\", \"symbol\": \"circle\"}, \"name\": \"Tunisia\", \"showlegend\": true, \"type\": \"splom\"}, {\"dimensions\": [{\"axis\": {\"matches\": true}, \"label\": \"Generosity\", \"values\": [0.11250999999999999, 0.11154000000000001, 0.114173173904419, 0.086, 0.10300000000000001]}, {\"axis\": {\"matches\": true}, \"label\": \"Economy\", \"values\": [0.59867, 0.67024, 0.716249227523804, 0.642, 0.657]}], \"hovertemplate\": \"Country=Palestinian Territories<br>%{xaxis.title.text}=%{x}<br>%{yaxis.title.text}=%{y}<extra></extra>\", \"legendgroup\": \"Palestinian Territories\", \"marker\": {\"color\": \"#B6E880\", \"symbol\": \"circle\"}, \"name\": \"Palestinian Territories\", \"showlegend\": true, \"type\": \"splom\"}, {\"dimensions\": [{\"axis\": {\"matches\": true}, \"label\": \"Generosity\", \"values\": [0.21222, 0.19132000000000002, 0.17225535213947304, 0.153, 0.166]}, {\"axis\": {\"matches\": true}, \"label\": \"Economy\", \"values\": [0.39753, 0.54177, 0.586682975292206, 0.532, 0.562]}], \"hovertemplate\": \"Country=Bangladesh<br>%{xaxis.title.text}=%{x}<br>%{yaxis.title.text}=%{y}<extra></extra>\", \"legendgroup\": \"Bangladesh\", \"marker\": {\"color\": \"#FF97FF\", \"symbol\": \"circle\"}, \"name\": \"Bangladesh\", \"showlegend\": true, \"type\": \"splom\"}, {\"dimensions\": [{\"axis\": {\"matches\": true}, \"label\": \"Generosity\", \"values\": [0.38086, 0.38538, 0.387242913246155, 0.282, 0.27]}, {\"axis\": {\"matches\": true}, \"label\": \"Economy\", \"values\": [1.0088, 1.11758, 1.15687310695648, 1.0590000000000002, 1.1]}], \"hovertemplate\": \"Country=Iran<br>%{xaxis.title.text}=%{x}<br>%{yaxis.title.text}=%{y}<extra></extra>\", \"legendgroup\": \"Iran\", \"marker\": {\"color\": \"#FECB52\", \"symbol\": \"circle\"}, \"name\": \"Iran\", \"showlegend\": true, \"type\": \"splom\"}, {\"dimensions\": [{\"axis\": {\"matches\": true}, \"label\": \"Generosity\", \"values\": [0.15275, 0.20363, 0.270061463117599, 0.187, 0.187]}, {\"axis\": {\"matches\": true}, \"label\": \"Economy\", \"values\": [0.79907, 0.87287, 0.89465194940567, 0.7929999999999999, 0.82]}], \"hovertemplate\": \"Country=Ukraine<br>%{xaxis.title.text}=%{x}<br>%{yaxis.title.text}=%{y}<extra></extra>\", \"legendgroup\": \"Ukraine\", \"marker\": {\"color\": \"#636efa\", \"symbol\": \"circle\"}, \"name\": \"Ukraine\", \"showlegend\": true, \"type\": \"splom\"}, {\"dimensions\": [{\"axis\": {\"matches\": true}, \"label\": \"Generosity\", \"values\": [0.17922000000000002, 0.19589, 0.19963726401329, 0.14800000000000002, 0.14800000000000002]}, {\"axis\": {\"matches\": true}, \"label\": \"Economy\", \"values\": [0.98549, 1.07474, 1.1027104854583702, 1.01, 1.043]}], \"hovertemplate\": \"Country=Iraq<br>%{xaxis.title.text}=%{x}<br>%{yaxis.title.text}=%{y}<extra></extra>\", \"legendgroup\": \"Iraq\", \"marker\": {\"color\": \"#EF553B\", \"symbol\": \"circle\"}, \"name\": \"Iraq\", \"showlegend\": true, \"type\": \"splom\"}, {\"dimensions\": [{\"axis\": {\"matches\": true}, \"label\": \"Generosity\", \"values\": [0.11972999999999999, 0.13656, 0.13936237990856198, 0.10300000000000001, 0.13]}, {\"axis\": {\"matches\": true}, \"label\": \"Economy\", \"values\": [0.9204899999999999, 1.02416, 1.05469870567322, 0.94, 0.96]}], \"hovertemplate\": \"Country=South Africa<br>%{xaxis.title.text}=%{x}<br>%{yaxis.title.text}=%{y}<extra></extra>\", \"legendgroup\": \"South Africa\", \"marker\": {\"color\": \"#00cc96\", \"symbol\": \"circle\"}, \"name\": \"South Africa\", \"showlegend\": true, \"type\": \"splom\"}, {\"dimensions\": [{\"axis\": {\"matches\": true}, \"label\": \"Generosity\", \"values\": [0.23087, 0.21203000000000002, 0.25692394375801103, 0.212, 0.245]}, {\"axis\": {\"matches\": true}, \"label\": \"Economy\", \"values\": [0.5455800000000001, 0.63107, 0.667224824428558, 0.5920000000000001, 0.611]}], \"hovertemplate\": \"Country=Ghana<br>%{xaxis.title.text}=%{x}<br>%{yaxis.title.text}=%{y}<extra></extra>\", \"legendgroup\": \"Ghana\", \"marker\": {\"color\": \"#ab63fa\", \"symbol\": \"circle\"}, \"name\": \"Ghana\", \"showlegend\": true, \"type\": \"splom\"}, {\"dimensions\": [{\"axis\": {\"matches\": true}, \"label\": \"Generosity\", \"values\": [0.18987, 0.18503, 0.189143493771553, 0.132, 0.151]}, {\"axis\": {\"matches\": true}, \"label\": \"Economy\", \"values\": [0.271, 0.35041, 0.37584653496742204, 0.35700000000000004, 0.366]}], \"hovertemplate\": \"Country=Zimbabwe<br>%{xaxis.title.text}=%{x}<br>%{yaxis.title.text}=%{y}<extra></extra>\", \"legendgroup\": \"Zimbabwe\", \"marker\": {\"color\": \"#FFA15A\", \"symbol\": \"circle\"}, \"name\": \"Zimbabwe\", \"showlegend\": true, \"type\": \"splom\"}, {\"dimensions\": [{\"axis\": {\"matches\": true}, \"label\": \"Generosity\", \"values\": [0.24361999999999998, 0.24063, 0.26654988527298, 0.20600000000000002, 0.233]}, {\"axis\": {\"matches\": true}, \"label\": \"Economy\", \"values\": [0.0712, 0.10705999999999999, 0.11904179304838199, 0.076, 0.073]}], \"hovertemplate\": \"Country=Liberia<br>%{xaxis.title.text}=%{x}<br>%{yaxis.title.text}=%{y}<extra></extra>\", \"legendgroup\": \"Liberia\", \"marker\": {\"color\": \"#19d3f3\", \"symbol\": \"circle\"}, \"name\": \"Liberia\", \"showlegend\": true, \"type\": \"splom\"}, {\"dimensions\": [{\"axis\": {\"matches\": true}, \"label\": \"Generosity\", \"values\": [0.26475, 0.25028, 0.23153848946094502, 0.172, 0.2]}, {\"axis\": {\"matches\": true}, \"label\": \"Economy\", \"values\": [0.64499, 0.74036, 0.7922212481498722, 0.721, 0.755]}], \"hovertemplate\": \"Country=India<br>%{xaxis.title.text}=%{x}<br>%{yaxis.title.text}=%{y}<extra></extra>\", \"legendgroup\": \"India\", \"marker\": {\"color\": \"#FF6692\", \"symbol\": \"circle\"}, \"name\": \"India\", \"showlegend\": true, \"type\": \"splom\"}, {\"dimensions\": [{\"axis\": {\"matches\": true}, \"label\": \"Generosity\", \"values\": [0.19062, 0.18077000000000001, 0.182317450642586, 0.134]}, {\"axis\": {\"matches\": true}, \"label\": \"Economy\", \"values\": [0.52107, 0.63069, 0.6595166921615601, 0.605]}], \"hovertemplate\": \"Country=Sudan<br>%{xaxis.title.text}=%{x}<br>%{yaxis.title.text}=%{y}<extra></extra>\", \"legendgroup\": \"Sudan\", \"marker\": {\"color\": \"#B6E880\", \"symbol\": \"circle\"}, \"name\": \"Sudan\", \"showlegend\": true, \"type\": \"splom\"}, {\"dimensions\": [{\"axis\": {\"matches\": true}, \"label\": \"Generosity\", \"values\": [0.46187, 0.47958, 0.48920378088951094, 0.392, 0.419]}, {\"axis\": {\"matches\": true}, \"label\": \"Economy\", \"values\": [0.26673, 0.34097, 0.368610262870789, 0.315, 0.32299999999999995]}], \"hovertemplate\": \"Country=Haiti<br>%{xaxis.title.text}=%{x}<br>%{yaxis.title.text}=%{y}<extra></extra>\", \"legendgroup\": \"Haiti\", \"marker\": {\"color\": \"#FF97FF\", \"symbol\": \"circle\"}, \"name\": \"Haiti\", \"showlegend\": true, \"type\": \"splom\"}, {\"dimensions\": [{\"axis\": {\"matches\": true}, \"label\": \"Generosity\", \"values\": [0.24834, 0.25458000000000003, 0.246455833315849, 0.19699999999999998, 0.212]}, {\"axis\": {\"matches\": true}, \"label\": \"Economy\", \"values\": [0.0, 0.05661, 0.0921023488044739, 0.069, 0.094]}], \"hovertemplate\": \"Country=Congo (Kinshasa)<br>%{xaxis.title.text}=%{x}<br>%{yaxis.title.text}=%{y}<extra></extra>\", \"legendgroup\": \"Congo (Kinshasa)\", \"marker\": {\"color\": \"#FECB52\", \"symbol\": \"circle\"}, \"name\": \"Congo (Kinshasa)\", \"showlegend\": true, \"type\": \"splom\"}, {\"dimensions\": [{\"axis\": {\"matches\": true}, \"label\": \"Generosity\", \"values\": [0.32295999999999997, 0.3816, 0.39409616589546204, 0.302, 0.285]}, {\"axis\": {\"matches\": true}, \"label\": \"Economy\", \"values\": [0.35996999999999996, 0.44626000000000005, 0.479820191860199, 0.425, 0.446]}], \"hovertemplate\": \"Country=Nepal<br>%{xaxis.title.text}=%{x}<br>%{yaxis.title.text}=%{y}<extra></extra>\", \"legendgroup\": \"Nepal\", \"marker\": {\"color\": \"#636efa\", \"symbol\": \"circle\"}, \"name\": \"Nepal\", \"showlegend\": true, \"type\": \"splom\"}, {\"dimensions\": [{\"axis\": {\"matches\": true}, \"label\": \"Generosity\", \"values\": [0.24325, 0.29522, 0.31265074014663696, 0.22, 0.209]}, {\"axis\": {\"matches\": true}, \"label\": \"Economy\", \"values\": [0.19072999999999998, 0.29283000000000003, 0.339233845472336, 0.308, 0.336]}], \"hovertemplate\": \"Country=Ethiopia<br>%{xaxis.title.text}=%{x}<br>%{yaxis.title.text}=%{y}<extra></extra>\", \"legendgroup\": \"Ethiopia\", \"marker\": {\"color\": \"#EF553B\", \"symbol\": \"circle\"}, \"name\": \"Ethiopia\", \"showlegend\": true, \"type\": \"splom\"}, {\"dimensions\": [{\"axis\": {\"matches\": true}, \"label\": \"Generosity\", \"values\": [0.21488000000000002, 0.23897, 0.293040901422501, 0.23800000000000002, 0.252]}, {\"axis\": {\"matches\": true}, \"label\": \"Economy\", \"values\": [0.33024000000000003, 0.36485, 0.36842092871666, 0.256, 0.268]}], \"hovertemplate\": \"Country=Sierra Leone<br>%{xaxis.title.text}=%{x}<br>%{yaxis.title.text}=%{y}<extra></extra>\", \"legendgroup\": \"Sierra Leone\", \"marker\": {\"color\": \"#00cc96\", \"symbol\": \"circle\"}, \"name\": \"Sierra Leone\", \"showlegend\": true, \"type\": \"splom\"}, {\"dimensions\": [{\"axis\": {\"matches\": true}, \"label\": \"Generosity\", \"values\": [0.21899999999999997, 0.22685999999999998, 0.201870024204254, 0.134, 0.106]}, {\"axis\": {\"matches\": true}, \"label\": \"Economy\", \"values\": [0.45407, 0.6139100000000001, 0.6484572887420649, 0.557, 0.57]}], \"hovertemplate\": \"Country=Mauritania<br>%{xaxis.title.text}=%{x}<br>%{yaxis.title.text}=%{y}<extra></extra>\", \"legendgroup\": \"Mauritania\", \"marker\": {\"color\": \"#ab63fa\", \"symbol\": \"circle\"}, \"name\": \"Mauritania\", \"showlegend\": true, \"type\": \"splom\"}, {\"dimensions\": [{\"axis\": {\"matches\": true}, \"label\": \"Generosity\", \"values\": [0.37542, 0.41328000000000004, 0.444860309362411, 0.35200000000000004, 0.37200000000000005]}, {\"axis\": {\"matches\": true}, \"label\": \"Economy\", \"values\": [0.36471, 0.52267, 0.560479462146759, 0.493, 0.512]}], \"hovertemplate\": \"Country=Kenya<br>%{xaxis.title.text}=%{x}<br>%{yaxis.title.text}=%{y}<extra></extra>\", \"legendgroup\": \"Kenya\", \"marker\": {\"color\": \"#FFA15A\", \"symbol\": \"circle\"}, \"name\": \"Kenya\", \"showlegend\": true, \"type\": \"splom\"}, {\"dimensions\": [{\"axis\": {\"matches\": true}, \"label\": \"Generosity\", \"values\": [0.18093]}, {\"axis\": {\"matches\": true}, \"label\": \"Economy\", \"values\": [0.44025]}], \"hovertemplate\": \"Country=Djibouti<br>%{xaxis.title.text}=%{x}<br>%{yaxis.title.text}=%{y}<extra></extra>\", \"legendgroup\": \"Djibouti\", \"marker\": {\"color\": \"#19d3f3\", \"symbol\": \"circle\"}, \"name\": \"Djibouti\", \"showlegend\": true, \"type\": \"splom\"}, {\"dimensions\": [{\"axis\": {\"matches\": true}, \"label\": \"Generosity\", \"values\": [0.07855, 0.07793, 0.0834880918264389, 0.077, 0.095]}, {\"axis\": {\"matches\": true}, \"label\": \"Economy\", \"values\": [0.7682100000000001, 0.8608600000000001, 0.900596737861633, 0.816, 0.85]}], \"hovertemplate\": \"Country=Armenia<br>%{xaxis.title.text}=%{x}<br>%{yaxis.title.text}=%{y}<extra></extra>\", \"legendgroup\": \"Armenia\", \"marker\": {\"color\": \"#FF6692\", \"symbol\": \"circle\"}, \"name\": \"Armenia\", \"showlegend\": true, \"type\": \"splom\"}, {\"dimensions\": [{\"axis\": {\"matches\": true}, \"label\": \"Generosity\", \"values\": [0.10461, 0.12425, 0.0993484482169151, 0.042, 0.025]}, {\"axis\": {\"matches\": true}, \"label\": \"Economy\", \"values\": [0.99355, 1.09426, 1.12209415435791, 1.0170000000000001, 1.041]}], \"hovertemplate\": \"Country=Botswana<br>%{xaxis.title.text}=%{x}<br>%{yaxis.title.text}=%{y}<extra></extra>\", \"legendgroup\": \"Botswana\", \"marker\": {\"color\": \"#B6E880\", \"symbol\": \"circle\"}, \"name\": \"Botswana\", \"showlegend\": true, \"type\": \"splom\"}, {\"dimensions\": [{\"axis\": {\"matches\": true}, \"label\": \"Generosity\", \"values\": [0.79588, 0.81971, 0.8380751609802249, 0.598, 0.5660000000000001]}, {\"axis\": {\"matches\": true}, \"label\": \"Economy\", \"values\": [0.27108000000000004, 0.34112, 0.36711055040359497, 0.682, 0.71]}], \"hovertemplate\": \"Country=Myanmar<br>%{xaxis.title.text}=%{x}<br>%{yaxis.title.text}=%{y}<extra></extra>\", \"legendgroup\": \"Myanmar\", \"marker\": {\"color\": \"#FF97FF\", \"symbol\": \"circle\"}, \"name\": \"Myanmar\", \"showlegend\": true, \"type\": \"splom\"}, {\"dimensions\": [{\"axis\": {\"matches\": true}, \"label\": \"Generosity\", \"values\": [0.055470000000000005, 0.06786, 0.0540088154375553, 0.038, 0.043]}, {\"axis\": {\"matches\": true}, \"label\": \"Economy\", \"values\": [0.7419, 0.8379200000000001, 0.950612664222717, 0.853, 0.8859999999999999]}], \"hovertemplate\": \"Country=Georgia<br>%{xaxis.title.text}=%{x}<br>%{yaxis.title.text}=%{y}<extra></extra>\", \"legendgroup\": \"Georgia\", \"marker\": {\"color\": \"#FECB52\", \"symbol\": \"circle\"}, \"name\": \"Georgia\", \"showlegend\": true, \"type\": \"splom\"}, {\"dimensions\": [{\"axis\": {\"matches\": true}, \"label\": \"Generosity\", \"values\": [0.33128, 0.30968, 0.28717046976089505, 0.21, 0.218]}, {\"axis\": {\"matches\": true}, \"label\": \"Economy\", \"values\": [0.016040000000000002, 0.08709, 0.233442038297653, 0.18600000000000003, 0.191]}], \"hovertemplate\": \"Country=Malawi<br>%{xaxis.title.text}=%{x}<br>%{yaxis.title.text}=%{y}<extra></extra>\", \"legendgroup\": \"Malawi\", \"marker\": {\"color\": \"#636efa\", \"symbol\": \"circle\"}, \"name\": \"Malawi\", \"showlegend\": true, \"type\": \"splom\"}, {\"dimensions\": [{\"axis\": {\"matches\": true}, \"label\": \"Generosity\", \"values\": [0.40828000000000003, 0.46978000000000003, 0.49086356163024897, 0.307, 0.244]}, {\"axis\": {\"matches\": true}, \"label\": \"Economy\", \"values\": [0.83524, 0.9731799999999999, 1.00985014438629, 0.9179999999999999, 0.9490000000000001]}], \"hovertemplate\": \"Country=Sri Lanka<br>%{xaxis.title.text}=%{x}<br>%{yaxis.title.text}=%{y}<extra></extra>\", \"legendgroup\": \"Sri Lanka\", \"marker\": {\"color\": \"#EF553B\", \"symbol\": \"circle\"}, \"name\": \"Sri Lanka\", \"showlegend\": true, \"type\": \"splom\"}, {\"dimensions\": [{\"axis\": {\"matches\": true}, \"label\": \"Generosity\", \"values\": [0.20618000000000003, 0.2268, 0.23629845678806302, 0.183, 0.187]}, {\"axis\": {\"matches\": true}, \"label\": \"Economy\", \"values\": [0.4225, 0.5249699999999999, 0.564305365085602, 0.535, 0.5489999999999999]}], \"hovertemplate\": \"Country=Cameroon<br>%{xaxis.title.text}=%{x}<br>%{yaxis.title.text}=%{y}<extra></extra>\", \"legendgroup\": \"Cameroon\", \"marker\": {\"color\": \"#00cc96\", \"symbol\": \"circle\"}, \"name\": \"Cameroon\", \"showlegend\": true, \"type\": \"splom\"}, {\"dimensions\": [{\"axis\": {\"matches\": true}, \"label\": \"Generosity\", \"values\": [0.11921, 0.12793, 0.113177694380283, 0.064, 0.081]}, {\"axis\": {\"matches\": true}, \"label\": \"Economy\", \"values\": [1.01216, 1.11306, 1.1614590883255, 1.054, 1.092]}], \"hovertemplate\": \"Country=Bulgaria<br>%{xaxis.title.text}=%{x}<br>%{yaxis.title.text}=%{y}<extra></extra>\", \"legendgroup\": \"Bulgaria\", \"marker\": {\"color\": \"#ab63fa\", \"symbol\": \"circle\"}, \"name\": \"Bulgaria\", \"showlegend\": true, \"type\": \"splom\"}, {\"dimensions\": [{\"axis\": {\"matches\": true}, \"label\": \"Generosity\", \"values\": [0.11291, 0.12705999999999998, 0.128631442785263, 0.092, 0.076]}, {\"axis\": {\"matches\": true}, \"label\": \"Economy\", \"values\": [0.8818, 0.95395, 0.989701807498932, 0.885, 0.9129999999999999]}], \"hovertemplate\": \"Country=Egypt<br>%{xaxis.title.text}=%{x}<br>%{yaxis.title.text}=%{y}<extra></extra>\", \"legendgroup\": \"Egypt\", \"marker\": {\"color\": \"#FFA15A\", \"symbol\": \"circle\"}, \"name\": \"Egypt\", \"showlegend\": true, \"type\": \"splom\"}, {\"dimensions\": [{\"axis\": {\"matches\": true}, \"label\": \"Generosity\", \"values\": [0.09131, 0.09821, 0.104125209152699, 0.083, 0.10800000000000001]}, {\"axis\": {\"matches\": true}, \"label\": \"Economy\", \"values\": [0.5464899999999999, 0.57939, 0.5916834473609921, 0.442, 0.287]}], \"hovertemplate\": \"Country=Yemen<br>%{xaxis.title.text}=%{x}<br>%{yaxis.title.text}=%{y}<extra></extra>\", \"legendgroup\": \"Yemen\", \"marker\": {\"color\": \"#19d3f3\", \"symbol\": \"circle\"}, \"name\": \"Yemen\", \"showlegend\": true, \"type\": \"splom\"}, {\"dimensions\": [{\"axis\": {\"matches\": true}, \"label\": \"Generosity\", \"values\": [0.12344000000000001, 0.12070999999999998, 0.09792649000883098, 0.079]}, {\"axis\": {\"matches\": true}, \"label\": \"Economy\", \"values\": [0.75778, 0.84731, 0.8584281802177429, 0.73]}], \"hovertemplate\": \"Country=Angola<br>%{xaxis.title.text}=%{x}<br>%{yaxis.title.text}=%{y}<extra></extra>\", \"legendgroup\": \"Angola\", \"marker\": {\"color\": \"#FF6692\", \"symbol\": \"circle\"}, \"name\": \"Angola\", \"showlegend\": true, \"type\": \"splom\"}, {\"dimensions\": [{\"axis\": {\"matches\": true}, \"label\": \"Generosity\", \"values\": [0.18798, 0.21064000000000002, 0.183354198932648, 0.139, 0.153]}, {\"axis\": {\"matches\": true}, \"label\": \"Economy\", \"values\": [0.26074, 0.31292, 0.476180493831635, 0.37, 0.385]}], \"hovertemplate\": \"Country=Mali<br>%{xaxis.title.text}=%{x}<br>%{yaxis.title.text}=%{y}<extra></extra>\", \"legendgroup\": \"Mali\", \"marker\": {\"color\": \"#B6E880\", \"symbol\": \"circle\"}, \"name\": \"Mali\", \"showlegend\": true, \"type\": \"splom\"}, {\"dimensions\": [{\"axis\": {\"matches\": true}, \"label\": \"Generosity\", \"values\": [0.12387999999999999, 0.12077, 0.12085212767124198, 0.091, 0.105]}, {\"axis\": {\"matches\": true}, \"label\": \"Economy\", \"values\": [0.67866, 0.7710899999999999, 0.8089642524719242, 0.682, 0.6729999999999999]}], \"hovertemplate\": \"Country=Congo (Brazzaville)<br>%{xaxis.title.text}=%{x}<br>%{yaxis.title.text}=%{y}<extra></extra>\", \"legendgroup\": \"Congo (Brazzaville)\", \"marker\": {\"color\": \"#FF97FF\", \"symbol\": \"circle\"}, \"name\": \"Congo (Brazzaville)\", \"showlegend\": true, \"type\": \"splom\"}, {\"dimensions\": [{\"axis\": {\"matches\": true}, \"label\": \"Generosity\", \"values\": [0.17440999999999998, 0.1827, 0.275]}, {\"axis\": {\"matches\": true}, \"label\": \"Economy\", \"values\": [0.23906, 0.27509, 0.27399999999999997]}], \"hovertemplate\": \"Country=Comoros<br>%{xaxis.title.text}=%{x}<br>%{yaxis.title.text}=%{y}<extra></extra>\", \"legendgroup\": \"Comoros\", \"marker\": {\"color\": \"#FECB52\", \"symbol\": \"circle\"}, \"name\": \"Comoros\", \"showlegend\": true, \"type\": \"splom\"}, {\"dimensions\": [{\"axis\": {\"matches\": true}, \"label\": \"Generosity\", \"values\": [0.29066, 0.27102, 0.32576605677604703, 0.259, 0.252]}, {\"axis\": {\"matches\": true}, \"label\": \"Economy\", \"values\": [0.21101999999999999, 0.34719, 0.381430715322495, 0.322, 0.332]}], \"hovertemplate\": \"Country=Uganda<br>%{xaxis.title.text}=%{x}<br>%{yaxis.title.text}=%{y}<extra></extra>\", \"legendgroup\": \"Uganda\", \"marker\": {\"color\": \"#636efa\", \"symbol\": \"circle\"}, \"name\": \"Uganda\", \"showlegend\": true, \"type\": \"splom\"}, {\"dimensions\": [{\"axis\": {\"matches\": true}, \"label\": \"Generosity\", \"values\": [0.20843000000000003, 0.19103, 0.183468893170357, 0.138, 0.153]}, {\"axis\": {\"matches\": true}, \"label\": \"Economy\", \"values\": [0.36498, 0.44314, 0.479309022426605, 0.429, 0.45]}], \"hovertemplate\": \"Country=Senegal<br>%{xaxis.title.text}=%{x}<br>%{yaxis.title.text}=%{y}<extra></extra>\", \"legendgroup\": \"Senegal\", \"marker\": {\"color\": \"#EF553B\", \"symbol\": \"circle\"}, \"name\": \"Senegal\", \"showlegend\": true, \"type\": \"splom\"}, {\"dimensions\": [{\"axis\": {\"matches\": true}, \"label\": \"Generosity\", \"values\": [0.06822, 0.062439999999999996, 0.0437853783369064, 0.032, 0.043]}, {\"axis\": {\"matches\": true}, \"label\": \"Economy\", \"values\": [1.06024, 1.15851, 1.1982102394104, 1.036, 1.057]}], \"hovertemplate\": \"Country=Gabon<br>%{xaxis.title.text}=%{x}<br>%{yaxis.title.text}=%{y}<extra></extra>\", \"legendgroup\": \"Gabon\", \"marker\": {\"color\": \"#00cc96\", \"symbol\": \"circle\"}, \"name\": \"Gabon\", \"showlegend\": true, \"type\": \"splom\"}, {\"dimensions\": [{\"axis\": {\"matches\": true}, \"label\": \"Generosity\", \"values\": [0.19387000000000001, 0.2097, 0.22867384552955602, 0.175, 0.188]}, {\"axis\": {\"matches\": true}, \"label\": \"Economy\", \"values\": [0.0694, 0.1327, 0.16192533075809498, 0.131, 0.138]}], \"hovertemplate\": \"Country=Niger<br>%{xaxis.title.text}=%{x}<br>%{yaxis.title.text}=%{y}<extra></extra>\", \"legendgroup\": \"Niger\", \"marker\": {\"color\": \"#ab63fa\", \"symbol\": \"circle\"}, \"name\": \"Niger\", \"showlegend\": true, \"type\": \"splom\"}, {\"dimensions\": [{\"axis\": {\"matches\": true}, \"label\": \"Generosity\", \"values\": [0.40359, 0.40339, 0.385922968387604, 0.256, 0.23199999999999998]}, {\"axis\": {\"matches\": true}, \"label\": \"Economy\", \"values\": [0.46038, 0.55604, 0.6017650961875921, 0.5489999999999999, 0.574]}], \"hovertemplate\": \"Country=Cambodia<br>%{xaxis.title.text}=%{x}<br>%{yaxis.title.text}=%{y}<extra></extra>\", \"legendgroup\": \"Cambodia\", \"marker\": {\"color\": \"#FFA15A\", \"symbol\": \"circle\"}, \"name\": \"Cambodia\", \"showlegend\": true, \"type\": \"splom\"}, {\"dimensions\": [{\"axis\": {\"matches\": true}, \"label\": \"Generosity\", \"values\": [0.34376999999999996, 0.31472, 0.354256361722946, 0.27, 0.276]}, {\"axis\": {\"matches\": true}, \"label\": \"Economy\", \"values\": [0.2852, 0.47155, 0.511135876178741, 0.455, 0.47600000000000003]}], \"hovertemplate\": \"Country=Tanzania<br>%{xaxis.title.text}=%{x}<br>%{yaxis.title.text}=%{y}<extra></extra>\", \"legendgroup\": \"Tanzania\", \"marker\": {\"color\": \"#19d3f3\", \"symbol\": \"circle\"}, \"name\": \"Tanzania\", \"showlegend\": true, \"type\": \"splom\"}, {\"dimensions\": [{\"axis\": {\"matches\": true}, \"label\": \"Generosity\", \"values\": [0.21333000000000002, 0.2204, 0.208732530474663, 0.155, 0.16899999999999998]}, {\"axis\": {\"matches\": true}, \"label\": \"Economy\", \"values\": [0.20824, 0.27954, 0.305808693170547, 0.262, 0.27399999999999997]}], \"hovertemplate\": \"Country=Madagascar<br>%{xaxis.title.text}=%{x}<br>%{yaxis.title.text}=%{y}<extra></extra>\", \"legendgroup\": \"Madagascar\", \"marker\": {\"color\": \"#FF6692\", \"symbol\": \"circle\"}, \"name\": \"Madagascar\", \"showlegend\": true, \"type\": \"splom\"}, {\"dimensions\": [{\"axis\": {\"matches\": true}, \"label\": \"Generosity\", \"values\": [0.23835, 0.280876487493515, 0.218, 0.235]}, {\"axis\": {\"matches\": true}, \"label\": \"Economy\", \"values\": [0.0785, 0.0, 0.024, 0.026000000000000002]}], \"hovertemplate\": \"Country=Central African Republic<br>%{xaxis.title.text}=%{x}<br>%{yaxis.title.text}=%{y}<extra></extra>\", \"legendgroup\": \"Central African Republic\", \"marker\": {\"color\": \"#B6E880\", \"symbol\": \"circle\"}, \"name\": \"Central African Republic\", \"showlegend\": true, \"type\": \"splom\"}, {\"dimensions\": [{\"axis\": {\"matches\": true}, \"label\": \"Generosity\", \"values\": [0.18386, 0.18667, 0.21611385047435802, 0.18100000000000002, 0.198]}, {\"axis\": {\"matches\": true}, \"label\": \"Economy\", \"values\": [0.34193, 0.42213999999999996, 0.43801298737525896, 0.358, 0.35]}], \"hovertemplate\": \"Country=Chad<br>%{xaxis.title.text}=%{x}<br>%{yaxis.title.text}=%{y}<extra></extra>\", \"legendgroup\": \"Chad\", \"marker\": {\"color\": \"#FF97FF\", \"symbol\": \"circle\"}, \"name\": \"Chad\", \"showlegend\": true, \"type\": \"splom\"}, {\"dimensions\": [{\"axis\": {\"matches\": true}, \"label\": \"Generosity\", \"values\": [0.28657, 0.29914, 0.264815092086792, 0.185, 0.207]}, {\"axis\": {\"matches\": true}, \"label\": \"Economy\", \"values\": [0.17417, 0.22415, 0.24454993009567302, 0.344, 0.38]}], \"hovertemplate\": \"Country=Guinea<br>%{xaxis.title.text}=%{x}<br>%{yaxis.title.text}=%{y}<extra></extra>\", \"legendgroup\": \"Guinea\", \"marker\": {\"color\": \"#FECB52\", \"symbol\": \"circle\"}, \"name\": \"Guinea\", \"showlegend\": true, \"type\": \"splom\"}, {\"dimensions\": [{\"axis\": {\"matches\": true}, \"label\": \"Generosity\", \"values\": [0.20165, 0.20338, 0.201237469911575, 0.146, 0.154]}, {\"axis\": {\"matches\": true}, \"label\": \"Economy\", \"values\": [0.46534, 0.55507, 0.6030489206314089, 0.541, 0.569]}], \"hovertemplate\": \"Country=Ivory Coast<br>%{xaxis.title.text}=%{x}<br>%{yaxis.title.text}=%{y}<extra></extra>\", \"legendgroup\": \"Ivory Coast\", \"marker\": {\"color\": \"#636efa\", \"symbol\": \"circle\"}, \"name\": \"Ivory Coast\", \"showlegend\": true, \"type\": \"splom\"}, {\"dimensions\": [{\"axis\": {\"matches\": true}, \"label\": \"Generosity\", \"values\": [0.21746999999999997, 0.24353000000000002, 0.250864684581757, 0.175, 0.177]}, {\"axis\": {\"matches\": true}, \"label\": \"Economy\", \"values\": [0.25811999999999996, 0.31995, 0.35022771358490007, 0.314, 0.331]}], \"hovertemplate\": \"Country=Burkina Faso<br>%{xaxis.title.text}=%{x}<br>%{yaxis.title.text}=%{y}<extra></extra>\", \"legendgroup\": \"Burkina Faso\", \"marker\": {\"color\": \"#EF553B\", \"symbol\": \"circle\"}, \"name\": \"Burkina Faso\", \"showlegend\": true, \"type\": \"splom\"}, {\"dimensions\": [{\"axis\": {\"matches\": true}, \"label\": \"Generosity\", \"values\": [0.3651, 0.31268, 0.311870932579041, 0.191, 0.158]}, {\"axis\": {\"matches\": true}, \"label\": \"Economy\", \"values\": [0.31982, 0.38227, 0.401477217674255, 0.332, 0.35]}], \"hovertemplate\": \"Country=Afghanistan<br>%{xaxis.title.text}=%{x}<br>%{yaxis.title.text}=%{y}<extra></extra>\", \"legendgroup\": \"Afghanistan\", \"marker\": {\"color\": \"#00cc96\", \"symbol\": \"circle\"}, \"name\": \"Afghanistan\", \"showlegend\": true, \"type\": \"splom\"}, {\"dimensions\": [{\"axis\": {\"matches\": true}, \"label\": \"Generosity\", \"values\": [0.22628, 0.23551999999999998, 0.25275602936744695, 0.2, 0.217]}, {\"axis\": {\"matches\": true}, \"label\": \"Economy\", \"values\": [0.22208000000000003, 0.32846, 0.368745893239975, 0.332, 0.359]}], \"hovertemplate\": \"Country=Rwanda<br>%{xaxis.title.text}=%{x}<br>%{yaxis.title.text}=%{y}<extra></extra>\", \"legendgroup\": \"Rwanda\", \"marker\": {\"color\": \"#ab63fa\", \"symbol\": \"circle\"}, \"name\": \"Rwanda\", \"showlegend\": true, \"type\": \"splom\"}, {\"dimensions\": [{\"axis\": {\"matches\": true}, \"label\": \"Generosity\", \"values\": [0.1826, 0.2018, 0.207948461174965, 0.163, 0.175]}, {\"axis\": {\"matches\": true}, \"label\": \"Economy\", \"values\": [0.28665, 0.39499, 0.43108540773391707, 0.37799999999999995, 0.39299999999999996]}], \"hovertemplate\": \"Country=Benin<br>%{xaxis.title.text}=%{x}<br>%{yaxis.title.text}=%{y}<extra></extra>\", \"legendgroup\": \"Benin\", \"marker\": {\"color\": \"#FFA15A\", \"symbol\": \"circle\"}, \"name\": \"Benin\", \"showlegend\": true, \"type\": \"splom\"}, {\"dimensions\": [{\"axis\": {\"matches\": true}, \"label\": \"Generosity\", \"values\": [0.47179, 0.48396999999999996, 0.49366372823715204, 0.376, 0.331]}, {\"axis\": {\"matches\": true}, \"label\": \"Economy\", \"values\": [0.6632, 0.7471899999999999, 0.777153134346008, 0.6890000000000001, 0.619]}], \"hovertemplate\": \"Country=Syria<br>%{xaxis.title.text}=%{x}<br>%{yaxis.title.text}=%{y}<extra></extra>\", \"legendgroup\": \"Syria\", \"marker\": {\"color\": \"#19d3f3\", \"symbol\": \"circle\"}, \"name\": \"Syria\", \"showlegend\": true, \"type\": \"splom\"}, {\"dimensions\": [{\"axis\": {\"matches\": true}, \"label\": \"Generosity\", \"values\": [0.19727, 0.2029, 0.20443518459796897, 0.149, 0.17600000000000002]}, {\"axis\": {\"matches\": true}, \"label\": \"Economy\", \"values\": [0.0153, 0.06831, 0.09162256866693501, 0.091, 0.046]}], \"hovertemplate\": \"Country=Burundi<br>%{xaxis.title.text}=%{x}<br>%{yaxis.title.text}=%{y}<extra></extra>\", \"legendgroup\": \"Burundi\", \"marker\": {\"color\": \"#FF6692\", \"symbol\": \"circle\"}, \"name\": \"Burundi\", \"showlegend\": true, \"type\": \"splom\"}, {\"dimensions\": [{\"axis\": {\"matches\": true}, \"label\": \"Generosity\", \"values\": [0.16680999999999999, 0.17517, 0.19689615070819896, 0.158, 0.177]}, {\"axis\": {\"matches\": true}, \"label\": \"Economy\", \"values\": [0.20868, 0.28123000000000004, 0.30544471740722695, 0.259, 0.275]}], \"hovertemplate\": \"Country=Togo<br>%{xaxis.title.text}=%{x}<br>%{yaxis.title.text}=%{y}<extra></extra>\", \"legendgroup\": \"Togo\", \"marker\": {\"color\": \"#B6E880\", \"symbol\": \"circle\"}, \"name\": \"Togo\", \"showlegend\": true, \"type\": \"splom\"}, {\"dimensions\": [{\"axis\": {\"matches\": true}, \"label\": \"Generosity\", \"values\": [0.22202]}, {\"axis\": {\"matches\": true}, \"label\": \"Economy\", \"values\": [1.35943]}], \"hovertemplate\": \"Country=Puerto Rico<br>%{xaxis.title.text}=%{x}<br>%{yaxis.title.text}=%{y}<extra></extra>\", \"legendgroup\": \"Puerto Rico\", \"marker\": {\"color\": \"#FF97FF\", \"symbol\": \"circle\"}, \"name\": \"Puerto Rico\", \"showlegend\": true, \"type\": \"splom\"}, {\"dimensions\": [{\"axis\": {\"matches\": true}, \"label\": \"Generosity\", \"values\": [0.23684000000000002, 0.24001564085483604, 0.183]}, {\"axis\": {\"matches\": true}, \"label\": \"Economy\", \"values\": [0.87616, 0.907975316047668, 0.807]}], \"hovertemplate\": \"Country=Belize<br>%{xaxis.title.text}=%{x}<br>%{yaxis.title.text}=%{y}<extra></extra>\", \"legendgroup\": \"Belize\", \"marker\": {\"color\": \"#FECB52\", \"symbol\": \"circle\"}, \"name\": \"Belize\", \"showlegend\": true, \"type\": \"splom\"}, {\"dimensions\": [{\"axis\": {\"matches\": true}, \"label\": \"Generosity\", \"values\": [0.27225, 0.291631311178207, 0.23800000000000002, 0.243]}, {\"axis\": {\"matches\": true}, \"label\": \"Economy\", \"values\": [0.0, 0.0226431842893362, 0.0, 0.0]}], \"hovertemplate\": \"Country=Somalia<br>%{xaxis.title.text}=%{x}<br>%{yaxis.title.text}=%{y}<extra></extra>\", \"legendgroup\": \"Somalia\", \"marker\": {\"color\": \"#636efa\", \"symbol\": \"circle\"}, \"name\": \"Somalia\", \"showlegend\": true, \"type\": \"splom\"}, {\"dimensions\": [{\"axis\": {\"matches\": true}, \"label\": \"Generosity\", \"values\": [0.51479]}, {\"axis\": {\"matches\": true}, \"label\": \"Economy\", \"values\": [0.25558000000000003]}], \"hovertemplate\": \"Country=Somaliland Region<br>%{xaxis.title.text}=%{x}<br>%{yaxis.title.text}=%{y}<extra></extra>\", \"legendgroup\": \"Somaliland Region\", \"marker\": {\"color\": \"#EF553B\", \"symbol\": \"circle\"}, \"name\": \"Somaliland Region\", \"showlegend\": true, \"type\": \"splom\"}, {\"dimensions\": [{\"axis\": {\"matches\": true}, \"label\": \"Generosity\", \"values\": [0.07795, 0.0771337449550629, 0.051, 0.07]}, {\"axis\": {\"matches\": true}, \"label\": \"Economy\", \"values\": [0.9328700000000001, 0.964434325695038, 0.8740000000000001, 0.879]}], \"hovertemplate\": \"Country=Namibia<br>%{xaxis.title.text}=%{x}<br>%{yaxis.title.text}=%{y}<extra></extra>\", \"legendgroup\": \"Namibia\", \"marker\": {\"color\": \"#00cc96\", \"symbol\": \"circle\"}, \"name\": \"Namibia\", \"showlegend\": true, \"type\": \"splom\"}, {\"dimensions\": [{\"axis\": {\"matches\": true}, \"label\": \"Generosity\", \"values\": [0.25899, 0.285670816898346, 0.22399999999999998, 0.20199999999999999]}, {\"axis\": {\"matches\": true}, \"label\": \"Economy\", \"values\": [0.39394, 0.39724862575531, 0.337, 0.306]}], \"hovertemplate\": \"Country=South Sudan<br>%{xaxis.title.text}=%{x}<br>%{yaxis.title.text}=%{y}<extra></extra>\", \"legendgroup\": \"South Sudan\", \"marker\": {\"color\": \"#ab63fa\", \"symbol\": \"circle\"}, \"name\": \"South Sudan\", \"showlegend\": true, \"type\": \"splom\"}, {\"dimensions\": [{\"axis\": {\"matches\": true}, \"label\": \"Generosity\", \"values\": [0.258360475301743]}, {\"axis\": {\"matches\": true}, \"label\": \"Economy\", \"values\": [1.4336265325546298]}], \"hovertemplate\": \"Country=Taiwan Province of China<br>%{xaxis.title.text}=%{x}<br>%{yaxis.title.text}=%{y}<extra></extra>\", \"legendgroup\": \"Taiwan Province of China\", \"marker\": {\"color\": \"#FFA15A\", \"symbol\": \"circle\"}, \"name\": \"Taiwan Province of China\", \"showlegend\": true, \"type\": \"splom\"}, {\"dimensions\": [{\"axis\": {\"matches\": true}, \"label\": \"Generosity\", \"values\": [0.374465793371201]}, {\"axis\": {\"matches\": true}, \"label\": \"Economy\", \"values\": [1.55167484283447]}], \"hovertemplate\": \"Country=Hong Kong S.A.R., China<br>%{xaxis.title.text}=%{x}<br>%{yaxis.title.text}=%{y}<extra></extra>\", \"legendgroup\": \"Hong Kong S.A.R., China\", \"marker\": {\"color\": \"#19d3f3\", \"symbol\": \"circle\"}, \"name\": \"Hong Kong S.A.R., China\", \"showlegend\": true, \"type\": \"splom\"}, {\"dimensions\": [{\"axis\": {\"matches\": true}, \"label\": \"Generosity\", \"values\": [0.171, 0.185]}, {\"axis\": {\"matches\": true}, \"label\": \"Economy\", \"values\": [1.2229999999999999, 1.2309999999999999]}], \"hovertemplate\": \"Country=Trinidad & Tobago<br>%{xaxis.title.text}=%{x}<br>%{yaxis.title.text}=%{y}<extra></extra>\", \"legendgroup\": \"Trinidad & Tobago\", \"marker\": {\"color\": \"#FF6692\", \"symbol\": \"circle\"}, \"name\": \"Trinidad & Tobago\", \"showlegend\": true, \"type\": \"splom\"}, {\"dimensions\": [{\"axis\": {\"matches\": true}, \"label\": \"Generosity\", \"values\": [0.179, 0.191]}, {\"axis\": {\"matches\": true}, \"label\": \"Economy\", \"values\": [1.229, 1.263]}], \"hovertemplate\": \"Country=Northern Cyprus<br>%{xaxis.title.text}=%{x}<br>%{yaxis.title.text}=%{y}<extra></extra>\", \"legendgroup\": \"Northern Cyprus\", \"marker\": {\"color\": \"#B6E880\", \"symbol\": \"circle\"}, \"name\": \"Northern Cyprus\", \"showlegend\": true, \"type\": \"splom\"}, {\"dimensions\": [{\"axis\": {\"matches\": true}, \"label\": \"Generosity\", \"values\": [0.185]}, {\"axis\": {\"matches\": true}, \"label\": \"Economy\", \"values\": [0.983]}], \"hovertemplate\": \"Country=North Macedonia<br>%{xaxis.title.text}=%{x}<br>%{yaxis.title.text}=%{y}<extra></extra>\", \"legendgroup\": \"North Macedonia\", \"marker\": {\"color\": \"#FF97FF\", \"symbol\": \"circle\"}, \"name\": \"North Macedonia\", \"showlegend\": true, \"type\": \"splom\"}, {\"dimensions\": [{\"axis\": {\"matches\": true}, \"label\": \"Generosity\", \"values\": [0.26899999999999996]}, {\"axis\": {\"matches\": true}, \"label\": \"Economy\", \"values\": [0.308]}], \"hovertemplate\": \"Country=Gambia<br>%{xaxis.title.text}=%{x}<br>%{yaxis.title.text}=%{y}<extra></extra>\", \"legendgroup\": \"Gambia\", \"marker\": {\"color\": \"#FECB52\", \"symbol\": \"circle\"}, \"name\": \"Gambia\", \"showlegend\": true, \"type\": \"splom\"}],\n",
       "                        {\"dragmode\": \"select\", \"legend\": {\"title\": {\"text\": \"Country\"}, \"tracegroupgap\": 0}, \"margin\": {\"t\": 60}, \"template\": {\"data\": {\"bar\": [{\"error_x\": {\"color\": \"#2a3f5f\"}, \"error_y\": {\"color\": \"#2a3f5f\"}, \"marker\": {\"line\": {\"color\": \"#E5ECF6\", \"width\": 0.5}}, \"type\": \"bar\"}], \"barpolar\": [{\"marker\": {\"line\": {\"color\": \"#E5ECF6\", \"width\": 0.5}}, \"type\": \"barpolar\"}], \"carpet\": [{\"aaxis\": {\"endlinecolor\": \"#2a3f5f\", \"gridcolor\": \"white\", \"linecolor\": \"white\", \"minorgridcolor\": \"white\", \"startlinecolor\": \"#2a3f5f\"}, \"baxis\": {\"endlinecolor\": \"#2a3f5f\", \"gridcolor\": \"white\", \"linecolor\": \"white\", \"minorgridcolor\": \"white\", \"startlinecolor\": \"#2a3f5f\"}, \"type\": \"carpet\"}], \"choropleth\": [{\"colorbar\": {\"outlinewidth\": 0, \"ticks\": \"\"}, \"type\": \"choropleth\"}], \"contour\": [{\"colorbar\": {\"outlinewidth\": 0, \"ticks\": \"\"}, \"colorscale\": [[0.0, \"#0d0887\"], [0.1111111111111111, \"#46039f\"], [0.2222222222222222, \"#7201a8\"], [0.3333333333333333, \"#9c179e\"], [0.4444444444444444, \"#bd3786\"], [0.5555555555555556, \"#d8576b\"], [0.6666666666666666, \"#ed7953\"], [0.7777777777777778, \"#fb9f3a\"], [0.8888888888888888, \"#fdca26\"], [1.0, \"#f0f921\"]], \"type\": \"contour\"}], \"contourcarpet\": [{\"colorbar\": {\"outlinewidth\": 0, \"ticks\": \"\"}, \"type\": \"contourcarpet\"}], \"heatmap\": [{\"colorbar\": {\"outlinewidth\": 0, \"ticks\": \"\"}, \"colorscale\": [[0.0, \"#0d0887\"], [0.1111111111111111, \"#46039f\"], [0.2222222222222222, \"#7201a8\"], [0.3333333333333333, \"#9c179e\"], [0.4444444444444444, \"#bd3786\"], [0.5555555555555556, \"#d8576b\"], [0.6666666666666666, \"#ed7953\"], [0.7777777777777778, \"#fb9f3a\"], [0.8888888888888888, \"#fdca26\"], [1.0, \"#f0f921\"]], \"type\": \"heatmap\"}], \"heatmapgl\": [{\"colorbar\": {\"outlinewidth\": 0, \"ticks\": \"\"}, \"colorscale\": [[0.0, \"#0d0887\"], [0.1111111111111111, \"#46039f\"], [0.2222222222222222, \"#7201a8\"], [0.3333333333333333, \"#9c179e\"], [0.4444444444444444, \"#bd3786\"], [0.5555555555555556, \"#d8576b\"], [0.6666666666666666, \"#ed7953\"], [0.7777777777777778, \"#fb9f3a\"], [0.8888888888888888, \"#fdca26\"], [1.0, \"#f0f921\"]], \"type\": \"heatmapgl\"}], \"histogram\": [{\"marker\": {\"colorbar\": {\"outlinewidth\": 0, \"ticks\": \"\"}}, \"type\": \"histogram\"}], \"histogram2d\": [{\"colorbar\": {\"outlinewidth\": 0, \"ticks\": \"\"}, \"colorscale\": [[0.0, \"#0d0887\"], [0.1111111111111111, \"#46039f\"], [0.2222222222222222, \"#7201a8\"], [0.3333333333333333, \"#9c179e\"], [0.4444444444444444, \"#bd3786\"], [0.5555555555555556, \"#d8576b\"], [0.6666666666666666, \"#ed7953\"], [0.7777777777777778, \"#fb9f3a\"], [0.8888888888888888, \"#fdca26\"], [1.0, \"#f0f921\"]], \"type\": \"histogram2d\"}], \"histogram2dcontour\": [{\"colorbar\": {\"outlinewidth\": 0, \"ticks\": \"\"}, \"colorscale\": [[0.0, \"#0d0887\"], [0.1111111111111111, \"#46039f\"], [0.2222222222222222, \"#7201a8\"], [0.3333333333333333, \"#9c179e\"], [0.4444444444444444, \"#bd3786\"], [0.5555555555555556, \"#d8576b\"], [0.6666666666666666, \"#ed7953\"], [0.7777777777777778, \"#fb9f3a\"], [0.8888888888888888, \"#fdca26\"], [1.0, \"#f0f921\"]], \"type\": \"histogram2dcontour\"}], \"mesh3d\": [{\"colorbar\": {\"outlinewidth\": 0, \"ticks\": \"\"}, \"type\": \"mesh3d\"}], \"parcoords\": [{\"line\": {\"colorbar\": {\"outlinewidth\": 0, \"ticks\": \"\"}}, \"type\": \"parcoords\"}], \"pie\": [{\"automargin\": true, \"type\": \"pie\"}], \"scatter\": [{\"marker\": {\"colorbar\": {\"outlinewidth\": 0, \"ticks\": \"\"}}, \"type\": \"scatter\"}], \"scatter3d\": [{\"line\": {\"colorbar\": {\"outlinewidth\": 0, \"ticks\": \"\"}}, \"marker\": {\"colorbar\": {\"outlinewidth\": 0, \"ticks\": \"\"}}, \"type\": \"scatter3d\"}], \"scattercarpet\": [{\"marker\": {\"colorbar\": {\"outlinewidth\": 0, \"ticks\": \"\"}}, \"type\": \"scattercarpet\"}], \"scattergeo\": [{\"marker\": {\"colorbar\": {\"outlinewidth\": 0, \"ticks\": \"\"}}, \"type\": \"scattergeo\"}], \"scattergl\": [{\"marker\": {\"colorbar\": {\"outlinewidth\": 0, \"ticks\": \"\"}}, \"type\": \"scattergl\"}], \"scattermapbox\": [{\"marker\": {\"colorbar\": {\"outlinewidth\": 0, \"ticks\": \"\"}}, \"type\": \"scattermapbox\"}], \"scatterpolar\": [{\"marker\": {\"colorbar\": {\"outlinewidth\": 0, \"ticks\": \"\"}}, \"type\": \"scatterpolar\"}], \"scatterpolargl\": [{\"marker\": {\"colorbar\": {\"outlinewidth\": 0, \"ticks\": \"\"}}, \"type\": \"scatterpolargl\"}], \"scatterternary\": [{\"marker\": {\"colorbar\": {\"outlinewidth\": 0, \"ticks\": \"\"}}, \"type\": \"scatterternary\"}], \"surface\": [{\"colorbar\": {\"outlinewidth\": 0, \"ticks\": \"\"}, \"colorscale\": [[0.0, \"#0d0887\"], [0.1111111111111111, \"#46039f\"], [0.2222222222222222, \"#7201a8\"], [0.3333333333333333, \"#9c179e\"], [0.4444444444444444, \"#bd3786\"], [0.5555555555555556, \"#d8576b\"], [0.6666666666666666, \"#ed7953\"], [0.7777777777777778, \"#fb9f3a\"], [0.8888888888888888, \"#fdca26\"], [1.0, \"#f0f921\"]], \"type\": \"surface\"}], \"table\": [{\"cells\": {\"fill\": {\"color\": \"#EBF0F8\"}, \"line\": {\"color\": \"white\"}}, \"header\": {\"fill\": {\"color\": \"#C8D4E3\"}, \"line\": {\"color\": \"white\"}}, \"type\": \"table\"}]}, \"layout\": {\"annotationdefaults\": {\"arrowcolor\": \"#2a3f5f\", \"arrowhead\": 0, \"arrowwidth\": 1}, \"coloraxis\": {\"colorbar\": {\"outlinewidth\": 0, \"ticks\": \"\"}}, \"colorscale\": {\"diverging\": [[0, \"#8e0152\"], [0.1, \"#c51b7d\"], [0.2, \"#de77ae\"], [0.3, \"#f1b6da\"], [0.4, \"#fde0ef\"], [0.5, \"#f7f7f7\"], [0.6, \"#e6f5d0\"], [0.7, \"#b8e186\"], [0.8, \"#7fbc41\"], [0.9, \"#4d9221\"], [1, \"#276419\"]], \"sequential\": [[0.0, \"#0d0887\"], [0.1111111111111111, \"#46039f\"], [0.2222222222222222, \"#7201a8\"], [0.3333333333333333, \"#9c179e\"], [0.4444444444444444, \"#bd3786\"], [0.5555555555555556, \"#d8576b\"], [0.6666666666666666, \"#ed7953\"], [0.7777777777777778, \"#fb9f3a\"], [0.8888888888888888, \"#fdca26\"], [1.0, \"#f0f921\"]], \"sequentialminus\": [[0.0, \"#0d0887\"], [0.1111111111111111, \"#46039f\"], [0.2222222222222222, \"#7201a8\"], [0.3333333333333333, \"#9c179e\"], [0.4444444444444444, \"#bd3786\"], [0.5555555555555556, \"#d8576b\"], [0.6666666666666666, \"#ed7953\"], [0.7777777777777778, \"#fb9f3a\"], [0.8888888888888888, \"#fdca26\"], [1.0, \"#f0f921\"]]}, \"colorway\": [\"#636efa\", \"#EF553B\", \"#00cc96\", \"#ab63fa\", \"#FFA15A\", \"#19d3f3\", \"#FF6692\", \"#B6E880\", \"#FF97FF\", \"#FECB52\"], \"font\": {\"color\": \"#2a3f5f\"}, \"geo\": {\"bgcolor\": \"white\", \"lakecolor\": \"white\", \"landcolor\": \"#E5ECF6\", \"showlakes\": true, \"showland\": true, \"subunitcolor\": \"white\"}, \"hoverlabel\": {\"align\": \"left\"}, \"hovermode\": \"closest\", \"mapbox\": {\"style\": \"light\"}, \"paper_bgcolor\": \"white\", \"plot_bgcolor\": \"#E5ECF6\", \"polar\": {\"angularaxis\": {\"gridcolor\": \"white\", \"linecolor\": \"white\", \"ticks\": \"\"}, \"bgcolor\": \"#E5ECF6\", \"radialaxis\": {\"gridcolor\": \"white\", \"linecolor\": \"white\", \"ticks\": \"\"}}, \"scene\": {\"xaxis\": {\"backgroundcolor\": \"#E5ECF6\", \"gridcolor\": \"white\", \"gridwidth\": 2, \"linecolor\": \"white\", \"showbackground\": true, \"ticks\": \"\", \"zerolinecolor\": \"white\"}, \"yaxis\": {\"backgroundcolor\": \"#E5ECF6\", \"gridcolor\": \"white\", \"gridwidth\": 2, \"linecolor\": \"white\", \"showbackground\": true, \"ticks\": \"\", \"zerolinecolor\": \"white\"}, \"zaxis\": {\"backgroundcolor\": \"#E5ECF6\", \"gridcolor\": \"white\", \"gridwidth\": 2, \"linecolor\": \"white\", \"showbackground\": true, \"ticks\": \"\", \"zerolinecolor\": \"white\"}}, \"shapedefaults\": {\"line\": {\"color\": \"#2a3f5f\"}}, \"ternary\": {\"aaxis\": {\"gridcolor\": \"white\", \"linecolor\": \"white\", \"ticks\": \"\"}, \"baxis\": {\"gridcolor\": \"white\", \"linecolor\": \"white\", \"ticks\": \"\"}, \"bgcolor\": \"#E5ECF6\", \"caxis\": {\"gridcolor\": \"white\", \"linecolor\": \"white\", \"ticks\": \"\"}}, \"title\": {\"x\": 0.05}, \"xaxis\": {\"automargin\": true, \"gridcolor\": \"white\", \"linecolor\": \"white\", \"ticks\": \"\", \"title\": {\"standoff\": 15}, \"zerolinecolor\": \"white\", \"zerolinewidth\": 2}, \"yaxis\": {\"automargin\": true, \"gridcolor\": \"white\", \"linecolor\": \"white\", \"ticks\": \"\", \"title\": {\"standoff\": 15}, \"zerolinecolor\": \"white\", \"zerolinewidth\": 2}}}},\n",
       "                        {\"responsive\": true}\n",
       "                    ).then(function(){\n",
       "                            \n",
       "var gd = document.getElementById('8cdcce46-7be1-4135-af99-b72720cff285');\n",
       "var x = new MutationObserver(function (mutations, observer) {{\n",
       "        var display = window.getComputedStyle(gd).display;\n",
       "        if (!display || display === 'none') {{\n",
       "            console.log([gd, 'removed!']);\n",
       "            Plotly.purge(gd);\n",
       "            observer.disconnect();\n",
       "        }}\n",
       "}});\n",
       "\n",
       "// Listen for the removal of the full notebook cells\n",
       "var notebookContainer = gd.closest('#notebook-container');\n",
       "if (notebookContainer) {{\n",
       "    x.observe(notebookContainer, {childList: true});\n",
       "}}\n",
       "\n",
       "// Listen for the clearing of the current output cell\n",
       "var outputEl = gd.closest('.output');\n",
       "if (outputEl) {{\n",
       "    x.observe(outputEl, {childList: true});\n",
       "}}\n",
       "\n",
       "                        })\n",
       "                };\n",
       "                });\n",
       "            </script>\n",
       "        </div>"
      ]
     },
     "metadata": {},
     "output_type": "display_data"
    }
   ],
   "source": [
    "# зависимость щедрости людей в разных странах от уровня счастья \n",
    "\n",
    "px.scatter_matrix(df, dimensions=[\"Generosity\", \"Economy\"], color=\"Country\")"
   ]
  },
  {
   "cell_type": "markdown",
   "metadata": {},
   "source": [
    "По этому графику мы можем увидеть, что уровень щедрости населения слабо связан с экономикой страны. Можем предположить, что щедрость скорее зависит от социальных факторов, чем от экономического положения - видим что жители большинства стран имеют достаточно низкий уровень щедрости, при этом можем увидеть, что выбросы относительно основного количества имеют южно-азиатские страны - возможно это связано с религиозными убеждениями. "
   ]
  },
  {
   "cell_type": "code",
   "execution_count": 53,
   "metadata": {},
   "outputs": [
    {
     "data": {
      "text/plain": [
       "<BarContainer object of 50 artists>"
      ]
     },
     "execution_count": 53,
     "metadata": {},
     "output_type": "execute_result"
    },
    {
     "data": {
      "image/png": "[encoded data removed]",
      "text/plain": [
       "<Figure size 720x504 with 1 Axes>"
      ]
     },
     "metadata": {
      "needs_background": "light"
     },
     "output_type": "display_data"
    }
   ],
   "source": [
    "df1 = df.groupby(df.index)\n",
    "plt.barh(df1.tail(10)[\"Country\"], df1.tail(10)[\"Freedom\"])\n",
    "plt.barh(df1.head(10)[\"Country\"], df1.head(10)[\"Freedom\"])\n"
   ]
  },
  {
   "cell_type": "markdown",
   "metadata": {},
   "source": [
    "Из результатов этого графика мы видим, что зависимость между уровнем счастья и ощущением совободы присутствует, но это не прямая зависимость - в странах с низким уровнем счастья уровень свободы может быть высоким - можно предположить, что это связано с анархией и неустойчивым режимом в стране - уровень жизни низкий, но население чувствует себя свободным в действиях и безнаказанным"
   ]
  },
  {
   "cell_type": "code",
   "execution_count": null,
   "metadata": {},
   "outputs": [],
   "source": []
  }
 ],
 "metadata": {
  "kernelspec": {
   "display_name": "Python 3",
   "language": "python",
   "name": "python3"
  },
  "language_info": {
   "codemirror_mode": {
    "name": "ipython",
    "version": 3
   },
   "file_extension": ".py",
   "mimetype": "text/x-python",
   "name": "python",
   "nbconvert_exporter": "python",
   "pygments_lexer": "ipython3",
   "version": "3.7.4"
  }
 },
 "nbformat": 4,
 "nbformat_minor": 4
}
