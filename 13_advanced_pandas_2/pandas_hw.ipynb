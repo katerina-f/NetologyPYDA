{
 "cells": [
  {
   "cell_type": "code",
   "execution_count": 1,
   "metadata": {},
   "outputs": [],
   "source": [
    "import pandas as pd"
   ]
  },
  {
   "cell_type": "markdown",
   "metadata": {},
   "source": [
    "#### Задание 1\n",
    "\n",
    "Используйте файл с оценками фильмов ml-latest-small/ratings.csv. Посчитайте среднее время жизни пользователей, которые выставили более 100 оценок. Под временем жизни понимается разница между максимальным и минимальным значением столбца timestamp для данного значения userId."
   ]
  },
  {
   "cell_type": "code",
   "execution_count": 2,
   "metadata": {},
   "outputs": [],
   "source": [
    "df_rat = pd.read_csv(\"ml-latest-small/ratings.csv\")"
   ]
  },
  {
   "cell_type": "code",
   "execution_count": 3,
   "metadata": {},
   "outputs": [
    {
     "data": {
      "text/html": [
       "<div>\n",
       "<style scoped>\n",
       "    .dataframe tbody tr th:only-of-type {\n",
       "        vertical-align: middle;\n",
       "    }\n",
       "\n",
       "    .dataframe tbody tr th {\n",
       "        vertical-align: top;\n",
       "    }\n",
       "\n",
       "    .dataframe thead th {\n",
       "        text-align: right;\n",
       "    }\n",
       "</style>\n",
       "<table border=\"1\" class=\"dataframe\">\n",
       "  <thead>\n",
       "    <tr style=\"text-align: right;\">\n",
       "      <th></th>\n",
       "      <th>userId</th>\n",
       "      <th>ratingCount</th>\n",
       "      <th>lifeTime</th>\n",
       "    </tr>\n",
       "  </thead>\n",
       "  <tbody>\n",
       "    <tr>\n",
       "      <th>77383</th>\n",
       "      <td>536</td>\n",
       "      <td>109</td>\n",
       "      <td>206</td>\n",
       "    </tr>\n",
       "    <tr>\n",
       "      <th>92084</th>\n",
       "      <td>609</td>\n",
       "      <td>140</td>\n",
       "      <td>848</td>\n",
       "    </tr>\n",
       "    <tr>\n",
       "      <th>45023</th>\n",
       "      <td>316</td>\n",
       "      <td>140</td>\n",
       "      <td>916</td>\n",
       "    </tr>\n",
       "    <tr>\n",
       "      <th>30526</th>\n",
       "      <td>217</td>\n",
       "      <td>104</td>\n",
       "      <td>981</td>\n",
       "    </tr>\n",
       "    <tr>\n",
       "      <th>16857</th>\n",
       "      <td>110</td>\n",
       "      <td>120</td>\n",
       "      <td>1148</td>\n",
       "    </tr>\n",
       "    <tr>\n",
       "      <th>...</th>\n",
       "      <td>...</td>\n",
       "      <td>...</td>\n",
       "      <td>...</td>\n",
       "    </tr>\n",
       "    <tr>\n",
       "      <th>93534</th>\n",
       "      <td>624</td>\n",
       "      <td>1735</td>\n",
       "      <td>457492507</td>\n",
       "    </tr>\n",
       "    <tr>\n",
       "      <th>962</th>\n",
       "      <td>15</td>\n",
       "      <td>1700</td>\n",
       "      <td>471393496</td>\n",
       "    </tr>\n",
       "    <tr>\n",
       "      <th>58738</th>\n",
       "      <td>427</td>\n",
       "      <td>294</td>\n",
       "      <td>476569256</td>\n",
       "    </tr>\n",
       "    <tr>\n",
       "      <th>78433</th>\n",
       "      <td>547</td>\n",
       "      <td>2391</td>\n",
       "      <td>501810535</td>\n",
       "    </tr>\n",
       "    <tr>\n",
       "      <th>51144</th>\n",
       "      <td>380</td>\n",
       "      <td>1063</td>\n",
       "      <td>515789661</td>\n",
       "    </tr>\n",
       "  </tbody>\n",
       "</table>\n",
       "<p>258 rows × 3 columns</p>\n",
       "</div>"
      ],
      "text/plain": [
       "       userId  ratingCount   lifeTime\n",
       "77383     536          109        206\n",
       "92084     609          140        848\n",
       "45023     316          140        916\n",
       "30526     217          104        981\n",
       "16857     110          120       1148\n",
       "...       ...          ...        ...\n",
       "93534     624         1735  457492507\n",
       "962        15         1700  471393496\n",
       "58738     427          294  476569256\n",
       "78433     547         2391  501810535\n",
       "51144     380         1063  515789661\n",
       "\n",
       "[258 rows x 3 columns]"
      ]
     },
     "execution_count": 3,
     "metadata": {},
     "output_type": "execute_result"
    }
   ],
   "source": [
    "def count_rating_and_timestamp(row):\n",
    "    row[\"ratingCount\"] = row.rating.count()\n",
    "    row[\"lifeTime\"] = row.timestamp.max() - row.timestamp.min()\n",
    "    return row\n",
    "    \n",
    "    \n",
    "data = df_rat.groupby(\"userId\").apply(count_rating_and_timestamp)[[\"userId\", \"ratingCount\", \"lifeTime\"]].drop_duplicates()\n",
    "data.loc[data.ratingCount > 100].sort_values(\"lifeTime\")"
   ]
  },
  {
   "cell_type": "code",
   "execution_count": null,
   "metadata": {},
   "outputs": [],
   "source": []
  }
 ],
 "metadata": {
  "kernelspec": {
   "display_name": "Python 3",
   "language": "python",
   "name": "python3"
  },
  "language_info": {
   "codemirror_mode": {
    "name": "ipython",
    "version": 3
   },
   "file_extension": ".py",
   "mimetype": "text/x-python",
   "name": "python",
   "nbconvert_exporter": "python",
   "pygments_lexer": "ipython3",
   "version": "3.7.4"
  }
 },
 "nbformat": 4,
 "nbformat_minor": 4
}
