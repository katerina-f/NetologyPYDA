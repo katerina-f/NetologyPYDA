{
 "cells": [
  {
   "cell_type": "markdown",
   "metadata": {},
   "source": [
    "#### Задание 1\n",
    "Получить интуицию, на что влияют параметры распределений. Построить по 5 функций плотностей с разными параметрами для каждого распределения: нормальное, экспоненциальное, Стьюдента на одном графике."
   ]
  },
  {
   "cell_type": "code",
   "execution_count": 9,
   "metadata": {},
   "outputs": [],
   "source": [
    "import pandas as pd\n",
    "import numpy as np\n",
    "import matplotlib.pyplot as plt\n",
    "import scipy.stats as sts\n",
    "\n",
    "%matplotlib inline"
   ]
  },
  {
   "cell_type": "code",
   "execution_count": 10,
   "metadata": {},
   "outputs": [
    {
     "data": {
      "text/plain": [
       "array([1.55773962, 1.91648903, 1.93874525, 2.47648885, 1.96757427,\n",
       "       2.6499127 , 2.39594138, 1.47796378, 2.20048023, 1.97026508])"
      ]
     },
     "execution_count": 10,
     "metadata": {},
     "output_type": "execute_result"
    }
   ],
   "source": [
    "#нормальное\n",
    "mu = 2.0\n",
    "sigma = 0.6\n",
    "norm_rv = sts.norm(loc=mu, scale=sigma)\n",
    "norm_rv.rvs(10)"
   ]
  },
  {
   "cell_type": "code",
   "execution_count": 11,
   "metadata": {},
   "outputs": [
    {
     "data": {
      "text/plain": [
       "array([0.27181558, 0.56983884, 0.69243517, 1.74468602, 0.25629878,\n",
       "       0.22081827, 1.01320034, 0.11276003, 1.42266631, 1.60709201])"
      ]
     },
     "execution_count": 11,
     "metadata": {},
     "output_type": "execute_result"
    }
   ],
   "source": [
    "#экспоненциальное\n",
    "lam = 0.1\n",
    "expon_rv = sts.expon(lam)\n",
    "expon_rv.rvs(10)"
   ]
  },
  {
   "cell_type": "code",
   "execution_count": 17,
   "metadata": {},
   "outputs": [
    {
     "data": {
      "text/plain": [
       "array([ 1.08786279e+00, -8.28245624e-01, -2.75093472e-01, -7.73528669e-01,\n",
       "       -2.25709453e+00,  2.97839359e-01,  6.29395343e-01, -3.09188709e-01,\n",
       "        8.38524125e-04, -8.52521993e-01])"
      ]
     },
     "execution_count": 17,
     "metadata": {},
     "output_type": "execute_result"
    }
   ],
   "source": [
    "#распределение Стьюдента\n",
    "n = 10\n",
    "t_rv = sts.t(n)\n",
    "t_rv.rvs(10)"
   ]
  },
  {
   "cell_type": "code",
   "execution_count": 20,
   "metadata": {},
   "outputs": [
    {
     "data": {
      "image/png": "[encoded data removed]",
      "text/plain": [
       "<Figure size 432x288 with 1 Axes>"
      ]
     },
     "metadata": {
      "needs_background": "light"
     },
     "output_type": "display_data"
    }
   ],
   "source": [
    "x = np.linspace(-5,5,100)\n",
    "pdf = norm_rv.pdf(x)\n",
    "plt.plot(x, pdf)\n",
    "\n",
    "pdf = expon_rv.pdf(x)\n",
    "plt.plot(x, pdf)\n",
    "\n",
    "\n",
    "pdf = t_rv.pdf(x)\n",
    "plt.plot(x, pdf)\n",
    "\n",
    "\n",
    "plt.ylabel('$f(x)$')\n",
    "plt.xlabel('$x$')\n",
    "plt.show()"
   ]
  },
  {
   "cell_type": "code",
   "execution_count": null,
   "metadata": {},
   "outputs": [],
   "source": []
  }
 ],
 "metadata": {
  "kernelspec": {
   "display_name": "Python 3.7.4 64-bit",
   "language": "python",
   "name": "python37464bit93ac571376e14c93a1d939bfab42d21b"
  },
  "language_info": {
   "codemirror_mode": {
    "name": "ipython",
    "version": 3
   },
   "file_extension": ".py",
   "mimetype": "text/x-python",
   "name": "python",
   "nbconvert_exporter": "python",
   "pygments_lexer": "ipython3",
   "version": "3.7.4"
  }
 },
 "nbformat": 4,
 "nbformat_minor": 4
}
