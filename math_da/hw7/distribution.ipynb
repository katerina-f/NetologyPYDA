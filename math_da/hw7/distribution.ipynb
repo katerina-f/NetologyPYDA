{
 "cells": [
  {
   "cell_type": "code",
   "execution_count": 5,
   "metadata": {},
   "outputs": [],
   "source": [
    "import matplotlib.pyplot as plt\n",
    "import numpy as np\n",
    "import random\n",
    "\n",
    "from numpy.random import choice\n",
    "from scipy.stats import *\n",
    "\n",
    "%matplotlib inline"
   ]
  },
  {
   "cell_type": "markdown",
   "metadata": {},
   "source": [
    "#### Уровень 0\n",
    "##### Задание 1\n",
    "Монетку подбрасывают 15 раз, найдите вероятность выпадения простого числа орлов (решение на бумажке и на python).\n"
   ]
  },
  {
   "cell_type": "markdown",
   "metadata": {},
   "source": [
    "###### имитация решения на бумажке \n",
    "Количество бросков n = 15\n",
    "\n",
    "общее число вариаций r = 2**15 = 32768\n",
    "\n",
    "15! = 1307674368000 \n",
    "\n",
    "Количество благоприятствующих комбинаций для  определенного количества раз по формуле Сkn = факториал n/ факториал k (кол-во раз) * факториал n-k \n",
    "\n",
    "количество выпадений k_list = 2, 3, 5, 7, 11, 13\n",
    "\n",
    "Общая вероятность - сумма вероятностей для каждого количества\n",
    "\n",
    "С215 = 15!/2!13! =  14 * 15 / 2 = 105\n",
    "\n",
    "P(2) (вероятность выпадения ровно 2 раз) = С215 / r = 105 / 32768 = 0.003204345703125\n",
    "\n",
    "C315 = 15!/3!12! = 455\n",
    "\n",
    "P(3) = 455 / 32768 = 0.013885498046875\n",
    "\n",
    "и т.д.\n",
    "\n",
    "P = P(2) + ... + P(13) = 0.349975585937501\n",
    "\n"
   ]
  },
  {
   "cell_type": "code",
   "execution_count": 9,
   "metadata": {},
   "outputs": [
    {
     "name": "stdout",
     "output_type": "stream",
     "text": [
      "Вероятность выпадения числа 2 = 0.003204345703125\n",
      "Вероятность выпадения числа 3 = 0.013885498046875\n",
      "Вероятность выпадения числа 5 = 0.091644287109375\n",
      "Вероятность выпадения числа 7 = 0.196380615234376\n",
      "Вероятность выпадения числа 11 = 0.041656494140625\n",
      "Вероятность выпадения числа 13 = 0.003204345703125\n",
      "Вероятность выпадения простого числа = 0.349975585937501\n"
     ]
    }
   ],
   "source": [
    "## \n",
    "\n",
    "prb = 0\n",
    "primes = [2, 3, 5, 7, 11, 13]\n",
    "p = 0.5\n",
    "n = 15\n",
    "\n",
    "for c in primes:\n",
    "    print ('Вероятность выпадения числа', c, '=', round(binom.pmf(c, n, p), 15))\n",
    "    prb += round(binom.pmf(c, n, p), 15)\n",
    "print ('Вероятность выпадения простого числа','=', prb)"
   ]
  },
  {
   "cell_type": "markdown",
   "metadata": {},
   "source": [
    "##### Задание 2\n",
    "Создайте свою дискретную случайную величину с не менее, чем 10 значениями. Просемплируйте 1000 случайных значений, постройте гистограмму плотности распределения по выборке, посчитайте среднее, дисперсию и медиану."
   ]
  },
  {
   "cell_type": "code",
   "execution_count": 10,
   "metadata": {},
   "outputs": [
    {
     "data": {
      "text/plain": [
       "1.0"
      ]
     },
     "execution_count": 10,
     "metadata": {},
     "output_type": "execute_result"
    }
   ],
   "source": [
    "elements = [1, 2, 3, 4, 7, 6, 5, 8, 9, 10, 11,12]\n",
    "probabilities = [0.5, 0.4, 0.02, 0.02, 0.01, 0.01, 0.01, 0.01, 0.005, 0.005, 0.005, 0.005]\n",
    "sum(probabilities)"
   ]
  },
  {
   "cell_type": "code",
   "execution_count": 11,
   "metadata": {},
   "outputs": [
    {
     "data": {
      "text/plain": [
       "array([ 2,  2,  3,  1,  2,  1,  2,  2,  2, 12])"
      ]
     },
     "execution_count": 11,
     "metadata": {},
     "output_type": "execute_result"
    }
   ],
   "source": [
    "random_value = np.random.choice(elements, 10, p=probabilities)\n",
    "random_value"
   ]
  },
  {
   "cell_type": "code",
   "execution_count": 25,
   "metadata": {},
   "outputs": [
    {
     "data": {
      "image/png": "[encoded data removed]",
      "text/plain": [
       "<Figure size 432x288 with 1 Axes>"
      ]
     },
     "metadata": {
      "needs_background": "light"
     },
     "output_type": "display_data"
    }
   ],
   "source": [
    "rez = np.random.choice(elements, 1000, p=probabilities)\n",
    "plt.hist(rez)\n",
    "plt.show()"
   ]
  },
  {
   "cell_type": "code",
   "execution_count": 26,
   "metadata": {},
   "outputs": [
    {
     "name": "stdout",
     "output_type": "stream",
     "text": [
      "Среднее:  2.9009\n",
      "Медиана:  2.0\n",
      "Дисперсия:  12.54887919\n"
     ]
    }
   ],
   "source": [
    "print ('Среднее: ', np.mean(s))\n",
    "print ('Медиана: ', np.median(s))\n",
    "print ('Дисперсия: ', np.var(s))"
   ]
  },
  {
   "cell_type": "code",
   "execution_count": null,
   "metadata": {},
   "outputs": [],
   "source": []
  }
 ],
 "metadata": {
  "kernelspec": {
   "display_name": "Python 3.7.4 64-bit",
   "language": "python",
   "name": "python37464bit93ac571376e14c93a1d939bfab42d21b"
  },
  "language_info": {
   "codemirror_mode": {
    "name": "ipython",
    "version": 3
   },
   "file_extension": ".py",
   "mimetype": "text/x-python",
   "name": "python",
   "nbconvert_exporter": "python",
   "pygments_lexer": "ipython3",
   "version": "3.7.4"
  }
 },
 "nbformat": 4,
 "nbformat_minor": 4
}
