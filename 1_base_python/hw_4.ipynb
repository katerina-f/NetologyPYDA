{
 "cells": [
  {
   "cell_type": "code",
   "execution_count": 14,
   "metadata": {},
   "outputs": [
    {
     "name": "stdout",
     "output_type": "stream",
     "text": [
      "Введите заработную плату в месяц: 70000\n",
      "Введите сколько процентов уходит на ипотеку: 50\n",
      "Введите сколько процентов уходит на жизнь: 40\n",
      "Введите количество премий за год: 2\n"
     ]
    }
   ],
   "source": [
    "salary_per_month = int(input('Введите заработную плату в месяц: '))\n",
    "percent_mortgage = int(input('Введите сколько процентов уходит на ипотеку: '))\n",
    "percent_for_life = int(input('Введите сколько процентов уходит на жизнь: '))\n",
    "premium_cost = salary_per_month\n",
    "count_premium = int(input('Введите количество премий за год: '))"
   ]
  },
  {
   "cell_type": "code",
   "execution_count": 15,
   "metadata": {},
   "outputs": [],
   "source": [
    "salary_year = salary_per_month * 12\n",
    "mortgage_year = salary_year / 100 * percent_mortgage\n",
    "life_cost_year = salary_year / 100 * percent_for_life\n",
    "accumulation = (premium_cost / 2 * count_premium) + (salary_year - (mortgage_year + life_cost_year))"
   ]
  },
  {
   "cell_type": "code",
   "execution_count": 18,
   "metadata": {},
   "outputs": [
    {
     "name": "stdout",
     "output_type": "stream",
     "text": [
      "На ипотеку было потрачено: 420000 рублей   Было накоплено: 154000 рублей\n"
     ]
    }
   ],
   "source": [
    "print(f'На ипотеку было потрачено: {int(mortgage_year)} рублей   Было накоплено: {int(accumulation)} рублей')"
   ]
  },
  {
   "cell_type": "code",
   "execution_count": null,
   "metadata": {},
   "outputs": [],
   "source": []
  }
 ],
 "metadata": {
  "kernelspec": {
   "display_name": "Python 3.7.4 64-bit",
   "language": "python",
   "name": "python37464bit93ac571376e14c93a1d939bfab42d21b"
  },
  "language_info": {
   "codemirror_mode": {
    "name": "ipython",
    "version": 3
   },
   "file_extension": ".py",
   "mimetype": "text/x-python",
   "name": "python",
   "nbconvert_exporter": "python",
   "pygments_lexer": "ipython3",
   "version": "3.7.4"
  }
 },
 "nbformat": 4,
 "nbformat_minor": 4
}
