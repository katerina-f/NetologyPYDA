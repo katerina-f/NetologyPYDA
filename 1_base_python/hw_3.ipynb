{
 "cells": [
  {
   "cell_type": "code",
   "execution_count": 7,
   "metadata": {},
   "outputs": [
    {
     "name": "stdout",
     "output_type": "stream",
     "text": [
      "Введите месяц: июнь\n",
      "Введите число: 11\n"
     ]
    }
   ],
   "source": [
    "month = input('Введите месяц: ')\n",
    "day = int(input('Введите число: '))"
   ]
  },
  {
   "cell_type": "code",
   "execution_count": 8,
   "metadata": {},
   "outputs": [
    {
     "name": "stdout",
     "output_type": "stream",
     "text": [
      "Близнецы\n"
     ]
    }
   ],
   "source": [
    "answer = 'Кажется вы где-то ошиблись, попробуйте снова. Месяц должен быть введен на русском языке, строчными буквами'\n",
    "if (month == 'январь' and day <= 19) or (month == 'декабрь' and day > 22):\n",
    "    answer = 'Козерог'\n",
    "elif (month == 'февраль' and day <= 18) or (month == 'январь' and day > 19):\n",
    "    answer = 'Водолей'\n",
    "elif (month == 'март' and day <= 20) or (month == 'февраль' and day > 18):\n",
    "    answer = 'Рыбы'\n",
    "elif (month == 'апрель' and day <= 19) or (month == 'март' and day > 20):\n",
    "    answer = 'Овен'\n",
    "elif (month == 'май' and day <= 20) or (month == 'апрель' and day > 19):\n",
    "    answer = 'Телец'\n",
    "elif (month == 'июнь' and day <= 20) or (month == 'май' and day > 20):\n",
    "    answer = 'Близнецы'\n",
    "elif (month == 'июль' and day <= 22) or (month == 'июнь' and day > 20):\n",
    "    answer = 'Рак'\n",
    "elif (month == 'август' and day <= 22) or (month == 'июль' and day > 22):\n",
    "    answer = 'Лев'\n",
    "elif (month == 'сентябрь' and day <= 22) or (month == 'август' and day > 22):\n",
    "    answer = 'Дева'\n",
    "elif (month == 'октябрь' and day <= 22) or (month == 'сентябрь' and day > 22):\n",
    "    answer = 'Весы'\n",
    "elif (month == 'ноябрь' and day <= 21) or (month == 'октябрь' and day > 22):\n",
    "    answer = 'Скорпион'\n",
    "elif (month == 'декабрь' and day <= 22) or (month == 'ноябрь' and day > 21):\n",
    "    answer = 'Стрелец'\n",
    "else:\n",
    "    pass\n",
    "print(answer)"
   ]
  },
  {
   "cell_type": "code",
   "execution_count": null,
   "metadata": {},
   "outputs": [],
   "source": []
  }
 ],
 "metadata": {
  "kernelspec": {
   "display_name": "Python 3.7.4 64-bit",
   "language": "python",
   "name": "python37464bit93ac571376e14c93a1d939bfab42d21b"
  },
  "language_info": {
   "codemirror_mode": {
    "name": "ipython",
    "version": 3
   },
   "file_extension": ".py",
   "mimetype": "text/x-python",
   "name": "python",
   "nbconvert_exporter": "python",
   "pygments_lexer": "ipython3",
   "version": "3.7.4"
  }
 },
 "nbformat": 4,
 "nbformat_minor": 4
}
