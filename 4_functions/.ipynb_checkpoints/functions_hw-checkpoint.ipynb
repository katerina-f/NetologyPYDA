{
 "cells": [
  {
   "cell_type": "code",
   "execution_count": 1,
   "metadata": {},
   "outputs": [],
   "source": [
    "documents = [\n",
    "    {'type': 'passport', 'number': '2207 876234', 'name': 'Василий Гупкин'},\n",
    "    {'type': 'invoice', 'number': '11-2', 'name': 'Геннадий Покемонов'},\n",
    "    {'type': 'insurance', 'number': '10006', 'name': 'Аристарх Павлов'}\n",
    "]\n",
    "\n",
    "directories = {\n",
    "    '1': ['2207 876234', '11-2'],\n",
    "    '2': ['10006'],\n",
    "    '3': []\n",
    "}\n"
   ]
  },
  {
   "cell_type": "code",
   "execution_count": 2,
   "metadata": {},
   "outputs": [],
   "source": [
    "def get_name_from_document_number():\n",
    "    user_input = \"\"\n",
    "    while  user_input is not \"q\":\n",
    "        user_input = input(\"Введите номер документа или q, чтобы выйти.\\n\")\n",
    "        if user_input == \"q\":\n",
    "            return\n",
    "        person = __get_doc_by_number(user_input)\n",
    "        if person:\n",
    "            print(person[\"name\"])\n",
    "        print(\"Документ не найден\")\n",
    "\n",
    "def __get_doc_by_number(number):\n",
    "    for person in documents:\n",
    "        if number == person[\"number\"]:\n",
    "            return person"
   ]
  },
  {
   "cell_type": "code",
   "execution_count": 3,
   "metadata": {},
   "outputs": [],
   "source": [
    "def get_documents_list():\n",
    "    for person in documents:\n",
    "        print(person[\"type\"],person[\"number\"],person[\"name\"])"
   ]
  },
  {
   "cell_type": "code",
   "execution_count": 4,
   "metadata": {},
   "outputs": [],
   "source": [
    "def add_shelf():\n",
    "    user_input = \"\"\n",
    "    while user_input is not \"q\":\n",
    "        user_input = input(\"Введите номер полки, которую хотите добавить, или q, чтобы выйти\\n\")\n",
    "        if user_input == \"q\":\n",
    "            break\n",
    "        \n",
    "        if directories.get(user_input) is not None:\n",
    "            print(\"Полка с таким идентификатором уже существует!\")\n",
    "        else:\n",
    "            directories[user_input] = []\n",
    "            print(\"Вы добавили новую пустую полку\")"
   ]
  },
  {
   "cell_type": "code",
   "execution_count": 5,
   "metadata": {},
   "outputs": [],
   "source": [
    "def add_document():\n",
    "    user_input = \"\"\n",
    "    while user_input is not \"q\":\n",
    "        user_input = input(\"Введите 'ad', чтобы добавить документ или 'q', чтобы выйти\")\n",
    "        if user_input == \"q\":\n",
    "            break\n",
    "        doc_type = input(\"Введите тип документа\\n\")\n",
    "        doc_number = input(\"Введите номер документа\\n\")\n",
    "        person_name = input(\"Введите имя и фамилию владельца\\n\")\n",
    "        person = {\"type\": doc_type, \"number\": doc_number, \"name\": person_name}\n",
    "        documents.append(person)\n",
    "        print(\"Документ добавлен в список документов\")\n",
    "        __add_doc_to_shelf(person)\n",
    "\n",
    "def __add_doc_to_shelf(person: dict):\n",
    "    while True:\n",
    "        user_input = input(\"Введите номер существующей полки для документа\\n\")\n",
    "        if user_input in directories:\n",
    "            directories[user_input].append(person[\"number\"])\n",
    "            print(\"Документ добавлен на полку\")\n",
    "            break\n",
    "        else:\n",
    "            print(\"Полки с таким идентификатором не существует\")"
   ]
  },
  {
   "cell_type": "code",
   "execution_count": 6,
   "metadata": {},
   "outputs": [],
   "source": [
    "def __find_shelf(target):\n",
    "    for number, shelf in directories.items():\n",
    "        if target in shelf:\n",
    "            return number\n",
    "\n",
    "def get_shelf_number():\n",
    "    user_input = \"\"\n",
    "    while user_input is not \"q\":\n",
    "        user_input = input(\"Введите номер документа или q, чтобы выйти.\\n\")\n",
    "        if user_input == \"q\":\n",
    "            break\n",
    "        number =  __find_shelf(user_input)\n",
    "        if number:\n",
    "            print(f\"Документ находится на полке номер {number}\")\n",
    "        else:\n",
    "            print(\"Документ не найден\")"
   ]
  },
  {
   "cell_type": "code",
   "execution_count": 7,
   "metadata": {},
   "outputs": [],
   "source": [
    "def move_to_shelf():\n",
    "    doc_number = \"\"\n",
    "    target_shelf = \"\"\n",
    "    current_shelf = \"\"\n",
    "    while True:\n",
    "        doc_number = input(\"Введите номер документа\\n\")\n",
    "        current_shelf = __find_shelf(doc_number)\n",
    "        if not current_shelf:\n",
    "            print(\"Документ не найден\")\n",
    "        else:\n",
    "            break\n",
    "\n",
    "    while True:\n",
    "        shelf_number = input(\"Введите номер полки\\n\")\n",
    "        target_shelf = directories.get(shelf_number)\n",
    "        if target_shelf is not None:\n",
    "            directories.get(current_shelf).remove(doc_number)\n",
    "            target_shelf.append(doc_number)\n",
    "            break\n",
    "        else:\n",
    "            print(\"Полка не найдена\")\n",
    "\n",
    "    print(\"Перенос документа завершен\", directories)"
   ]
  },
  {
   "cell_type": "code",
   "execution_count": 8,
   "metadata": {},
   "outputs": [],
   "source": [
    "def delete_doc():\n",
    "    while True:\n",
    "        doc_number = input(\"Введите номер документа или q, чтобы выйти.\\n\")\n",
    "        if doc_number == \"q\":\n",
    "            break\n",
    "        person = __get_doc_by_number(doc_number)\n",
    "        shelf = __find_shelf(doc_number)\n",
    "        if person:\n",
    "            documents.remove(person)\n",
    "            print(\"Документ удален из списка документов\")\n",
    "        if shelf:\n",
    "            directories[shelf].remove(doc_number)\n",
    "            print(\"Документ удален c полки\")\n",
    "        else:\n",
    "            print(\"Документ не найден\")"
   ]
  },
  {
   "cell_type": "code",
   "execution_count": null,
   "metadata": {},
   "outputs": [
    {
     "name": "stdout",
     "output_type": "stream",
     "text": [
      "Выберите интересующий вас запрос : p - поиск по документам, l - список документов, \n",
      "                            s - поиск местоположения документа, a - добавить документ, as - добавить полку, \n",
      "                            m - переместить документ на другую полку, d - удалить документ. Введите q для выхода.\n",
      "m\n",
      "Введите номер документа\n",
      "11-2\n",
      "Введите номер полки\n",
      "3\n",
      "Перенос документа завершен {'1': ['2207 876234'], '2': ['10006'], '3': ['11-2']}\n"
     ]
    }
   ],
   "source": [
    "def main() :\n",
    "    user_input = \"\"\n",
    "    while user_input is not \"q\":\n",
    "        user_input = input(\"Выберите интересующий вас запрос : p - поиск по документам, l - список документов, \\n\\\n",
    "                            s - поиск местоположения документа, a - добавить документ, as - добавить полку, \\n\\\n",
    "                            m - переместить документ на другую полку, d - удалить документ. Введите q для выхода.\\n\")\n",
    "        if user_input == \"p\":\n",
    "            get_name_from_document_number()\n",
    "        elif user_input == \"l\":\n",
    "            get_documents_list()\n",
    "        elif user_input == \"s\":\n",
    "            get_shelf_number()\n",
    "        elif user_input == \"a\":\n",
    "            add_document()\n",
    "        elif user_input == \"as\":\n",
    "            add_shelf()\n",
    "        elif user_input == \"m\":\n",
    "            move_to_shelf()\n",
    "        elif user_input == \"d\":\n",
    "            delete_doc()\n",
    "        elif user_input == \"q\":\n",
    "            print(\"До свидания!\")\n",
    "            break\n",
    "        else:\n",
    "            print(\"Команда не найдена\")\n",
    "            \n",
    "main()"
   ]
  },
  {
   "cell_type": "code",
   "execution_count": null,
   "metadata": {},
   "outputs": [],
   "source": []
  }
 ],
 "metadata": {
  "kernelspec": {
   "display_name": "Python 3",
   "language": "python",
   "name": "python3"
  },
  "language_info": {
   "codemirror_mode": {
    "name": "ipython",
    "version": 3
   },
   "file_extension": ".py",
   "mimetype": "text/x-python",
   "name": "python",
   "nbconvert_exporter": "python",
   "pygments_lexer": "ipython3",
   "version": "3.7.4"
  }
 },
 "nbformat": 4,
 "nbformat_minor": 4
}
